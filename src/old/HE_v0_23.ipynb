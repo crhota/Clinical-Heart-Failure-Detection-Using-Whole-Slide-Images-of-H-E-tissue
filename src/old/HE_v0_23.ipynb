{
  "nbformat": 4,
  "nbformat_minor": 0,
  "metadata": {
    "@webio": {
      "lastCommId": null,
      "lastKernelId": null
    },
    "accelerator": "GPU",
    "colab": {
      "name": "HE_v0_23.ipynb",
      "provenance": [],
      "collapsed_sections": [
        "a9LFF-vOo6t0",
        "GuVfy-J79VSx",
        "X4BaEWfpoq28",
        "DoV84asAovk9",
        "GlW_uOwYIEv3",
        "0dalPY9JlUjk",
        "rttCQhWPHOCE",
        "y1XTl8F6sKrr",
        "Z__HJG6gIxMj",
        "q4Ryh-JimjiK",
        "Ho0vVgWAmbpf",
        "zs0QIeKrmMQ1",
        "mg96Q_kol8D-",
        "KLXoJsxynoCB",
        "XEayMrPQnvSL",
        "6s5vSukpETho"
      ]
    },
    "kernelspec": {
      "display_name": "Python 3",
      "language": "python",
      "name": "python3"
    },
    "language_info": {
      "codemirror_mode": {
        "name": "ipython",
        "version": 3
      },
      "file_extension": ".py",
      "mimetype": "text/x-python",
      "name": "python",
      "nbconvert_exporter": "python",
      "pygments_lexer": "ipython3",
      "version": "3.7.3"
    }
  },
  "cells": [
    {
      "cell_type": "markdown",
      "metadata": {
        "id": "VTkgKJvoTUxt"
      },
      "source": [
        "**Clinical Heart Failure Detection Using Whole-Slide Images of H&E tissue**"
      ]
    },
    {
      "cell_type": "markdown",
      "metadata": {
        "id": "ouwKeET6nbZK"
      },
      "source": [
        "**Download Train, Validate and Test Images**"
      ]
    },
    {
      "cell_type": "markdown",
      "metadata": {
        "id": "AvHgttBNTUx2"
      },
      "source": [
        "- Source Link to the Dataset / Annotation File: https://idr.openmicroscopy.org/webclient/?show=project-402\n",
        "- Follow the instructions at following link, install IBM Aspera Desktop Client to download the dataset.\n",
        "- Copy downloaded folders to '**data/images**' folder in your working directory where you have this Jupyter Notebook:\n",
        "  - 'held-out_validation'\n",
        "  - 'training'"
      ]
    },
    {
      "cell_type": "markdown",
      "metadata": {
        "id": "Sa6xmGhlniIH"
      },
      "source": [
        "**Download Label Information for Train, Validate and Test Images** "
      ]
    },
    {
      "cell_type": "markdown",
      "metadata": {
        "id": "8QpqHhxkTUx2"
      },
      "source": [
        "- Following link will point to below Github link which has the annotation File: https://idr.openmicroscopy.org/webclient/?show=project-402\n",
        "- Source Link for the Annotation File: https://github.com/IDR/idr0042-nirschl-wsideeplearning/tree/master/experimentA\n",
        "- Download and copy file '**idr0042-experimentA-annotation.csv**' to '**data/labels/**' folder in your working directory where you have this Jupyter Notebook"
      ]
    },
    {
      "cell_type": "markdown",
      "metadata": {
        "id": "3586paiFoAvW"
      },
      "source": [
        "**Understand Images Folder Structure and Number of Images Available**"
      ]
    },
    {
      "cell_type": "markdown",
      "metadata": {
        "id": "iVqvp6TDTUx4"
      },
      "source": [
        "Training/Validation\n",
        "- \\..\\training\\fold_1: has images for training = 770#\n",
        "- \\..\\training\\test_fold_1: has images for validation = 374#\n",
        "- Total = 770 + 374 = 1144 images\n",
        "\n",
        "Test\n",
        "- \\..\\held-out_validation: has images for testing = 1155#"
      ]
    },
    {
      "cell_type": "markdown",
      "metadata": {
        "id": "Avjn1GKeoEd4"
      },
      "source": [
        "**Understand Annotation File and Label Information Available**"
      ]
    },
    {
      "cell_type": "markdown",
      "metadata": {
        "id": "-MOqlD8qTUx4"
      },
      "source": [
        "Relevant columns of interest:\n",
        "- Column A: Dataset Name: Classifies each row/instance as 'training' or 'test'\n",
        "- Column B: Image Name: Specifies filename of the image for the row/instance\n",
        "- Column Z: Experimental Condition [Diagnosis]: has 3 classes:\n",
        "  - 'chronic heart failure'\n",
        "  - 'heart tissue pathology' - We will treat this as 'not chronic heart failure'\n",
        "  - 'not chronic heart failure'\n",
        "- Column AA: Channels: mentions RGB => images are color images and will have 3 channels Red/Green/Blue (for CNN). \n",
        "  \n",
        "Breakup of training/test instances:\n",
        "- training\n",
        "  - 'chronic heart failure' = 517\n",
        "  - 'not chronic heart failure' = 627\n",
        "- test\n",
        "  - 'chronic heart failure' = 517\n",
        "  - 'not chronic heart failure' = 638\n",
        "\n",
        "Total 'training' = 517 + 627 = 1144  (Note: 'validate' is a portion of this 'training' set.)\n",
        "\n",
        "Total 'test' = 517 + 638 = 1155"
      ]
    },
    {
      "cell_type": "markdown",
      "metadata": {
        "id": "4Oem7YyjKL7Z"
      },
      "source": [
        "**Load Common Libraries**"
      ]
    },
    {
      "cell_type": "code",
      "metadata": {
        "id": "4rqxeoKlTUx5"
      },
      "source": [
        "# install OpenCV package - this is required only once\n",
        "# pip install opencv-python"
      ],
      "execution_count": 131,
      "outputs": []
    },
    {
      "cell_type": "code",
      "metadata": {
        "id": "HvKVTkfxTUx5"
      },
      "source": [
        "# aids in reading image files\r\n",
        "import cv2\r\n",
        "import glob\r\n",
        "# aids in working with arrays\r\n",
        "import numpy as np\r\n",
        "# aids in working with dataframes\r\n",
        "import pandas as pd\r\n",
        "# aids in calculation of time\r\n",
        "import time\r\n",
        "# aids in converting the labels to categorical\r\n",
        "from keras.utils import to_categorical"
      ],
      "execution_count": 132,
      "outputs": []
    },
    {
      "cell_type": "code",
      "metadata": {
        "colab": {
          "base_uri": "https://localhost:8080/"
        },
        "id": "aKWb8A5_VK_z",
        "outputId": "456df132-530f-4cb9-f783-d0286d1c691f"
      },
      "source": [
        "pip install keras-flops"
      ],
      "execution_count": 133,
      "outputs": [
        {
          "output_type": "stream",
          "text": [
            "Requirement already satisfied: keras-flops in /usr/local/lib/python3.6/dist-packages (0.1.2)\n",
            "Requirement already satisfied: tensorflow<3.0,>=2.2 in /usr/local/lib/python3.6/dist-packages (from keras-flops) (2.4.1)\n",
            "Requirement already satisfied: protobuf>=3.9.2 in /usr/local/lib/python3.6/dist-packages (from tensorflow<3.0,>=2.2->keras-flops) (3.12.4)\n",
            "Requirement already satisfied: gast==0.3.3 in /usr/local/lib/python3.6/dist-packages (from tensorflow<3.0,>=2.2->keras-flops) (0.3.3)\n",
            "Requirement already satisfied: grpcio~=1.32.0 in /usr/local/lib/python3.6/dist-packages (from tensorflow<3.0,>=2.2->keras-flops) (1.32.0)\n",
            "Requirement already satisfied: tensorboard~=2.4 in /usr/local/lib/python3.6/dist-packages (from tensorflow<3.0,>=2.2->keras-flops) (2.4.1)\n",
            "Requirement already satisfied: termcolor~=1.1.0 in /usr/local/lib/python3.6/dist-packages (from tensorflow<3.0,>=2.2->keras-flops) (1.1.0)\n",
            "Requirement already satisfied: tensorflow-estimator<2.5.0,>=2.4.0 in /usr/local/lib/python3.6/dist-packages (from tensorflow<3.0,>=2.2->keras-flops) (2.4.0)\n",
            "Requirement already satisfied: opt-einsum~=3.3.0 in /usr/local/lib/python3.6/dist-packages (from tensorflow<3.0,>=2.2->keras-flops) (3.3.0)\n",
            "Requirement already satisfied: typing-extensions~=3.7.4 in /usr/local/lib/python3.6/dist-packages (from tensorflow<3.0,>=2.2->keras-flops) (3.7.4.3)\n",
            "Requirement already satisfied: flatbuffers~=1.12.0 in /usr/local/lib/python3.6/dist-packages (from tensorflow<3.0,>=2.2->keras-flops) (1.12)\n",
            "Requirement already satisfied: six~=1.15.0 in /usr/local/lib/python3.6/dist-packages (from tensorflow<3.0,>=2.2->keras-flops) (1.15.0)\n",
            "Requirement already satisfied: absl-py~=0.10 in /usr/local/lib/python3.6/dist-packages (from tensorflow<3.0,>=2.2->keras-flops) (0.10.0)\n",
            "Requirement already satisfied: wheel~=0.35 in /usr/local/lib/python3.6/dist-packages (from tensorflow<3.0,>=2.2->keras-flops) (0.36.2)\n",
            "Requirement already satisfied: keras-preprocessing~=1.1.2 in /usr/local/lib/python3.6/dist-packages (from tensorflow<3.0,>=2.2->keras-flops) (1.1.2)\n",
            "Requirement already satisfied: wrapt~=1.12.1 in /usr/local/lib/python3.6/dist-packages (from tensorflow<3.0,>=2.2->keras-flops) (1.12.1)\n",
            "Requirement already satisfied: astunparse~=1.6.3 in /usr/local/lib/python3.6/dist-packages (from tensorflow<3.0,>=2.2->keras-flops) (1.6.3)\n",
            "Requirement already satisfied: h5py~=2.10.0 in /usr/local/lib/python3.6/dist-packages (from tensorflow<3.0,>=2.2->keras-flops) (2.10.0)\n",
            "Requirement already satisfied: numpy~=1.19.2 in /usr/local/lib/python3.6/dist-packages (from tensorflow<3.0,>=2.2->keras-flops) (1.19.5)\n",
            "Requirement already satisfied: google-pasta~=0.2 in /usr/local/lib/python3.6/dist-packages (from tensorflow<3.0,>=2.2->keras-flops) (0.2.0)\n",
            "Requirement already satisfied: setuptools in /usr/local/lib/python3.6/dist-packages (from protobuf>=3.9.2->tensorflow<3.0,>=2.2->keras-flops) (53.0.0)\n",
            "Requirement already satisfied: requests<3,>=2.21.0 in /usr/local/lib/python3.6/dist-packages (from tensorboard~=2.4->tensorflow<3.0,>=2.2->keras-flops) (2.23.0)\n",
            "Requirement already satisfied: google-auth-oauthlib<0.5,>=0.4.1 in /usr/local/lib/python3.6/dist-packages (from tensorboard~=2.4->tensorflow<3.0,>=2.2->keras-flops) (0.4.2)\n",
            "Requirement already satisfied: werkzeug>=0.11.15 in /usr/local/lib/python3.6/dist-packages (from tensorboard~=2.4->tensorflow<3.0,>=2.2->keras-flops) (1.0.1)\n",
            "Requirement already satisfied: tensorboard-plugin-wit>=1.6.0 in /usr/local/lib/python3.6/dist-packages (from tensorboard~=2.4->tensorflow<3.0,>=2.2->keras-flops) (1.8.0)\n",
            "Requirement already satisfied: markdown>=2.6.8 in /usr/local/lib/python3.6/dist-packages (from tensorboard~=2.4->tensorflow<3.0,>=2.2->keras-flops) (3.3.3)\n",
            "Requirement already satisfied: google-auth<2,>=1.6.3 in /usr/local/lib/python3.6/dist-packages (from tensorboard~=2.4->tensorflow<3.0,>=2.2->keras-flops) (1.24.0)\n",
            "Requirement already satisfied: urllib3!=1.25.0,!=1.25.1,<1.26,>=1.21.1 in /usr/local/lib/python3.6/dist-packages (from requests<3,>=2.21.0->tensorboard~=2.4->tensorflow<3.0,>=2.2->keras-flops) (1.24.3)\n",
            "Requirement already satisfied: certifi>=2017.4.17 in /usr/local/lib/python3.6/dist-packages (from requests<3,>=2.21.0->tensorboard~=2.4->tensorflow<3.0,>=2.2->keras-flops) (2020.12.5)\n",
            "Requirement already satisfied: idna<3,>=2.5 in /usr/local/lib/python3.6/dist-packages (from requests<3,>=2.21.0->tensorboard~=2.4->tensorflow<3.0,>=2.2->keras-flops) (2.10)\n",
            "Requirement already satisfied: chardet<4,>=3.0.2 in /usr/local/lib/python3.6/dist-packages (from requests<3,>=2.21.0->tensorboard~=2.4->tensorflow<3.0,>=2.2->keras-flops) (3.0.4)\n",
            "Requirement already satisfied: requests-oauthlib>=0.7.0 in /usr/local/lib/python3.6/dist-packages (from google-auth-oauthlib<0.5,>=0.4.1->tensorboard~=2.4->tensorflow<3.0,>=2.2->keras-flops) (1.3.0)\n",
            "Requirement already satisfied: importlib-metadata; python_version < \"3.8\" in /usr/local/lib/python3.6/dist-packages (from markdown>=2.6.8->tensorboard~=2.4->tensorflow<3.0,>=2.2->keras-flops) (3.4.0)\n",
            "Requirement already satisfied: rsa<5,>=3.1.4; python_version >= \"3.6\" in /usr/local/lib/python3.6/dist-packages (from google-auth<2,>=1.6.3->tensorboard~=2.4->tensorflow<3.0,>=2.2->keras-flops) (4.7)\n",
            "Requirement already satisfied: cachetools<5.0,>=2.0.0 in /usr/local/lib/python3.6/dist-packages (from google-auth<2,>=1.6.3->tensorboard~=2.4->tensorflow<3.0,>=2.2->keras-flops) (4.2.1)\n",
            "Requirement already satisfied: pyasn1-modules>=0.2.1 in /usr/local/lib/python3.6/dist-packages (from google-auth<2,>=1.6.3->tensorboard~=2.4->tensorflow<3.0,>=2.2->keras-flops) (0.2.8)\n",
            "Requirement already satisfied: oauthlib>=3.0.0 in /usr/local/lib/python3.6/dist-packages (from requests-oauthlib>=0.7.0->google-auth-oauthlib<0.5,>=0.4.1->tensorboard~=2.4->tensorflow<3.0,>=2.2->keras-flops) (3.1.0)\n",
            "Requirement already satisfied: zipp>=0.5 in /usr/local/lib/python3.6/dist-packages (from importlib-metadata; python_version < \"3.8\"->markdown>=2.6.8->tensorboard~=2.4->tensorflow<3.0,>=2.2->keras-flops) (3.4.0)\n",
            "Requirement already satisfied: pyasn1>=0.1.3 in /usr/local/lib/python3.6/dist-packages (from rsa<5,>=3.1.4; python_version >= \"3.6\"->google-auth<2,>=1.6.3->tensorboard~=2.4->tensorflow<3.0,>=2.2->keras-flops) (0.4.8)\n"
          ],
          "name": "stdout"
        }
      ]
    },
    {
      "cell_type": "code",
      "metadata": {
        "id": "XTqpP1dMVTmP"
      },
      "source": [
        "# aids in calculation of flops of the model\r\n",
        "from keras_flops import get_flops"
      ],
      "execution_count": 134,
      "outputs": []
    },
    {
      "cell_type": "markdown",
      "metadata": {
        "id": "PmuzEGsl12zy"
      },
      "source": [
        "**Mount Google Drive**"
      ]
    },
    {
      "cell_type": "markdown",
      "metadata": {
        "id": "1fL4wKtMLhw3"
      },
      "source": [
        "We need to mount the google drive so that we can then access the files from google drive."
      ]
    },
    {
      "cell_type": "code",
      "metadata": {
        "id": "nhVh4qU1U47e",
        "colab": {
          "base_uri": "https://localhost:8080/"
        },
        "outputId": "ff01ec03-09b3-40be-8be6-15c7fec4e787"
      },
      "source": [
        "# run this. click on the link it will ask for. get the authentication code. Copy/Paste in the cell. Hit Enter.\r\n",
        "from google.colab import drive\r\n",
        "drive.mount('/content/gdrive')"
      ],
      "execution_count": 135,
      "outputs": [
        {
          "output_type": "stream",
          "text": [
            "Drive already mounted at /content/gdrive; to attempt to forcibly remount, call drive.mount(\"/content/gdrive\", force_remount=True).\n"
          ],
          "name": "stdout"
        }
      ]
    },
    {
      "cell_type": "markdown",
      "metadata": {
        "id": "rmu8WoMlNJFY"
      },
      "source": [
        "**Get labels info into a dataframe**"
      ]
    },
    {
      "cell_type": "markdown",
      "metadata": {
        "id": "dAuHkpYPG_ld"
      },
      "source": [
        "We need to import the annotation file into a dataframe so that we can then access the labels information."
      ]
    },
    {
      "cell_type": "code",
      "metadata": {
        "id": "COjL64aeTUx7"
      },
      "source": [
        "# Google Drive / Colab\r\n",
        "filepath_annotation_file = r'/content/gdrive/MyDrive/Colab Notebooks/Clinical Heart Failure using H&E Images /data/labels/idr0042-experimentA-annotation.csv'\r\n",
        "labels = pd.read_csv(filepath_annotation_file)\r\n",
        "\r\n",
        "# Local Drive / Jupyter\r\n",
        "# labels = pd.read_csv('data/labels/idr0042-experimentA-annotation.csv')"
      ],
      "execution_count": 136,
      "outputs": []
    },
    {
      "cell_type": "code",
      "metadata": {
        "colab": {
          "base_uri": "https://localhost:8080/"
        },
        "id": "OYQ6b9n4IcCk",
        "outputId": "0634c4b8-f4f8-4ce6-8833-ba466156c3df"
      },
      "source": [
        "### for understanding purposes ###\r\n",
        "print(labels)\r\n",
        "print(type(labels))\r\n",
        "print(labels['Dataset Name'])\r\n",
        "print(labels['Dataset Name'][0])\r\n",
        "type(labels['Dataset Name'][0])\r\n",
        "print(labels['Image Name'])\r\n",
        "print(labels['Image Name'][0])\r\n",
        "type(labels['Image Name'][0])\r\n",
        "print(labels['Experimental Condition [Diagnosis]'])\r\n",
        "print(labels['Experimental Condition [Diagnosis]'][0])\r\n",
        "type(labels['Experimental Condition [Diagnosis]'][0])\r\n",
        "# confirm 'no info' cells have been encoded as 'nan'... check one entry\r\n",
        "print(labels['Characteristics [Disease Subtype]'][463])\r\n",
        "### for understanding purposes ###"
      ],
      "execution_count": 137,
      "outputs": [
        {
          "output_type": "stream",
          "text": [
            "     Dataset Name  ... Channels\n",
            "0        training  ...      RGB\n",
            "1        training  ...      RGB\n",
            "2        training  ...      RGB\n",
            "3        training  ...      RGB\n",
            "4        training  ...      RGB\n",
            "...           ...  ...      ...\n",
            "2294         test  ...      RGB\n",
            "2295         test  ...      RGB\n",
            "2296         test  ...      RGB\n",
            "2297         test  ...      RGB\n",
            "2298         test  ...      RGB\n",
            "\n",
            "[2299 rows x 27 columns]\n",
            "<class 'pandas.core.frame.DataFrame'>\n",
            "0       training\n",
            "1       training\n",
            "2       training\n",
            "3       training\n",
            "4       training\n",
            "          ...   \n",
            "2294        test\n",
            "2295        test\n",
            "2296        test\n",
            "2297        test\n",
            "2298        test\n",
            "Name: Dataset Name, Length: 2299, dtype: object\n",
            "training\n",
            "0       33381_0_fal_10_0.png\n",
            "1       33381_0_fal_14_0.png\n",
            "2       33381_0_fal_16_0.png\n",
            "3       33381_0_fal_18_0.png\n",
            "4       33381_0_fal_25_0.png\n",
            "                ...         \n",
            "2294    36175_1_nrm_18_0.png\n",
            "2295     36175_1_nrm_1_0.png\n",
            "2296    36175_1_nrm_20_0.png\n",
            "2297    36175_1_nrm_21_0.png\n",
            "2298     36175_1_nrm_2_0.png\n",
            "Name: Image Name, Length: 2299, dtype: object\n",
            "33381_0_fal_10_0.png\n",
            "0           chronic heart failure\n",
            "1           chronic heart failure\n",
            "2           chronic heart failure\n",
            "3           chronic heart failure\n",
            "4           chronic heart failure\n",
            "                  ...            \n",
            "2294    not chronic heart failure\n",
            "2295    not chronic heart failure\n",
            "2296    not chronic heart failure\n",
            "2297    not chronic heart failure\n",
            "2298    not chronic heart failure\n",
            "Name: Experimental Condition [Diagnosis], Length: 2299, dtype: object\n",
            "chronic heart failure\n",
            "nan\n"
          ],
          "name": "stdout"
        }
      ]
    },
    {
      "cell_type": "markdown",
      "metadata": {
        "id": "K54cMICV2vc9"
      },
      "source": [
        "**Function to prepare images and labels for CNN based Model**"
      ]
    },
    {
      "cell_type": "markdown",
      "metadata": {
        "id": "BxnppA2lTUx4"
      },
      "source": [
        "We need to read 'train, validate and test images' to arrays so that we can then use them to feed to our CNN model. We need to prepare the labels to match to CNN model's expectation. All the images are of type '*.png'. We will read filepath for all \"filenames with extension as 'png'\" into a list. Here, filepath means 'relative directory + filename'. We will extract filename of the image from the file path. This filename can then be used to get the label information from the annotation file."
      ]
    },
    {
      "cell_type": "code",
      "metadata": {
        "id": "0hMxdbgmIwW5"
      },
      "source": [
        "### for understanding purposes ###\r\n",
        "# This is useful for Local Drive / Jupyter. This scenario has '\\\\' between the directory and filename. \r\n",
        "# We can split the string to get directory and filename separately\r\n",
        "# directory, filename = filepathlist_train[0].split('\\\\')\r\n",
        "# print(directory)\r\n",
        "# print(filename)\r\n",
        "### for understanding purposes ###"
      ],
      "execution_count": 138,
      "outputs": []
    },
    {
      "cell_type": "code",
      "metadata": {
        "colab": {
          "base_uri": "https://localhost:8080/"
        },
        "id": "yZ897heXIGRk",
        "outputId": "7f953734-357b-495d-bdb2-3d9a9c429f2a"
      },
      "source": [
        "### for understanding purposes ###\r\n",
        "# Google Drive / Colab\r\n",
        "filepathlist_train = glob.glob('/content/gdrive/MyDrive/Colab Notebooks/Clinical Heart Failure using H&E Images /data/images/training/fold_1/*.png')\r\n",
        "# confirm you have got the total number of desired items in the list\r\n",
        "print(len(filepathlist_train))\r\n",
        "# check what an element in the filelist contain.\r\n",
        "# it has both directory information and the filename, we need to extract filename \r\n",
        "# the filename can then be used to check for the label info in the labels dataframe\r\n",
        "print(filepathlist_train[0])\r\n",
        "print(len(filepathlist_train[0]))\r\n",
        "print(filepathlist_train[0][-19:])\r\n",
        "print(filepathlist_train[0][len(filepathlist_train[0]) - 1])\r\n",
        "print(filepathlist_train[0][-1])\r\n",
        "### for understanding purposes ###"
      ],
      "execution_count": 139,
      "outputs": [
        {
          "output_type": "stream",
          "text": [
            "770\n",
            "/content/gdrive/MyDrive/Colab Notebooks/Clinical Heart Failure using H&E Images /data/images/training/fold_1/33392_0_fal_4_0.png\n",
            "128\n",
            "33392_0_fal_4_0.png\n",
            "g\n",
            "g\n"
          ],
          "name": "stdout"
        }
      ]
    },
    {
      "cell_type": "code",
      "metadata": {
        "colab": {
          "base_uri": "https://localhost:8080/"
        },
        "id": "8LJaZ8N-KDPy",
        "outputId": "aa7c35ac-6d39-435f-ae6c-88ab2cb885b4"
      },
      "source": [
        "### for understanding purposes ###\r\n",
        "# POC to get filename for a given filepath\r\n",
        "idx = -1\r\n",
        "while (filepathlist_train[0][idx] != '/'):\r\n",
        "  idx = idx - 1 \r\n",
        "# index currently points to '/' location, we need to start reading from next location to get file name\r\n",
        "print(idx)\r\n",
        "filename = filepathlist_train[0][idx + 1:]\r\n",
        "print(filename)\r\n",
        "### for understanding purposes ###"
      ],
      "execution_count": 140,
      "outputs": [
        {
          "output_type": "stream",
          "text": [
            "-20\n",
            "33392_0_fal_4_0.png\n"
          ],
          "name": "stdout"
        }
      ]
    },
    {
      "cell_type": "code",
      "metadata": {
        "id": "jeBgiYhJKbkK"
      },
      "source": [
        "### for understanding purposes ###\r\n",
        "# POC to iterate over multiple filepaths\r\n",
        "index_filepathlist = 0\r\n",
        "for filepath in filepathlist_train:\r\n",
        "    #print(index_filepathlist, filepath)\r\n",
        "    index_filepathlist += 1\r\n",
        "### for understanding purposes ###"
      ],
      "execution_count": 141,
      "outputs": []
    },
    {
      "cell_type": "code",
      "metadata": {
        "id": "lJ2-evaiKo4m"
      },
      "source": [
        "### for understanding purposes ###\r\n",
        "# read a file using the list containing the file path\r\n",
        "img = cv2.imread(filepathlist_train[0])\r\n",
        "### for understanding purposes ###"
      ],
      "execution_count": 142,
      "outputs": []
    },
    {
      "cell_type": "code",
      "metadata": {
        "id": "7KqlbiYajI1D"
      },
      "source": [
        "# function to count ones and zeroes in the label array\r\n",
        "def print_ones_zeroes (labels):\r\n",
        "  count_ones = 0\r\n",
        "  count_zeroes = 0\r\n",
        "  for i in range(len(labels)):\r\n",
        "    if (labels[i] == 1):\r\n",
        "      count_ones += 1\r\n",
        "    elif (labels[i] == 0):\r\n",
        "      count_zeroes += 1\r\n",
        "  print('Total Labels:',(count_ones + count_zeroes))\r\n",
        "  print('# of Class 1:',count_ones)   \r\n",
        "  print('# of Class 0:',count_zeroes)"
      ],
      "execution_count": 143,
      "outputs": []
    },
    {
      "cell_type": "code",
      "metadata": {
        "id": "NC6R5bJlpRLR"
      },
      "source": [
        "# function to prepare images & labels for the model\r\n",
        "def prepare_images_labels (path_to_img_files, labels_dataframe, resize = True):\r\n",
        "  start_time = time.time()\r\n",
        "  filepathlist = glob.glob(path_to_img_files)\r\n",
        "  # define the empty list that need to populated with info\r\n",
        "  images = []\r\n",
        "  labels = []\r\n",
        "  index_filepathlist = 0\r\n",
        "  # iterate for all items in the file path list\r\n",
        "  for filepath in filepathlist:\r\n",
        "      # prepare image list\r\n",
        "      img = cv2.imread(filepath)\r\n",
        "      if (resize == True):\r\n",
        "        dim = (224,224)\r\n",
        "        img = cv2.resize(img, dim)#, interpolation = inter)\r\n",
        "      images.append(img)\r\n",
        "      # prepare labels list\r\n",
        "      # extract filename from the file path\r\n",
        "      # Local Drive / Jupyter\r\n",
        "      # directory, filename = filepath.split('\\\\')\r\n",
        "      # Google Drive / Colab\r\n",
        "      index_character = -1\r\n",
        "      while (filepathlist[index_filepathlist][index_character] != '/'):\r\n",
        "        index_character = index_character - 1 \r\n",
        "      # character index currently points to '/' location, we need to start reading from next location to get file name\r\n",
        "      filename = filepathlist[index_filepathlist][index_character + 1:]\r\n",
        "      index_filepathlist += 1\r\n",
        "      # iterate for all items in our labels dataframe to search for the label\r\n",
        "      for index in range(len(labels_dataframe)):\r\n",
        "          # we will compare the filename with all the filenames in the 'Image Name' column of the labels dataframe\r\n",
        "          # when there is a match, we will copy the label from the 'Experimental Condition [Diagnosis]' column\r\n",
        "          if (filename == labels_dataframe['Image Name'][index]):\r\n",
        "              label = labels_dataframe['Experimental Condition [Diagnosis]'][index]\r\n",
        "              # encode Class1 and Class0 as applicable\r\n",
        "              if (label == 'chronic heart failure'):\r\n",
        "                  label = 1\r\n",
        "              elif (label == 'not chronic heart failure'):\r\n",
        "                  label = 0\r\n",
        "              elif (label == 'heart tissue pathology'):\r\n",
        "                  label = 0\r\n",
        "              # append the label to the list\r\n",
        "              labels.append(label)\r\n",
        "  # convert list to a numpy array and the values to float\r\n",
        "  images = np.array(images, dtype = 'float32')\r\n",
        "  # check the shape to confirm it is ready for CNN\r\n",
        "  # number of instances, width, height, number of channels\r\n",
        "  # number of instances = number of image\r\n",
        "  # number of channels = 3 ... as these are color images\r\n",
        "  print('Shape of Images:',images.shape)\r\n",
        "  # convert list to a numpy array and the values to int64\r\n",
        "  labels = np.array(labels, dtype = 'int64')\r\n",
        "  # check the shape to confirm it is ready for CNN\r\n",
        "  print('Shape of Labels:', labels.shape)\r\n",
        "  print_ones_zeroes(labels)\r\n",
        "  duration = time.time() - start_time \r\n",
        "  print(f'Images/Labels Prep Core Time = {duration}s')\r\n",
        "  return images, labels"
      ],
      "execution_count": 144,
      "outputs": []
    },
    {
      "cell_type": "markdown",
      "metadata": {
        "id": "a2xpvmempoa4"
      },
      "source": [
        "**Prepare Train Images and Train Labels**"
      ]
    },
    {
      "cell_type": "code",
      "metadata": {
        "id": "0PyeiK-Ulctu",
        "colab": {
          "base_uri": "https://localhost:8080/"
        },
        "outputId": "0a3ca0ec-8aee-41ef-e1a1-864b4bddefc5"
      },
      "source": [
        "# read filepath for all \"filenames with extension as 'png'\" into a list\r\n",
        "# here filepath means 'relative directory + filename'\r\n",
        "# Google Drive / Colab\r\n",
        "path_to_img_files = '/content/gdrive/MyDrive/Colab Notebooks/Clinical Heart Failure using H&E Images /data/images/training/fold_1/*.png'\r\n",
        "# Local Drive / Jupyter\r\n",
        "# filepathlist_train = glob.glob('data/images/training/fold_1/*.png')\r\n",
        "train_images, train_labels = prepare_images_labels (path_to_img_files, labels, True) # resize set to True to resize images to 224 x 224\r\n",
        "# save the labels before converting to categorical to use for cross validation splits\r\n",
        "train_labels_before_categorical = train_labels\r\n",
        "print('train_labels_before_categorical:', type(train_labels_before_categorical), len(train_labels_before_categorical), train_labels_before_categorical.shape)\r\n",
        "# convert labels to categorical\r\n",
        "train_labels = to_categorical(train_labels)"
      ],
      "execution_count": 145,
      "outputs": [
        {
          "output_type": "stream",
          "text": [
            "Shape of Images: (770, 224, 224, 3)\n",
            "Shape of Labels: (770,)\n",
            "Total Labels: 770\n",
            "# of Class 1: 352\n",
            "# of Class 0: 418\n",
            "Images/Labels Prep Core Time = 13.130262851715088s\n",
            "train_labels_before_categorical: <class 'numpy.ndarray'> 770 (770,)\n"
          ],
          "name": "stdout"
        }
      ]
    },
    {
      "cell_type": "markdown",
      "metadata": {
        "id": "mtvpF6A6TUyG"
      },
      "source": [
        "**Prepare Validation Images and Validation Labels**"
      ]
    },
    {
      "cell_type": "code",
      "metadata": {
        "colab": {
          "base_uri": "https://localhost:8080/"
        },
        "id": "mgWoRGe8Qr4K",
        "outputId": "d8d90063-f61e-4e6b-e68a-0485a7fa0b2d"
      },
      "source": [
        "# read filepath for all \"filenames with extension as 'png'\" into a list\r\n",
        "# here filepath means 'relative directory + filename'\r\n",
        "# Google Drive / Colab\r\n",
        "path_to_img_files = '/content/gdrive/MyDrive/Colab Notebooks/Clinical Heart Failure using H&E Images /data/images/training/test_fold_1/*.png'\r\n",
        "# Local Drive / Jupyter\r\n",
        "# filepathlist_validation = glob.glob('data/images/training/test_fold_1/*.png')\r\n",
        "validation_images, validation_labels = prepare_images_labels (path_to_img_files, labels, True) # resize set to True to resize images to 224 x 224\r\n",
        "# save the labels before converting to categorical to use for cross validation splits\r\n",
        "validation_labels_before_categorical = validation_labels\r\n",
        "print('validation_labels_before_categorical:', type(validation_labels_before_categorical), len(validation_labels_before_categorical), validation_labels_before_categorical.shape)\r\n",
        "# convert labels to categorical\r\n",
        "validation_labels = to_categorical(validation_labels)"
      ],
      "execution_count": 146,
      "outputs": [
        {
          "output_type": "stream",
          "text": [
            "Shape of Images: (374, 224, 224, 3)\n",
            "Shape of Labels: (374,)\n",
            "Total Labels: 374\n",
            "# of Class 1: 165\n",
            "# of Class 0: 209\n",
            "Images/Labels Prep Core Time = 6.708800315856934s\n",
            "validation_labels_before_categorical: <class 'numpy.ndarray'> 374 (374,)\n"
          ],
          "name": "stdout"
        }
      ]
    },
    {
      "cell_type": "markdown",
      "metadata": {
        "id": "EzMWmY9PTUyJ"
      },
      "source": [
        "**Prepare Test Images and Test Labels**"
      ]
    },
    {
      "cell_type": "code",
      "metadata": {
        "colab": {
          "base_uri": "https://localhost:8080/"
        },
        "id": "3BSx6BoNSWeR",
        "outputId": "8feed840-cd94-4953-cfb5-6ee575b9a252"
      },
      "source": [
        "# read filepath for all \"filenames with extension as 'png'\" into a list\r\n",
        "# here filepath means 'relative directory + filename'\r\n",
        "# Google Drive / Colab\r\n",
        "path_to_img_files = '/content/gdrive/MyDrive/Colab Notebooks/Clinical Heart Failure using H&E Images /data/images/held-out_validation/*.png'\r\n",
        "# Local Drive / Jupyter\r\n",
        "# filepathlist_test = glob.glob('data/images/held-out_validation/*.png')\r\n",
        "test_images, test_labels = prepare_images_labels (path_to_img_files, labels, True) # resize set to True to resize images to 224 x 224\r\n",
        "# save the labels before converting to categorical to use for cross validation splits\r\n",
        "test_labels_before_categorical = test_labels\r\n",
        "print('test_labels_before_categorical:', type(test_labels_before_categorical), len(test_labels_before_categorical), test_labels_before_categorical.shape)\r\n",
        "# convert labels to categorical\r\n",
        "test_labels = to_categorical(test_labels)"
      ],
      "execution_count": 147,
      "outputs": [
        {
          "output_type": "stream",
          "text": [
            "Shape of Images: (1155, 224, 224, 3)\n",
            "Shape of Labels: (1155,)\n",
            "Total Labels: 1155\n",
            "# of Class 1: 517\n",
            "# of Class 0: 638\n",
            "Images/Labels Prep Core Time = 19.53927183151245s\n",
            "test_labels_before_categorical: <class 'numpy.ndarray'> 1155 (1155,)\n"
          ],
          "name": "stdout"
        }
      ]
    },
    {
      "cell_type": "markdown",
      "metadata": {
        "id": "t2qDQBwAozQt"
      },
      "source": [
        "**Prepare All Images and Labels for Cross Validation**"
      ]
    },
    {
      "cell_type": "code",
      "metadata": {
        "colab": {
          "base_uri": "https://localhost:8080/"
        },
        "id": "UjOakGJaUhyN",
        "outputId": "42b36fae-0073-484c-d995-922277a42509"
      },
      "source": [
        "# confirm all are numpy arrays, length and shape\r\n",
        "print('train_images:', type(train_images), len(train_images), train_images.shape)\r\n",
        "print('validation_images:', type(validation_images), len(validation_images), validation_images.shape)\r\n",
        "print('test_images:', type(test_images), len(test_images), test_images.shape)\r\n",
        "print('Total Images:', len(train_images) + len(validation_images) + len(test_images))\r\n",
        "print('train_labels:', type(train_labels), len(train_labels), train_labels.shape)\r\n",
        "print('validation_labels:', type(validation_labels), len(validation_labels), validation_labels.shape)\r\n",
        "print('test_labels:', type(test_labels), len(test_labels), test_labels.shape)\r\n",
        "print('Total Labels:', len(train_labels) + len(validation_labels) + len(test_labels))\r\n",
        "# join train / validation / test arrays for images\r\n",
        "all_images = np.concatenate((train_images, validation_images, test_images))\r\n",
        "print('all_images:', type(all_images), len(all_images), all_images.shape)\r\n",
        "# join train / validation / test arrays for labels\r\n",
        "all_labels = np.concatenate((train_labels, validation_labels, test_labels))\r\n",
        "print('all_labels:', type(all_labels), len(all_labels), all_labels.shape)\r\n",
        "# prepare the labels to enable split during k-cross validation\r\n",
        "all_labels_before_categorical = np.concatenate((train_labels_before_categorical, validation_labels_before_categorical, test_labels_before_categorical))\r\n",
        "print('all_labels_before_categorical;', type(all_labels_before_categorical), len(all_labels_before_categorical), all_labels_before_categorical.shape)"
      ],
      "execution_count": 148,
      "outputs": [
        {
          "output_type": "stream",
          "text": [
            "train_images: <class 'numpy.ndarray'> 770 (770, 224, 224, 3)\n",
            "validation_images: <class 'numpy.ndarray'> 374 (374, 224, 224, 3)\n",
            "test_images: <class 'numpy.ndarray'> 1155 (1155, 224, 224, 3)\n",
            "Total Images: 2299\n",
            "train_labels: <class 'numpy.ndarray'> 770 (770, 2)\n",
            "validation_labels: <class 'numpy.ndarray'> 374 (374, 2)\n",
            "test_labels: <class 'numpy.ndarray'> 1155 (1155, 2)\n",
            "Total Labels: 2299\n",
            "all_images: <class 'numpy.ndarray'> 2299 (2299, 224, 224, 3)\n",
            "all_labels: <class 'numpy.ndarray'> 2299 (2299, 2)\n",
            "all_labels_before_categorical; <class 'numpy.ndarray'> 2299 (2299,)\n"
          ],
          "name": "stdout"
        }
      ]
    },
    {
      "cell_type": "markdown",
      "metadata": {
        "id": "mVZqztGYtAA1"
      },
      "source": [
        "**Define Common Hyperparameters**"
      ]
    },
    {
      "cell_type": "code",
      "metadata": {
        "id": "SMuD8SLxtKW_"
      },
      "source": [
        "# 1 epoch = 770 / 10 = 77 batches\r\n",
        "BATCH_SIZE = 10  \r\n",
        "# 1 epoch = 1 complete run of all train samples for training the model\r\n",
        "EPOCHS = 1 #100 \r\n",
        "LEARNING_RATE = 0.01\r\n",
        "DENSE_LAYER_NEURONS = 512\r\n",
        "DENSE_LAYER_DROPOUT = 0.4\r\n",
        "CROSS_VALIDATE = True\r\n",
        "CROSS_VALIDATION_FOLDS = 2 #4 \r\n",
        "TOTAL_TEST_SAMPLES = 1155\r\n",
        "\r\n",
        "# MobileNetV1\r\n",
        "# set trainable layers starting from 80th layer\r\n",
        "# 0 to 72 = Till Conv11 ; # 73 to 79 - Conv12; # 80 to 85 = Conv13 ; # 86 to 91 = Post Conv13 before Custom (GAP...) ; # 92 to 94 = Custom (Dense/Dropout/Dense(2))\r\n",
        "MOBILENETV1_TRAINABLE_START_LAYER = 80\r\n",
        "# MobileNetV2\r\n",
        "MOBILENETV2_TRAINABLE_START_LAYER = 151"
      ],
      "execution_count": 149,
      "outputs": []
    },
    {
      "cell_type": "markdown",
      "metadata": {
        "id": "-LU3ToUb9j4A"
      },
      "source": [
        "**Function to check values during training**"
      ]
    },
    {
      "cell_type": "code",
      "metadata": {
        "id": "t1GuG7z79iou"
      },
      "source": [
        "from keras.callbacks import ModelCheckpoint\r\n",
        "def checkpoint(path_to_model_parameters_file):\r\n",
        "  # path_to_model_parameters_file: file to which the weights need to be saved\r\n",
        "  # monitor: defines the quantity to monitor ... we will monitor validation accuracy\r\n",
        "  # verbose: verbose yes/no\r\n",
        "  # save_best_only: true then save weghts else save entire model\r\n",
        "  # mode: max if val_acc, min if val_loss, auto decides based on the quantity getting monitored\r\n",
        "  # save_freq: save_freq:  specify the frequency in number of batches seen\r\n",
        "  # period:  check after every epoch therefore 1\r\n",
        "  checkpoint_value = ModelCheckpoint(path_to_model_parameters_file, monitor='val_accuracy', verbose=1, save_best_only=True, mode='max', save_freq = 'epoch') #period=1\r\n",
        "  return checkpoint_value"
      ],
      "execution_count": 150,
      "outputs": []
    },
    {
      "cell_type": "markdown",
      "metadata": {
        "id": "u3N-zzlle46d"
      },
      "source": [
        "**Define function to train and validate the model**"
      ]
    },
    {
      "cell_type": "code",
      "metadata": {
        "id": "4FmsVrWpfEoi"
      },
      "source": [
        "# trains and validates model ... returns trained model, saves the best parameters file in the location provided\r\n",
        "def train_and_validate_model(model_name, trn_imgs, trn_lbls, val_imgs, val_lbls, path_to_model_params_file):\r\n",
        "  print('Model Train and Validation: Starting')\r\n",
        "  start_time = time.time()\r\n",
        "  model_name.fit(trn_imgs, trn_lbls, epochs = EPOCHS, batch_size = BATCH_SIZE, validation_data = (val_imgs, val_lbls), \r\n",
        "                 callbacks=[checkpoint(path_to_model_params_file)])\r\n",
        "  duration = time.time() - start_time\r\n",
        "  print(f'Train and Validation Time = {duration}s')\r\n",
        "  print('Model Train and Validation: Completed')\r\n",
        "  return model_name"
      ],
      "execution_count": 151,
      "outputs": []
    },
    {
      "cell_type": "markdown",
      "metadata": {
        "id": "2ao8ckISglsp"
      },
      "source": [
        "**Define function to test model with best parameters**"
      ]
    },
    {
      "cell_type": "code",
      "metadata": {
        "id": "IA1co8phgqFI"
      },
      "source": [
        "# test with best model (params from best epoch)\r\n",
        "def test_model_with_best_params(model_name, path_to_best_params_file, test_imgs, test_lbls):\r\n",
        "  print('Model Test: Starting')\r\n",
        "  model_name.load_weights(path_to_best_params_file)\r\n",
        "  start_time = time.time()\r\n",
        "  test_loss, test_acc = model_name.evaluate(test_imgs, test_lbls)\r\n",
        "  duration = time.time() - start_time\r\n",
        "  print(f'Test Time = {duration}s')\r\n",
        "  print(f'Test Time / sample = {duration/TOTAL_TEST_SAMPLES}s')\r\n",
        "  print('Model Test: Completed')\r\n",
        "  return model_name"
      ],
      "execution_count": 152,
      "outputs": []
    },
    {
      "cell_type": "markdown",
      "metadata": {
        "id": "RtanhXOwM2uk"
      },
      "source": [
        "**Define function to set the trainable layers for the model**"
      ]
    },
    {
      "cell_type": "code",
      "metadata": {
        "id": "DjTjWuD7Mv6m"
      },
      "source": [
        "def set_trainable_layers_starting_from(model_name, trainable_start_layer_number):\r\n",
        "  ############################################################################################################################################################################\r\n",
        "  # CONFIGURE LAYERS FOR TRAINING #\r\n",
        "  print(f'Layers Configuration: Starting')\r\n",
        "  for layer in model_name.layers[:trainable_start_layer_number]: \r\n",
        "      layer.trainable=False\r\n",
        "  for layer in model_name.layers[trainable_start_layer_number:]: \r\n",
        "      layer.trainable=True\r\n",
        "  print(f'Layers Configuration: Completed')\r\n",
        "  return model_name\r\n",
        "  ############################################################################################################################################################################"
      ],
      "execution_count": 153,
      "outputs": []
    },
    {
      "cell_type": "markdown",
      "metadata": {
        "id": "MwlxxNnenMzf"
      },
      "source": [
        "**Define function to cross validate model**"
      ]
    },
    {
      "cell_type": "code",
      "metadata": {
        "id": "m5N-8mrAnGpH"
      },
      "source": [
        "def cross_validate_model(model_name, all_imgs, all_lbls, all_lbls_before_categorical, path_to_bestxfr_params_file = 'NULL'):\r\n",
        "  ###############################################################################################################################################################################\r\n",
        "  # MODEL CROSS VALIDATION #\r\n",
        "  print('Model Cross Validation: Starting')\r\n",
        "  # perform cross validation\r\n",
        "  start_time = time.time()\r\n",
        "  # import libraries\r\n",
        "  from sklearn.model_selection import StratifiedKFold\r\n",
        "  # using stratifiedkfold so that we have balanced classes in each split\r\n",
        "  cvfold = StratifiedKFold(n_splits = CROSS_VALIDATION_FOLDS, shuffle = True)\r\n",
        "  # we will use below to store all individual validation scores\r\n",
        "  cvscores = []\r\n",
        "  # based on the class value, get the split done and respective train and test index\r\n",
        "  for train_index, val_index in cvfold.split(all_imgs, all_lbls_before_categorical):\r\n",
        "    if (model_name == 'resnet50xfr'):\r\n",
        "      model = define_model_resnet50xfr()\r\n",
        "    elif (model_name == 'mobilenetv1xfr'):\r\n",
        "      model = define_model_mobilenet('V1')\r\n",
        "    elif (model_name == 'mobilenetv1ft'):\r\n",
        "      model = define_model_mobilenet('V1')\r\n",
        "      set_trainable_layers_starting_from(model, MOBILENETV1_TRAINABLE_START_LAYER)\r\n",
        "      model.load_weights(path_to_bestxfr_params_file) \r\n",
        "    elif (model_name == 'mobilenetv2xfr'):\r\n",
        "      model = define_model_mobilenet('V2') \r\n",
        "    elif (model_name == 'mobilenetv2ft'):\r\n",
        "      model = define_model_mobilenet('V2')\r\n",
        "      set_trainable_layers_starting_from(model, MOBILENETV2_TRAINABLE_START_LAYER)\r\n",
        "      model.load_weights(path_to_bestxfr_params_file)    \r\n",
        "    # train based on train index elements\r\n",
        "    model.fit(all_imgs[train_index], all_lbls[train_index], epochs = EPOCHS, batch_size = BATCH_SIZE, verbose = 0) \r\n",
        "    # validate based on validation index elements\r\n",
        "    cv_score = model.evaluate(all_imgs[val_index], all_lbls[val_index])\r\n",
        "    print(\"Cross Validation Accuracy: %0.2f%%\" % (cv_score[1]*100))\r\n",
        "    # append each iteration validation accuracy score\r\n",
        "    cvscores.append(cv_score[1]*100)\r\n",
        "  # print mean and std deviation of the validation accuracy for the complete cross validation i.e. for all iterations\r\n",
        "  print(\"Cross Validation Accuracy Mean (+/- Std Deviation): %0.2f%% (+/- %0.2f%%)\" % (np.mean(cvscores), np.std(cvscores)))\r\n",
        "  duration = time.time() - start_time\r\n",
        "  print(f'Cross Validation Time = {duration}s')\r\n",
        "  print('Model Cross Validation: Completed')\r\n",
        "  ###############################################################################################################################################################################"
      ],
      "execution_count": 154,
      "outputs": []
    },
    {
      "cell_type": "markdown",
      "metadata": {
        "id": "DMWchS12MDV-"
      },
      "source": [
        "**How To ...**"
      ]
    },
    {
      "cell_type": "code",
      "metadata": {
        "id": "ISzdHYfjMGna"
      },
      "source": [
        "### for understanding purposes ###\r\n",
        "# how to get the keys in your model\r\n",
        "# for key in hist.history:\r\n",
        "#   print(key)\r\n",
        "\r\n",
        "# how to check prediction \r\n",
        "# test_predict = model_mn.predict(test_images, batch_size=10, verbose=0)\r\n",
        "# len(test_predict)\r\n",
        "### for understanding purposes ###"
      ],
      "execution_count": 155,
      "outputs": []
    },
    {
      "cell_type": "markdown",
      "metadata": {
        "id": "4f-ntz2xgQKW"
      },
      "source": [
        "**A basic CNN - Model Definition, Train, Validate, Test**"
      ]
    },
    {
      "cell_type": "markdown",
      "metadata": {
        "id": "1hk8or_Jz05B"
      },
      "source": [
        "Let us see the results with a basic CNN - accuracy might not be great, however, we will get an idea of a working CNN model. "
      ]
    },
    {
      "cell_type": "code",
      "metadata": {
        "id": "HqBMXPbi0Jeg"
      },
      "source": [
        "# import libraries\r\n",
        "from keras import models\r\n",
        "from keras import layers"
      ],
      "execution_count": 156,
      "outputs": []
    },
    {
      "cell_type": "code",
      "metadata": {
        "id": "523ohH6B0PwH"
      },
      "source": [
        "# define model\r\n",
        "def define_model_basicCNN():\r\n",
        "  model = models.Sequential()\r\n",
        "  # 2 dimensional convolution for 2D image. relu for non-linearity detection\r\n",
        "  model.add(layers.Conv2D(32, (3,3), activation='relu', input_shape=(224,224,3)))\r\n",
        "  model.add(layers.MaxPooling2D(2,2))\r\n",
        "  model.add(layers.Conv2D(64, (3,3), activation = 'relu'))\r\n",
        "  model.add(layers.MaxPooling2D(2,2))\r\n",
        "  model.add(layers.Conv2D(64, (3,3), activation='relu'))\r\n",
        "  # Data at this stage is in matrix form. We will convert it to vector form to feed to a fully connected network (FCN).\r\n",
        "  model.add(layers.Flatten())\r\n",
        "  # We will design for 64 outputs with activation function as relu (to learn non-linearity).\r\n",
        "  model.add(layers.Dense(64, activation = 'relu'))\r\n",
        "  # This is the final layer. Hence, the outputs will be 2 corresponding to the 2 classes:\r\n",
        "  # clinical heart failure = yes: 1 ; clinical heart failure = no: 0\r\n",
        "  # Activation Function chosen here is softmax to have a probabilistic output. \r\n",
        "  model.add(layers.Dense(2, activation = 'softmax'))\r\n",
        "  return model"
      ],
      "execution_count": 157,
      "outputs": []
    },
    {
      "cell_type": "code",
      "metadata": {
        "colab": {
          "base_uri": "https://localhost:8080/"
        },
        "id": "0epP_4IO5skk",
        "outputId": "8e33df15-1105-4e82-fd18-32a8271709da"
      },
      "source": [
        "model_basicCNN = define_model_basicCNN()\r\n",
        "# model_basicCNN.summary()\r\n",
        "\r\n",
        "# Define Optimizer, Loss Function and Metrics to be used for the Model\r\n",
        "# Going ahead with the well known functions at this point in time\r\n",
        "# Selected accuracy as the metrics to understand validation accuracy of the model\r\n",
        "model_basicCNN.compile(optimizer='rmsprop', loss='binary_crossentropy', metrics=['accuracy'])\r\n",
        "\r\n",
        "# train and validate the model\r\n",
        "model_basicCNN.fit(train_images, train_labels, epochs = EPOCHS, batch_size = BATCH_SIZE, validation_data = (validation_images, validation_labels))\r\n",
        "\r\n",
        "# test model\r\n",
        "test_loss, test_acc = model_basicCNN.evaluate(test_images, test_labels)\r\n",
        "print('test accuracy:', (test_acc*100))"
      ],
      "execution_count": 158,
      "outputs": [
        {
          "output_type": "stream",
          "text": [
            "77/77 [==============================] - 3s 26ms/step - loss: 497.5396 - accuracy: 0.5102 - val_loss: 0.6928 - val_accuracy: 0.5561\n",
            "37/37 [==============================] - 1s 16ms/step - loss: 0.6927 - accuracy: 0.5550\n",
            "test accuracy: 55.49783706665039\n"
          ],
          "name": "stdout"
        }
      ]
    },
    {
      "cell_type": "markdown",
      "metadata": {
        "id": "tLrjWjwxrpmY"
      },
      "source": [
        "**ResNet50**"
      ]
    },
    {
      "cell_type": "markdown",
      "metadata": {
        "id": "SVYSHHC7Ed3E"
      },
      "source": [
        "**ResNet50 Transfer Learning**"
      ]
    },
    {
      "cell_type": "markdown",
      "metadata": {
        "id": "P9m-f6ZreR4I"
      },
      "source": [
        "**ResNet50 XFR: Import required libraries**"
      ]
    },
    {
      "cell_type": "code",
      "metadata": {
        "colab": {
          "base_uri": "https://localhost:8080/"
        },
        "id": "hre2PwNacJG2",
        "outputId": "a73d6ec5-7a2a-4330-f7c4-4c494f53dc2b"
      },
      "source": [
        "###############################################################################################################################################################################\r\n",
        "# IMPORT LIBRARIES #\r\n",
        "print('ResNet50 XFR / Import Libraries: Starting')\r\n",
        "from keras.applications.resnet50 import ResNet50\r\n",
        "from keras.layers import Dense, GlobalAveragePooling2D\r\n",
        "from keras.models import Model\r\n",
        "# from keras.optimizers import SGD\r\n",
        "# from keras.preprocessing.image import ImageDataGenerator\r\n",
        "from keras.optimizers import Adam\r\n",
        "# from keras.layers.normalization import BatchNormalization\r\n",
        "from keras.layers.core import Dense, Dropout, Activation\r\n",
        "print('ResNet50 XFR / Import Libraries: Completed')\r\n",
        "###############################################################################################################################################################################"
      ],
      "execution_count": 159,
      "outputs": [
        {
          "output_type": "stream",
          "text": [
            "ResNet50 XFR / Import Libraries: Starting\n",
            "ResNet50 XFR / Import Libraries: Completed\n"
          ],
          "name": "stdout"
        }
      ]
    },
    {
      "cell_type": "markdown",
      "metadata": {
        "id": "qXaksRrOeYFJ"
      },
      "source": [
        "**ResNet50 XFR: Define function to define the model**"
      ]
    },
    {
      "cell_type": "code",
      "metadata": {
        "id": "qJFT0WnGcB53"
      },
      "source": [
        "def define_model_resnet50xfr():\r\n",
        "  ###############################################################################################################################################################################\r\n",
        "  # MODEL DEFINITION #\r\n",
        "  print('ResNet50 XFR / Model Definition: Starting')\r\n",
        "  # load ResNet50 with pre-trained parameters for 'imagenet' challenge\r\n",
        "  # disable the last layer ... so that we can have our own FCN layer for our desired classes\r\n",
        "  resnet50 = ResNet50(include_top=False, weights='imagenet')\r\n",
        "\r\n",
        "  # define the last layers\r\n",
        "\r\n",
        "  # get the output of the last layer of the ResNet50\r\n",
        "  prediction = resnet50.output\r\n",
        "\r\n",
        "  # add a Global Average Pooling layer (GAP) - this helps reduce number of parameters as compared to a flatten/dense layer\r\n",
        "  prediction = GlobalAveragePooling2D()(prediction)\r\n",
        "\r\n",
        "  # add a custom FCN  \r\n",
        "  # prediction = Dense(1024, activation = 'relu')(prediction)\r\n",
        "  # we will split the actions so that we can test Batch Normalization done befor relu\r\n",
        "  prediction = Dense(DENSE_LAYER_NEURONS)(prediction)\r\n",
        "  # BatchNormalization did not help as the binary classes are balanced, hence commented BatchNormalization \r\n",
        "  # prediction = BatchNormalization()(prediction)\r\n",
        "  prediction = Activation('relu')(prediction)\r\n",
        "  # add a dropout to avoid overfitting\r\n",
        "  prediction = Dropout(DENSE_LAYER_DROPOUT)(prediction)\r\n",
        "\r\n",
        "  # add a FCN with 2 output neurons corresponding to the 2 classes we want to predict\r\n",
        "  prediction = Dense(2, activation = 'softmax')(prediction)\r\n",
        "\r\n",
        "  # connect the last layers with ResNet50 output layer to define the model\r\n",
        "  model = Model(inputs = resnet50.input, outputs = prediction)\r\n",
        "\r\n",
        "  # we wish use the pretrained ResNet50 model as is i.e. do not want it's parameters to get updated during training\r\n",
        "  for layer in resnet50.layers:\r\n",
        "    layer.trainable = False\r\n",
        "\r\n",
        "  # define the optimizer, loss function, metrics we will use\r\n",
        "  # Adam provided better results than SGD, hence commented SGD\r\n",
        "  # model.compile(optimizer = SGD(lr=0.0001, momentum = 0.9), loss = 'categorical_crossentropy', metrics = ['accuracy'])\r\n",
        "  model.compile(optimizer = Adam(lr=LEARNING_RATE), loss = 'categorical_crossentropy', metrics = ['accuracy'])\r\n",
        "\r\n",
        "  # run to see layers, number of parameters (total/trainable/non-trainable)\r\n",
        "  # model.summary()\r\n",
        "\r\n",
        "  # calculate FLOPS for the model\r\n",
        "  flops_resnet50_xfr = get_flops(model, batch_size = 1)\r\n",
        "  print(f\"ResNet50 XFR FLOPS: {flops_resnet50_xfr / 10 ** 9:.03} G\")\r\n",
        "  print('ResNet50 XFR / Model Definition: Completed')\r\n",
        "  return model\r\n",
        "  ###############################################################################################################################################################################\r\n"
      ],
      "execution_count": 160,
      "outputs": []
    },
    {
      "cell_type": "markdown",
      "metadata": {
        "id": "VGI0LW7ukVzG"
      },
      "source": [
        "**ResNet50 XFR: Data Augmentation**"
      ]
    },
    {
      "cell_type": "markdown",
      "metadata": {
        "id": "Qg9o1x9Redfu"
      },
      "source": [
        "Tried data augmentation - It did not help improve the accuracy as the binary classes are pretty balanced, hence, commented it off. "
      ]
    },
    {
      "cell_type": "code",
      "metadata": {
        "id": "Jxci4U3UeJQW"
      },
      "source": [
        "###############################################################################################################################################################################\r\n",
        "# DATA AUGMENTATION #\r\n",
        "# commented as this did not help improve accuracy\r\n",
        "# data augmentation helps change the data slightly so that the model does not overfit\r\n",
        "# train_generator = ImageDataGenerator(rotation_range = 8, width_shift_range = 0.08, shear_range = 0.3, height_shift_range = 0.08, zoom_range = 0.08)\r\n",
        "# validation_generator = ImageDataGenerator()\r\n",
        "# below ensures the augmented data is provided in batches to the model\r\n",
        "# train_augmented = train_generator.flow(train_images, train_labels, batch_size = 10)\r\n",
        "# validation_augmented = validation_generator.flow(validation_images, validation_labels, batch_size = 10)\r\n",
        "# train and validate model with augmented data\r\n",
        "# model.fit(train_augmented, epochs = 20, batch_size = 10, validation_data = validation_augmented)\r\n",
        "###############################################################################################################################################################################"
      ],
      "execution_count": 161,
      "outputs": []
    },
    {
      "cell_type": "markdown",
      "metadata": {
        "id": "EWonjggxiJAQ"
      },
      "source": [
        "**ResNet50 XFR: Train/Validate/Test/Cross Validate the Model**"
      ]
    },
    {
      "cell_type": "code",
      "metadata": {
        "colab": {
          "base_uri": "https://localhost:8080/"
        },
        "id": "yZJjUo8xiQMn",
        "outputId": "9fc1db0a-f4c0-4f1a-a69b-2243d463dc7e"
      },
      "source": [
        "model_resnet50xfr = define_model_resnet50xfr()\r\n",
        "path_to_resnet50xfr_params_file = '/content/gdrive/MyDrive/Colab Notebooks/Clinical Heart Failure using H&E Images/best_resnet50_xfr.hdf5'\r\n",
        "model_resnet50xfr = train_and_validate_model(model_resnet50xfr, train_images, train_labels, validation_images, validation_labels, path_to_resnet50xfr_params_file)\r\n",
        "model_resnet50xfr = test_model_with_best_params(model_resnet50xfr, path_to_resnet50xfr_params_file, test_images, test_labels)\r\n",
        "if (CROSS_VALIDATE == True):\r\n",
        "  cross_validate_model('resnet50xfr', all_images, all_labels, all_labels_before_categorical)"
      ],
      "execution_count": 162,
      "outputs": [
        {
          "output_type": "stream",
          "text": [
            "ResNet50 XFR / Model Definition: Starting\n",
            "ResNet50 XFR FLOPS: 0.0021 G\n",
            "ResNet50 XFR / Model Definition: Completed\n",
            "Model Train and Validation: Starting\n",
            "77/77 [==============================] - 8s 66ms/step - loss: 5.5505 - accuracy: 0.6294 - val_loss: 0.4637 - val_accuracy: 0.8075\n",
            "\n",
            "Epoch 00001: val_accuracy improved from -inf to 0.80749, saving model to /content/gdrive/MyDrive/Colab Notebooks/Clinical Heart Failure using H&E Images/best_resnet50_xfr.hdf5\n",
            "Train and Validation Time = 9.342262983322144s\n",
            "Model Train and Validation: Completed\n",
            "Model Test: Starting\n",
            "37/37 [==============================] - 4s 95ms/step - loss: 0.5127 - accuracy: 0.7472\n",
            "Test Time = 3.5979321002960205s\n",
            "Test Time / sample = 0.003115092727529022s\n",
            "Model Test: Completed\n",
            "Model Cross Validation: Starting\n",
            "ResNet50 XFR / Model Definition: Starting\n",
            "ResNet50 XFR FLOPS: 0.0021 G\n",
            "ResNet50 XFR / Model Definition: Completed\n",
            "36/36 [==============================] - 4s 96ms/step - loss: 0.4671 - accuracy: 0.7887\n",
            "Cross Validation Accuracy: 78.87%\n",
            "ResNet50 XFR / Model Definition: Starting\n",
            "ResNet50 XFR FLOPS: 0.0021 G\n",
            "ResNet50 XFR / Model Definition: Completed\n",
            "36/36 [==============================] - 4s 97ms/step - loss: 0.4552 - accuracy: 0.7763\n",
            "Cross Validation Accuracy: 77.63%\n",
            "Cross Validation Accuracy Mean (+/- Std Deviation): 78.25% (+/- 0.62%)\n",
            "Cross Validation Time = 31.82277774810791s\n",
            "Model Cross Validation: Completed\n"
          ],
          "name": "stdout"
        }
      ]
    },
    {
      "cell_type": "code",
      "metadata": {
        "id": "qYABR-6C-Px4",
        "colab": {
          "base_uri": "https://localhost:8080/",
          "height": 124
        },
        "outputId": "21c46538-4474-4f42-d49d-2566cd978dd3"
      },
      "source": [
        "\"\"\"\r\n",
        "def model_resnet50():\r\n",
        "  ###############################################################################################################################################################################\r\n",
        "  # IMPORT LIBRARIES #\r\n",
        "  print('ResNet50 XFR / Import Libraries: Starting')\r\n",
        "  from keras.applications.resnet50 import ResNet50\r\n",
        "  from keras.layers import Dense, GlobalAveragePooling2D\r\n",
        "  from keras.models import Model\r\n",
        "  # from keras.optimizers import SGD\r\n",
        "  # from keras.preprocessing.image import ImageDataGenerator\r\n",
        "  from keras.optimizers import Adam\r\n",
        "  # from keras.layers.normalization import BatchNormalization\r\n",
        "  from keras.layers.core import Dense, Dropout, Activation\r\n",
        "  print('ResNet50 XFR / Import Libraries: Completed')\r\n",
        "  ###############################################################################################################################################################################\r\n",
        "\r\n",
        "  ###############################################################################################################################################################################\r\n",
        "  # MODEL DEFINITION #\r\n",
        "  print('ResNet50 XFR / Model Definition: Starting')\r\n",
        "  # load ResNet50 with pre-trained parameters for 'imagenet' challenge\r\n",
        "  # disable the last layer ... so that we can have our own FCN layer for our desired classes\r\n",
        "  resnet50 = ResNet50(include_top=False, weights='imagenet')\r\n",
        "\r\n",
        "  # define the last layers\r\n",
        "\r\n",
        "  # get the output of the last layer of the ResNet50\r\n",
        "  prediction = resnet50.output\r\n",
        "\r\n",
        "  # add a Global Average Pooling layer (GAP) - this helps reduce number of parameters as compared to a flatten/dense layer\r\n",
        "  prediction = GlobalAveragePooling2D()(prediction)\r\n",
        "\r\n",
        "  # add a custom FCN  \r\n",
        "  # prediction = Dense(1024, activation = 'relu')(prediction)\r\n",
        "  # we will split the actions so that we can test Batch Normalization done befor relu\r\n",
        "  prediction = Dense(DENSE_LAYER_NEURONS)(prediction)\r\n",
        "  # BatchNormalization did not help as the binary classes are balanced, hence commented BatchNormalization \r\n",
        "  # prediction = BatchNormalization()(prediction)\r\n",
        "  prediction = Activation('relu')(prediction)\r\n",
        "  # add a dropout to avoid overfitting\r\n",
        "  prediction = Dropout(DENSE_LAYER_DROPOUT)(prediction)\r\n",
        "\r\n",
        "  # add a FCN with 2 output neurons corresponding to the 2 classes we want to predict\r\n",
        "  prediction = Dense(2, activation = 'softmax')(prediction)\r\n",
        "\r\n",
        "  # connect the last layers with ResNet50 output layer to define the model\r\n",
        "  model = Model(inputs = resnet50.input, outputs = prediction)\r\n",
        "\r\n",
        "  # we wish use the pretrained ResNet50 model as is i.e. do not want it's parameters to get updated during training\r\n",
        "  for layer in resnet50.layers:\r\n",
        "    layer.trainable = False\r\n",
        "\r\n",
        "  # define the optimizer, loss function, metrics we will use\r\n",
        "  # Adam provided better results than SGD, hence commented SGD\r\n",
        "  # model.compile(optimizer = SGD(lr=0.0001, momentum = 0.9), loss = 'categorical_crossentropy', metrics = ['accuracy'])\r\n",
        "  model.compile(optimizer = Adam(lr=LEARNING_RATE), loss = 'categorical_crossentropy', metrics = ['accuracy'])\r\n",
        "\r\n",
        "  # run to see layers, number of parameters (total/trainable/non-trainable)\r\n",
        "  # model.summary()\r\n",
        "\r\n",
        "  # calculate FLOPS for the model\r\n",
        "  flops_resnet50_xfr = get_flops(model, batch_size = 1)\r\n",
        "  print(f\"ResNet50 XFR FLOPS: {flops_resnet50_xfr / 10 ** 9:.03} G\")\r\n",
        "  print('ResNet50 XFR / Model Definition: Completed')\r\n",
        "  ###############################################################################################################################################################################\r\n",
        "\r\n",
        "  ###############################################################################################################################################################################\r\n",
        "  # DATA AUGMENTATION #\r\n",
        "  # commented as this did not help improve accuracy\r\n",
        "  # data augmentation helps change the data slightly so that the model does not overfit\r\n",
        "  # train_generator = ImageDataGenerator(rotation_range = 8, width_shift_range = 0.08, shear_range = 0.3, height_shift_range = 0.08, zoom_range = 0.08)\r\n",
        "  # validation_generator = ImageDataGenerator()\r\n",
        "  # below ensures the augmented data is provided in batches to the model\r\n",
        "  # train_augmented = train_generator.flow(train_images, train_labels, batch_size = 10)\r\n",
        "  # validation_augmented = validation_generator.flow(validation_images, validation_labels, batch_size = 10)\r\n",
        "  ###############################################################################################################################################################################\r\n",
        "\r\n",
        "  ###############################################################################################################################################################################\r\n",
        "  # MODEL TRAINING #\r\n",
        "  print('ResNet50 XFR / Model Training: Starting')\r\n",
        "\r\n",
        "  # train and validate model\r\n",
        "  path_to_resnet50_xfr_parameters_file = '/content/gdrive/MyDrive/Colab Notebooks/Clinical Heart Failure using H&E Images/best_resnet50_xfr.hdf5'\r\n",
        "  start_time = time.time()\r\n",
        "  model.fit(train_images, train_labels, epochs = EPOCHS, batch_size = BATCH_SIZE, validation_data = (validation_images, validation_labels), callbacks=[checkpoint(path_to_resnet50_xfr_parameters_file)])\r\n",
        "  duration = time.time() - start_time\r\n",
        "  print(f'ResNet50 XFR Train Time = {duration}s')\r\n",
        "\r\n",
        "  print('ResNet50 XFR / Model Training: Completed')\r\n",
        "  ###############################################################################################################################################################################\r\n",
        "\r\n",
        "  ###############################################################################################################################################################################\r\n",
        "  # MODEL TEST #\r\n",
        "  print('ResNet50 XFR / Model Test: Starting')\r\n",
        "\r\n",
        "  # test model with params from last epoch\r\n",
        "  # test_loss, test_acc = model.evaluate(test_images, test_labels)\r\n",
        "\r\n",
        "  # test with best model (params from best epoch)\r\n",
        "  model.load_weights(path_to_resnet50_xfr_parameters_file)\r\n",
        "  start_time = time.time()\r\n",
        "  test_loss, test_acc = model.evaluate(test_images, test_labels)\r\n",
        "  duration = time.time() - start_time\r\n",
        "  print(f'ResNet50 XFR Test Time = {duration}s')\r\n",
        "  print(f'ResNet50 XFR Test Time / sample = {duration/1155}s')\r\n",
        "\r\n",
        "  print('ResNet50 XFR / Model Test: Completed')\r\n",
        "  ###############################################################################################################################################################################\r\n",
        "\r\n",
        "  ###############################################################################################################################################################################\r\n",
        "  # MODEL CROSS VALIDATION #\r\n",
        "  print('ResNet50 XFR / Model Cross Validation: Starting')\r\n",
        "\r\n",
        "  # perform cross validation\r\n",
        "  start_time = time.time()\r\n",
        "  if (CROSS_VALIDATE == True):\r\n",
        "    # import libraries\r\n",
        "    from sklearn.model_selection import StratifiedKFold\r\n",
        "    # using stratifiedkfold so that we have balanced classes in each split\r\n",
        "    cvfold = StratifiedKFold(n_splits = CROSS_VALIDATION_FOLDS, shuffle = True)\r\n",
        "    # we will use below to store all individual validation scores\r\n",
        "    cvscores = []\r\n",
        "    # based on the class value, get the split done and respective train and test index\r\n",
        "    for train_index, val_index in cvfold.split(all_images, all_labels_before_categorical):\r\n",
        "      # model definition as is from top - starts\r\n",
        "      resnet50 = ResNet50(include_top=False, weights='imagenet')\r\n",
        "      prediction = resnet50.output\r\n",
        "      prediction = GlobalAveragePooling2D()(prediction)\r\n",
        "      prediction = Dense(DENSE_LAYER_NEURONS)(prediction)\r\n",
        "      prediction = Activation('relu')(prediction)\r\n",
        "      prediction = Dropout(DENSE_LAYER_DROPOUT)(prediction)\r\n",
        "      prediction = Dense(2, activation = 'softmax')(prediction)\r\n",
        "      model = Model(inputs = resnet50.input, outputs = prediction)\r\n",
        "      for layer in resnet50.layers:\r\n",
        "        layer.trainable = False\r\n",
        "      model.compile(optimizer = Adam(lr=LEARNING_RATE), loss = 'categorical_crossentropy', metrics = ['accuracy'])\r\n",
        "      # model definition as is from top - ends\r\n",
        "      # train based on train index elements\r\n",
        "      model.fit(all_images[train_index], all_labels[train_index], epochs = EPOCHS, batch_size = BATCH_SIZE) \r\n",
        "      # validate based on validation index elements\r\n",
        "      cv_score = model.evaluate(all_images[val_index], all_labels[val_index])\r\n",
        "      print(\"Validation Accuracy: %0.2f%%\" % (cv_score[1]*100))\r\n",
        "      # append each iteration validation accuracy score\r\n",
        "      cvscores.append(cv_score[1]*100)\r\n",
        "    # print mean and std deviation of the validation accuracy for the complete cross validation i.e. for all iterations\r\n",
        "    print(\"Validation Accuracy Mean (+/- Std Deviation): %0.2f%% (+/- %0.2f%%)\" % (np.mean(cvscores), np.std(cvscores)))\r\n",
        "  duration = time.time() - start_time\r\n",
        "  print(f'ResNet50 XFR Cross Validation Time = {duration}s')\r\n",
        "\r\n",
        "  print('ResNet50 XFR / Model Cross Validation: Completed')\r\n",
        "  ###############################################################################################################################################################################\r\n",
        "\"\"\""
      ],
      "execution_count": 163,
      "outputs": [
        {
          "output_type": "execute_result",
          "data": {
            "application/vnd.google.colaboratory.intrinsic+json": {
              "type": "string"
            },
            "text/plain": [
              "'\\ndef model_resnet50():\\n  ###############################################################################################################################################################################\\n  # IMPORT LIBRARIES #\\n  print(\\'ResNet50 XFR / Import Libraries: Starting\\')\\n  from keras.applications.resnet50 import ResNet50\\n  from keras.layers import Dense, GlobalAveragePooling2D\\n  from keras.models import Model\\n  # from keras.optimizers import SGD\\n  # from keras.preprocessing.image import ImageDataGenerator\\n  from keras.optimizers import Adam\\n  # from keras.layers.normalization import BatchNormalization\\n  from keras.layers.core import Dense, Dropout, Activation\\n  print(\\'ResNet50 XFR / Import Libraries: Completed\\')\\n  ###############################################################################################################################################################################\\n\\n  ###############################################################################################################################################################################\\n  # MODEL DEFINITION #\\n  print(\\'ResNet50 XFR / Model Definition: Starting\\')\\n  # load ResNet50 with pre-trained parameters for \\'imagenet\\' challenge\\n  # disable the last layer ... so that we can have our own FCN layer for our desired classes\\n  resnet50 = ResNet50(include_top=False, weights=\\'imagenet\\')\\n\\n  # define the last layers\\n\\n  # get the output of the last layer of the ResNet50\\n  prediction = resnet50.output\\n\\n  # add a Global Average Pooling layer (GAP) - this helps reduce number of parameters as compared to a flatten/dense layer\\n  prediction = GlobalAveragePooling2D()(prediction)\\n\\n  # add a custom FCN  \\n  # prediction = Dense(1024, activation = \\'relu\\')(prediction)\\n  # we will split the actions so that we can test Batch Normalization done befor relu\\n  prediction = Dense(DENSE_LAYER_NEURONS)(prediction)\\n  # BatchNormalization did not help as the binary classes are balanced, hence commented BatchNormalization \\n  # prediction = BatchNormalization()(prediction)\\n  prediction = Activation(\\'relu\\')(prediction)\\n  # add a dropout to avoid overfitting\\n  prediction = Dropout(DENSE_LAYER_DROPOUT)(prediction)\\n\\n  # add a FCN with 2 output neurons corresponding to the 2 classes we want to predict\\n  prediction = Dense(2, activation = \\'softmax\\')(prediction)\\n\\n  # connect the last layers with ResNet50 output layer to define the model\\n  model = Model(inputs = resnet50.input, outputs = prediction)\\n\\n  # we wish use the pretrained ResNet50 model as is i.e. do not want it\\'s parameters to get updated during training\\n  for layer in resnet50.layers:\\n    layer.trainable = False\\n\\n  # define the optimizer, loss function, metrics we will use\\n  # Adam provided better results than SGD, hence commented SGD\\n  # model.compile(optimizer = SGD(lr=0.0001, momentum = 0.9), loss = \\'categorical_crossentropy\\', metrics = [\\'accuracy\\'])\\n  model.compile(optimizer = Adam(lr=LEARNING_RATE), loss = \\'categorical_crossentropy\\', metrics = [\\'accuracy\\'])\\n\\n  # run to see layers, number of parameters (total/trainable/non-trainable)\\n  # model.summary()\\n\\n  # calculate FLOPS for the model\\n  flops_resnet50_xfr = get_flops(model, batch_size = 1)\\n  print(f\"ResNet50 XFR FLOPS: {flops_resnet50_xfr / 10 ** 9:.03} G\")\\n  print(\\'ResNet50 XFR / Model Definition: Completed\\')\\n  ###############################################################################################################################################################################\\n\\n  ###############################################################################################################################################################################\\n  # DATA AUGMENTATION #\\n  # commented as this did not help improve accuracy\\n  # data augmentation helps change the data slightly so that the model does not overfit\\n  # train_generator = ImageDataGenerator(rotation_range = 8, width_shift_range = 0.08, shear_range = 0.3, height_shift_range = 0.08, zoom_range = 0.08)\\n  # validation_generator = ImageDataGenerator()\\n  # below ensures the augmented data is provided in batches to the model\\n  # train_augmented = train_generator.flow(train_images, train_labels, batch_size = 10)\\n  # validation_augmented = validation_generator.flow(validation_images, validation_labels, batch_size = 10)\\n  ###############################################################################################################################################################################\\n\\n  ###############################################################################################################################################################################\\n  # MODEL TRAINING #\\n  print(\\'ResNet50 XFR / Model Training: Starting\\')\\n\\n  # train and validate model\\n  path_to_resnet50_xfr_parameters_file = \\'/content/gdrive/MyDrive/Colab Notebooks/Clinical Heart Failure using H&E Images/best_resnet50_xfr.hdf5\\'\\n  start_time = time.time()\\n  model.fit(train_images, train_labels, epochs = EPOCHS, batch_size = BATCH_SIZE, validation_data = (validation_images, validation_labels), callbacks=[checkpoint(path_to_resnet50_xfr_parameters_file)])\\n  duration = time.time() - start_time\\n  print(f\\'ResNet50 XFR Train Time = {duration}s\\')\\n\\n  print(\\'ResNet50 XFR / Model Training: Completed\\')\\n  ###############################################################################################################################################################################\\n\\n  ###############################################################################################################################################################################\\n  # MODEL TEST #\\n  print(\\'ResNet50 XFR / Model Test: Starting\\')\\n\\n  # test model with params from last epoch\\n  # test_loss, test_acc = model.evaluate(test_images, test_labels)\\n\\n  # test with best model (params from best epoch)\\n  model.load_weights(path_to_resnet50_xfr_parameters_file)\\n  start_time = time.time()\\n  test_loss, test_acc = model.evaluate(test_images, test_labels)\\n  duration = time.time() - start_time\\n  print(f\\'ResNet50 XFR Test Time = {duration}s\\')\\n  print(f\\'ResNet50 XFR Test Time / sample = {duration/1155}s\\')\\n\\n  print(\\'ResNet50 XFR / Model Test: Completed\\')\\n  ###############################################################################################################################################################################\\n\\n  ###############################################################################################################################################################################\\n  # MODEL CROSS VALIDATION #\\n  print(\\'ResNet50 XFR / Model Cross Validation: Starting\\')\\n\\n  # perform cross validation\\n  start_time = time.time()\\n  if (CROSS_VALIDATE == True):\\n    # import libraries\\n    from sklearn.model_selection import StratifiedKFold\\n    # using stratifiedkfold so that we have balanced classes in each split\\n    cvfold = StratifiedKFold(n_splits = CROSS_VALIDATION_FOLDS, shuffle = True)\\n    # we will use below to store all individual validation scores\\n    cvscores = []\\n    # based on the class value, get the split done and respective train and test index\\n    for train_index, val_index in cvfold.split(all_images, all_labels_before_categorical):\\n      # model definition as is from top - starts\\n      resnet50 = ResNet50(include_top=False, weights=\\'imagenet\\')\\n      prediction = resnet50.output\\n      prediction = GlobalAveragePooling2D()(prediction)\\n      prediction = Dense(DENSE_LAYER_NEURONS)(prediction)\\n      prediction = Activation(\\'relu\\')(prediction)\\n      prediction = Dropout(DENSE_LAYER_DROPOUT)(prediction)\\n      prediction = Dense(2, activation = \\'softmax\\')(prediction)\\n      model = Model(inputs = resnet50.input, outputs = prediction)\\n      for layer in resnet50.layers:\\n        layer.trainable = False\\n      model.compile(optimizer = Adam(lr=LEARNING_RATE), loss = \\'categorical_crossentropy\\', metrics = [\\'accuracy\\'])\\n      # model definition as is from top - ends\\n      # train based on train index elements\\n      model.fit(all_images[train_index], all_labels[train_index], epochs = EPOCHS, batch_size = BATCH_SIZE) \\n      # validate based on validation index elements\\n      cv_score = model.evaluate(all_images[val_index], all_labels[val_index])\\n      print(\"Validation Accuracy: %0.2f%%\" % (cv_score[1]*100))\\n      # append each iteration validation accuracy score\\n      cvscores.append(cv_score[1]*100)\\n    # print mean and std deviation of the validation accuracy for the complete cross validation i.e. for all iterations\\n    print(\"Validation Accuracy Mean (+/- Std Deviation): %0.2f%% (+/- %0.2f%%)\" % (np.mean(cvscores), np.std(cvscores)))\\n  duration = time.time() - start_time\\n  print(f\\'ResNet50 XFR Cross Validation Time = {duration}s\\')\\n\\n  print(\\'ResNet50 XFR / Model Cross Validation: Completed\\')\\n  ###############################################################################################################################################################################\\n'"
            ]
          },
          "metadata": {
            "tags": []
          },
          "execution_count": 163
        }
      ]
    },
    {
      "cell_type": "code",
      "metadata": {
        "id": "hgzZ3VdLZPas"
      },
      "source": [
        "#model_resnet50()"
      ],
      "execution_count": 164,
      "outputs": []
    },
    {
      "cell_type": "markdown",
      "metadata": {
        "id": "g9zNP4ygcivC"
      },
      "source": [
        "**MobileNet**"
      ]
    },
    {
      "cell_type": "markdown",
      "metadata": {
        "id": "hANLFYuUrv3b"
      },
      "source": [
        "**MobileNet: Import Libraries**"
      ]
    },
    {
      "cell_type": "code",
      "metadata": {
        "colab": {
          "base_uri": "https://localhost:8080/"
        },
        "id": "ETVbUHdZr1uv",
        "outputId": "60a032b6-ae7c-4b2b-c18a-d798d08d802a"
      },
      "source": [
        "############################################################################################################################################################################\r\n",
        "# IMPORT LIBRARIES #\r\n",
        "# import libraries\r\n",
        "print(f'MobileNet / Import Libraries: Starting')\r\n",
        "import tensorflow as tf\r\n",
        "from keras.models import Model\r\n",
        "# from keras.optimizers import SGD\r\n",
        "from keras.optimizers import Adam\r\n",
        "# from keras.layers.normalization import BatchNormalization\r\n",
        "from keras.layers.core import Dense, Dropout, Activation\r\n",
        "# from keras.preprocessing.image import ImageDataGenerator\r\n",
        "# from tensorflow.keras import regularizers\r\n",
        "print(f'MobileNet / Import Libraries: Completed')\r\n",
        "############################################################################################################################################################################"
      ],
      "execution_count": 165,
      "outputs": [
        {
          "output_type": "stream",
          "text": [
            "MobileNet / Import Libraries: Starting\n",
            "MobileNet / Import Libraries: Completed\n"
          ],
          "name": "stdout"
        }
      ]
    },
    {
      "cell_type": "markdown",
      "metadata": {
        "id": "NWFbmY6OsA2V"
      },
      "source": [
        "**MobileNet: Define function to define the model**"
      ]
    },
    {
      "cell_type": "code",
      "metadata": {
        "id": "hgXtxSsvsJkF"
      },
      "source": [
        "def define_model_mobilenet(version):\r\n",
        "  ############################################################################################################################################################################\r\n",
        "  # MODEL DEFINITION #\r\n",
        "  print(f'MobileNet{version} Model Definition: Starting')\r\n",
        "  # load MobileNet with pre-trained parameters for 'imagenet' challenge\r\n",
        "  if (version == 'V1'):\r\n",
        "    # mobilenet = tf.keras.applications.mobilenet.MobileNet()\r\n",
        "    mobilenet = tf.keras.applications.MobileNet()\r\n",
        "  elif (version == 'V2'):\r\n",
        "    mobilenet = tf.keras.applications.MobileNetV2()\r\n",
        "\r\n",
        "  # understand mobilenet layers   \r\n",
        "  # mobilenet.summary()\r\n",
        "\r\n",
        "  # define the last layers\r\n",
        "\r\n",
        "  # get the output of the last layer of the MobileNet\r\n",
        "  prediction = mobilenet.output\r\n",
        "\r\n",
        "  # mobilenet already has a GAP layer, hence we need to only add a FCN\r\n",
        "\r\n",
        "  # add a FCN w/o regularizer\r\n",
        "  prediction = Dense(DENSE_LAYER_NEURONS, activation = 'relu')(prediction)\r\n",
        "  # add FCN w/ regularizer\r\n",
        "  # did not help improve accuracy, hence, commented\r\n",
        "  # prediction = Dense(1024, activation = 'relu', kernel_regularizer = regularizers.l2(1e-4), bias_regularizer = regularizers.l2(1e-4), \r\n",
        "  #                      activity_regularizer = regularizers.l2(1e-5))(prediction)\r\n",
        "\r\n",
        "  # batch normalization\r\n",
        "  # did not help improve accuracy, hence, commented\r\n",
        "  # we will split the actions to have the Batch Normalization done befor relu\r\n",
        "  # prediction = Dense(1024)(prediction)\r\n",
        "  # prediction = BatchNormalization()(prediction)\r\n",
        "  # prediction = Activation('relu')(prediction)\r\n",
        "\r\n",
        "  # add a dropout to avoid overfitting\r\n",
        "  prediction = Dropout(DENSE_LAYER_DROPOUT)(prediction)\r\n",
        "\r\n",
        "  # add a FCN with 2 output neurons corresponding to the 2 classes we want to predict\r\n",
        "  # without regularizer\r\n",
        "  prediction = Dense(2, activation = 'softmax')(prediction)\r\n",
        "  # with regularizer\r\n",
        "  # prediction = Dense(2, activation = 'softmax', kernel_regularizer = regularizers.l2(1e-4), bias_regularizer = regularizers.l2(1e-4), \r\n",
        "  #                      activity_regularizer = regularizers.l2(1e-5))(prediction)\r\n",
        "\r\n",
        "  # connect the last layer with MobileNet layer to define the model\r\n",
        "  model = Model(inputs = mobilenet.input, outputs = prediction)\r\n",
        "\r\n",
        "  # we wish use the pretrained MobileNet model as is i.e. do not want it's parameters to get updated during training\r\n",
        "  for layer in mobilenet.layers:\r\n",
        "    layer.trainable = False\r\n",
        "\r\n",
        "  # define the optimizer, loss function, metrics we will use\r\n",
        "  # model.compile(optimizer = SGD(lr=0.0001, momentum = 0.9), loss = 'categorical_crossentropy', metrics = ['accuracy'])\r\n",
        "  model.compile(optimizer = Adam(lr=LEARNING_RATE), loss = 'categorical_crossentropy', metrics = ['accuracy'])\r\n",
        "\r\n",
        "  # run to see layers, number of parameters (total/trainable/non-trainable)\r\n",
        "  # model.summary()\r\n",
        "\r\n",
        "  # calculate FLOPS for the model\r\n",
        "  flops = get_flops(model, batch_size = 1)\r\n",
        "  print(f\"MobileNet{version} FLOPS: {flops / 10 ** 9:.03} G\")\r\n",
        "\r\n",
        "  # let us check the layers in the model \r\n",
        "  # for i,layer in enumerate(model.layers):\r\n",
        "  #  print(i,layer.name)\r\n",
        "\r\n",
        "  print(f'MobileNet{version} Model Definition: Completed')\r\n",
        "  return model\r\n",
        "  ############################################################################################################################################################################"
      ],
      "execution_count": 166,
      "outputs": []
    },
    {
      "cell_type": "markdown",
      "metadata": {
        "id": "sww0CUIYtWh7"
      },
      "source": [
        "**MobileNetV1 XFR: Train/Validate/Test/Cross Validate the Model**"
      ]
    },
    {
      "cell_type": "code",
      "metadata": {
        "colab": {
          "base_uri": "https://localhost:8080/"
        },
        "id": "6CNoi9dHtT4V",
        "outputId": "d965496c-8ec2-46e5-a743-46b936c5c37f"
      },
      "source": [
        "model_mobilenetv1xfr = define_model_mobilenet('V1')\r\n",
        "path_to_mobilenetv1xfr_params_file = '/content/gdrive/MyDrive/Colab Notebooks/Clinical Heart Failure using H&E Images/best_mobilenetv1xfr.hdf5'\r\n",
        "model_mobilenetv1xfr = train_and_validate_model(model_mobilenetv1xfr, train_images, train_labels, validation_images, validation_labels, path_to_mobilenetv1xfr_params_file)\r\n",
        "model_mobilenetv1xfr = test_model_with_best_params(model_mobilenetv1xfr, path_to_mobilenetv1xfr_params_file, test_images, test_labels)\r\n",
        "if (CROSS_VALIDATE == True):\r\n",
        "  cross_validate_model('mobilenetv1xfr', all_images, all_labels, all_labels_before_categorical)"
      ],
      "execution_count": 167,
      "outputs": [
        {
          "output_type": "stream",
          "text": [
            "MobileNetV1 Model Definition: Starting\n",
            "MobileNetV1 FLOPS: 1.15 G\n",
            "MobileNetV1 Model Definition: Completed\n",
            "Model Train and Validation: Starting\n",
            "77/77 [==============================] - 4s 28ms/step - loss: 0.6036 - accuracy: 0.6812 - val_loss: 0.4900 - val_accuracy: 0.7781\n",
            "\n",
            "Epoch 00001: val_accuracy improved from -inf to 0.77807, saving model to /content/gdrive/MyDrive/Colab Notebooks/Clinical Heart Failure using H&E Images/best_mobilenetv1xfr.hdf5\n",
            "Train and Validation Time = 3.9257590770721436s\n",
            "Model Train and Validation: Completed\n",
            "Model Test: Starting\n",
            "37/37 [==============================] - 1s 38ms/step - loss: 0.5613 - accuracy: 0.7359\n",
            "Test Time = 1.4393444061279297s\n",
            "Test Time / sample = 0.0012461856330111946s\n",
            "Model Test: Completed\n",
            "Model Cross Validation: Starting\n",
            "MobileNetV1 Model Definition: Starting\n",
            "MobileNetV1 FLOPS: 1.15 G\n",
            "MobileNetV1 Model Definition: Completed\n",
            "36/36 [==============================] - 2s 39ms/step - loss: 0.5174 - accuracy: 0.7565\n",
            "Cross Validation Accuracy: 75.65%\n",
            "MobileNetV1 Model Definition: Starting\n",
            "MobileNetV1 FLOPS: 1.15 G\n",
            "MobileNetV1 Model Definition: Completed\n",
            "36/36 [==============================] - 2s 38ms/step - loss: 0.5265 - accuracy: 0.7659\n",
            "Cross Validation Accuracy: 76.59%\n",
            "Cross Validation Accuracy Mean (+/- Std Deviation): 76.12% (+/- 0.47%)\n",
            "Cross Validation Time = 13.864439487457275s\n",
            "Model Cross Validation: Completed\n"
          ],
          "name": "stdout"
        }
      ]
    },
    {
      "cell_type": "markdown",
      "metadata": {
        "id": "dWO-NGSLwxmY"
      },
      "source": [
        "**MobileNetV1 FT: Train/Validate/Test/Cross Validate the Model**"
      ]
    },
    {
      "cell_type": "code",
      "metadata": {
        "colab": {
          "base_uri": "https://localhost:8080/"
        },
        "id": "veu87gYXOgvW",
        "outputId": "1a70773f-3b44-4e98-a310-ad9a18b20447"
      },
      "source": [
        "model_mobilenetv1ft = define_model_mobilenet('V1')\r\n",
        "set_trainable_layers_starting_from(model_mobilenetv1ft, MOBILENETV1_TRAINABLE_START_LAYER)\r\n",
        "model_mobilenetv1ft.load_weights(path_to_mobilenetv1xfr_params_file)\r\n",
        "path_to_mobilenetv1ft_params_file = '/content/gdrive/MyDrive/Colab Notebooks/Clinical Heart Failure using H&E Images/best_mobilenetv1ft.hdf5'\r\n",
        "model_mobilenetv1ft = train_and_validate_model(model_mobilenetv1ft, train_images, train_labels, validation_images, validation_labels, path_to_mobilenetv1ft_params_file)\r\n",
        "model_mobilenetv1ft = test_model_with_best_params(model_mobilenetv1ft, path_to_mobilenetv1ft_params_file, test_images, test_labels)\r\n",
        "# we shall provide the best params from transfer learning to initialize the model at cross validation\r\n",
        "if (CROSS_VALIDATE == True):\r\n",
        "  cross_validate_model('mobilenetv1ft', all_images, all_labels, all_labels_before_categorical, path_to_mobilenetv1xfr_params_file)"
      ],
      "execution_count": 168,
      "outputs": [
        {
          "output_type": "stream",
          "text": [
            "MobileNetV1 Model Definition: Starting\n",
            "MobileNetV1 FLOPS: 1.15 G\n",
            "MobileNetV1 Model Definition: Completed\n",
            "Layers Configuration: Starting\n",
            "Layers Configuration: Completed\n",
            "Model Train and Validation: Starting\n",
            "77/77 [==============================] - 4s 28ms/step - loss: 0.5228 - accuracy: 0.7479 - val_loss: 0.4831 - val_accuracy: 0.7754\n",
            "\n",
            "Epoch 00001: val_accuracy improved from -inf to 0.77540, saving model to /content/gdrive/MyDrive/Colab Notebooks/Clinical Heart Failure using H&E Images/best_mobilenetv1ft.hdf5\n",
            "Train and Validation Time = 4.568763732910156s\n",
            "Model Train and Validation: Completed\n",
            "Model Test: Starting\n",
            "37/37 [==============================] - 1s 38ms/step - loss: 0.5223 - accuracy: 0.7411\n",
            "Test Time = 1.4485173225402832s\n",
            "Test Time / sample = 0.0012541275519829293s\n",
            "Model Test: Completed\n",
            "Model Cross Validation: Starting\n",
            "MobileNetV1 Model Definition: Starting\n",
            "MobileNetV1 FLOPS: 1.15 G\n",
            "MobileNetV1 Model Definition: Completed\n",
            "Layers Configuration: Starting\n",
            "Layers Configuration: Completed\n",
            "36/36 [==============================] - 2s 39ms/step - loss: 0.5045 - accuracy: 0.7565\n",
            "Cross Validation Accuracy: 75.65%\n",
            "MobileNetV1 Model Definition: Starting\n",
            "MobileNetV1 FLOPS: 1.15 G\n",
            "MobileNetV1 Model Definition: Completed\n",
            "Layers Configuration: Starting\n",
            "Layers Configuration: Completed\n",
            "36/36 [==============================] - 2s 39ms/step - loss: 0.5095 - accuracy: 0.7607\n",
            "Cross Validation Accuracy: 76.07%\n",
            "Cross Validation Accuracy Mean (+/- Std Deviation): 75.86% (+/- 0.21%)\n",
            "Cross Validation Time = 14.394195079803467s\n",
            "Model Cross Validation: Completed\n"
          ],
          "name": "stdout"
        }
      ]
    },
    {
      "cell_type": "markdown",
      "metadata": {
        "id": "AzM5VhrDVK1Q"
      },
      "source": [
        "**MobileNetV2 XFR: Train/Validate/Test/Cross Validate the Model**"
      ]
    },
    {
      "cell_type": "code",
      "metadata": {
        "colab": {
          "base_uri": "https://localhost:8080/"
        },
        "id": "c6FBV_FcVM2U",
        "outputId": "582bddff-d147-4f46-911c-b2217986cdd0"
      },
      "source": [
        "model_mobilenetv2xfr = define_model_mobilenet('V2')\r\n",
        "path_to_mobilenetv2xfr_params_file = '/content/gdrive/MyDrive/Colab Notebooks/Clinical Heart Failure using H&E Images/best_mobilenetv2xfr.hdf5'\r\n",
        "model_mobilenetv2xfr = train_and_validate_model(model_mobilenetv2xfr, train_images, train_labels, validation_images, validation_labels, path_to_mobilenetv2xfr_params_file)\r\n",
        "model_mobilenetv2xfr = test_model_with_best_params(model_mobilenetv2xfr, path_to_mobilenetv2xfr_params_file, test_images, test_labels)\r\n",
        "if (CROSS_VALIDATE == True):\r\n",
        "  cross_validate_model('mobilenetv2xfr', all_images, all_labels, all_labels_before_categorical)"
      ],
      "execution_count": 169,
      "outputs": [
        {
          "output_type": "stream",
          "text": [
            "MobileNetV2 Model Definition: Starting\n",
            "MobileNetV2 FLOPS: 0.616 G\n",
            "MobileNetV2 Model Definition: Completed\n",
            "Model Train and Validation: Starting\n",
            "77/77 [==============================] - 5s 35ms/step - loss: 0.6568 - accuracy: 0.6116 - val_loss: 0.5297 - val_accuracy: 0.7647\n",
            "\n",
            "Epoch 00001: val_accuracy improved from -inf to 0.76471, saving model to /content/gdrive/MyDrive/Colab Notebooks/Clinical Heart Failure using H&E Images/best_mobilenetv2xfr.hdf5\n",
            "Train and Validation Time = 5.872647285461426s\n",
            "Model Train and Validation: Completed\n",
            "Model Test: Starting\n",
            "37/37 [==============================] - 2s 42ms/step - loss: 0.5903 - accuracy: 0.6909\n",
            "Test Time = 1.618011713027954s\n",
            "Test Time / sample = 0.0014008759420155448s\n",
            "Model Test: Completed\n",
            "Model Cross Validation: Starting\n",
            "MobileNetV2 Model Definition: Starting\n",
            "MobileNetV2 FLOPS: 0.616 G\n",
            "MobileNetV2 Model Definition: Completed\n",
            "36/36 [==============================] - 2s 43ms/step - loss: 0.5710 - accuracy: 0.7087\n",
            "Cross Validation Accuracy: 70.87%\n",
            "MobileNetV2 Model Definition: Starting\n",
            "MobileNetV2 FLOPS: 0.616 G\n",
            "MobileNetV2 Model Definition: Completed\n",
            "36/36 [==============================] - 2s 43ms/step - loss: 0.5740 - accuracy: 0.7206\n",
            "Cross Validation Accuracy: 72.06%\n",
            "Cross Validation Accuracy Mean (+/- Std Deviation): 71.47% (+/- 0.60%)\n",
            "Cross Validation Time = 18.083383321762085s\n",
            "Model Cross Validation: Completed\n"
          ],
          "name": "stdout"
        }
      ]
    },
    {
      "cell_type": "markdown",
      "metadata": {
        "id": "tjFrxVLbVNHj"
      },
      "source": [
        "**MobileNetV2 FT: Train/Validate/Test/Cross Validate the Model**"
      ]
    },
    {
      "cell_type": "code",
      "metadata": {
        "colab": {
          "base_uri": "https://localhost:8080/"
        },
        "id": "FIn16VbDVNyz",
        "outputId": "6adb0011-f560-4b14-df04-184fa1dc891a"
      },
      "source": [
        "model_mobilenetv2ft = define_model_mobilenet('V2')\r\n",
        "set_trainable_layers_starting_from(model_mobilenetv2ft, MOBILENETV2_TRAINABLE_START_LAYER)\r\n",
        "model_mobilenetv2ft.load_weights(path_to_mobilenetv2xfr_params_file)\r\n",
        "path_to_mobilenetv2ft_params_file = '/content/gdrive/MyDrive/Colab Notebooks/Clinical Heart Failure using H&E Images/best_mobilenetv2ft.hdf5'\r\n",
        "model_mobilenetv2ft = train_and_validate_model(model_mobilenetv2ft, train_images, train_labels, validation_images, validation_labels, path_to_mobilenetv2ft_params_file)\r\n",
        "model_mobilenetv2ft = test_model_with_best_params(model_mobilenetv2ft, path_to_mobilenetv2ft_params_file, test_images, test_labels)\r\n",
        "# we shall provide the best params from transfer learning to initialize the model at cross validation\r\n",
        "if (CROSS_VALIDATE == True):\r\n",
        "  cross_validate_model('mobilenetv2ft', all_images, all_labels, all_labels_before_categorical, path_to_mobilenetv2xfr_params_file)"
      ],
      "execution_count": 171,
      "outputs": [
        {
          "output_type": "stream",
          "text": [
            "MobileNetV2 Model Definition: Starting\n",
            "MobileNetV2 FLOPS: 0.616 G\n",
            "MobileNetV2 Model Definition: Completed\n",
            "Layers Configuration: Starting\n",
            "Layers Configuration: Completed\n",
            "Model Train and Validation: Starting\n",
            "77/77 [==============================] - 5s 35ms/step - loss: 0.5960 - accuracy: 0.6831 - val_loss: 0.5040 - val_accuracy: 0.7647\n",
            "\n",
            "Epoch 00001: val_accuracy improved from -inf to 0.76471, saving model to /content/gdrive/MyDrive/Colab Notebooks/Clinical Heart Failure using H&E Images/best_mobilenetv2ft.hdf5\n",
            "Train and Validation Time = 5.700324296951294s\n",
            "Model Train and Validation: Completed\n",
            "Model Test: Starting\n",
            "37/37 [==============================] - 2s 42ms/step - loss: 0.5870 - accuracy: 0.6918\n",
            "Test Time = 1.605381965637207s\n",
            "Test Time / sample = 0.0013899410957897897s\n",
            "Model Test: Completed\n",
            "Model Cross Validation: Starting\n",
            "MobileNetV2 Model Definition: Starting\n",
            "MobileNetV2 FLOPS: 0.616 G\n",
            "MobileNetV2 Model Definition: Completed\n",
            "Layers Configuration: Starting\n",
            "Layers Configuration: Completed\n",
            "36/36 [==============================] - 2s 44ms/step - loss: 0.5750 - accuracy: 0.7157\n",
            "Cross Validation Accuracy: 71.57%\n",
            "MobileNetV2 Model Definition: Starting\n",
            "MobileNetV2 FLOPS: 0.616 G\n",
            "MobileNetV2 Model Definition: Completed\n",
            "Layers Configuration: Starting\n",
            "Layers Configuration: Completed\n",
            "36/36 [==============================] - 2s 42ms/step - loss: 0.5634 - accuracy: 0.7319\n",
            "Cross Validation Accuracy: 73.19%\n",
            "Cross Validation Accuracy Mean (+/- Std Deviation): 72.38% (+/- 0.81%)\n",
            "Cross Validation Time = 18.534156560897827s\n",
            "Model Cross Validation: Completed\n"
          ],
          "name": "stdout"
        }
      ]
    },
    {
      "cell_type": "code",
      "metadata": {
        "id": "NJyiKnXiclem"
      },
      "source": [
        "\"\"\"\r\n",
        "def model_mobilenet(version):\r\n",
        "  ############################################################################################################################################################################\r\n",
        "  # IMPORT LIBRARIES #\r\n",
        "  # import libraries\r\n",
        "  print(f'MobileNet{version} / Import Libraries: Starting')\r\n",
        "  import tensorflow as tf\r\n",
        "  from keras.models import Model\r\n",
        "  # from keras.optimizers import SGD\r\n",
        "  from keras.optimizers import Adam\r\n",
        "  # from keras.layers.normalization import BatchNormalization\r\n",
        "  from keras.layers.core import Dense, Dropout, Activation\r\n",
        "  # from keras.preprocessing.image import ImageDataGenerator\r\n",
        "  # from tensorflow.keras import regularizers\r\n",
        "  print(f'MobileNet{version} / Import Libraries: Completed')\r\n",
        "  ############################################################################################################################################################################\r\n",
        "\r\n",
        "  print(f'MobileNet{version} XFR Learning: Starting')\r\n",
        "\r\n",
        "  ############################################################################################################################################################################\r\n",
        "  # MODEL DEFINITION #\r\n",
        "  print(f'MobileNet{version} XFR / Model Definition: Starting')\r\n",
        "  # load MobileNet with pre-trained parameters for 'imagenet' challenge\r\n",
        "  if (version == 'V1'):\r\n",
        "    # mobilenet = tf.keras.applications.mobilenet.MobileNet()\r\n",
        "    mobilenet = tf.keras.applications.MobileNet()\r\n",
        "  elif (version == 'V2'):\r\n",
        "    mobilenet = tf.keras.applications.MobileNetV2()\r\n",
        "\r\n",
        "  # understand mobilenet layers   \r\n",
        "  # mobilenet.summary()\r\n",
        "\r\n",
        "  # define the last layers\r\n",
        "\r\n",
        "  # get the output of the last layer of the MobileNet\r\n",
        "  prediction_mn = mobilenet.output\r\n",
        "\r\n",
        "  # mobilenet already has a GAP layer, hence we need to only add a FCN\r\n",
        "\r\n",
        "  # add a FCN w/o regularizer\r\n",
        "  prediction_mn = Dense(DENSE_LAYER_NEURONS, activation = 'relu')(prediction_mn)\r\n",
        "  # add FCN w/ regularizer\r\n",
        "  # did not help improve accuracy, hence, commented\r\n",
        "  # prediction_mn = Dense(1024, activation = 'relu', kernel_regularizer = regularizers.l2(1e-4), bias_regularizer = regularizers.l2(1e-4), \r\n",
        "  #                      activity_regularizer = regularizers.l2(1e-5))(prediction_mn)\r\n",
        "\r\n",
        "  # batch normalization\r\n",
        "  # did not help improve accuracy, hence, commented\r\n",
        "  # we will split the actions to have the Batch Normalization done befor relu\r\n",
        "  # prediction_mn = Dense(1024)(prediction_mn)\r\n",
        "  # prediction_mn = BatchNormalization()(prediction_mn)\r\n",
        "  # prediction_mn = Activation('relu')(prediction_mn)\r\n",
        "\r\n",
        "  # add a dropout to avoid overfitting\r\n",
        "  prediction_mn = Dropout(DENSE_LAYER_DROPOUT)(prediction_mn)\r\n",
        "\r\n",
        "  # add a FCN with 2 output neurons corresponding to the 2 classes we want to predict\r\n",
        "  # without regularizer\r\n",
        "  prediction_mn = Dense(2, activation = 'softmax')(prediction_mn)\r\n",
        "  # with regularizer\r\n",
        "  # prediction_mn = Dense(2, activation = 'softmax', kernel_regularizer = regularizers.l2(1e-4), bias_regularizer = regularizers.l2(1e-4), \r\n",
        "  #                      activity_regularizer = regularizers.l2(1e-5))(prediction_mn)\r\n",
        "\r\n",
        "  # connect the last layer with MobileNet layer to define the model\r\n",
        "  model_mn = Model(inputs = mobilenet.input, outputs = prediction_mn)\r\n",
        "\r\n",
        "  # we wish use the pretrained MobileNet model as is i.e. do not want it's parameters to get updated during training\r\n",
        "  for layer in mobilenet.layers:\r\n",
        "    layer.trainable = False\r\n",
        "\r\n",
        "  # define the optimizer, loss function, metrics we will use\r\n",
        "  # model_mn.compile(optimizer = SGD(lr=0.0001, momentum = 0.9), loss = 'categorical_crossentropy', metrics = ['accuracy'])\r\n",
        "  model_mn.compile(optimizer = Adam(lr=LEARNING_RATE), loss = 'categorical_crossentropy', metrics = ['accuracy'])\r\n",
        "\r\n",
        "  # run to see layers, number of parameters (total/trainable/non-trainable)\r\n",
        "  # model_mn.summary()\r\n",
        "\r\n",
        "  # calculate FLOPS for the model\r\n",
        "  flops_mobilenet_xfr = get_flops(model_mn, batch_size = 1)\r\n",
        "  print(f\"MobileNet{version} XFR FLOPS: {flops_mobilenet_xfr / 10 ** 9:.03} G\")\r\n",
        "\r\n",
        "  # let us check the layers in the model \r\n",
        "  # for i,layer in enumerate(model_mn.layers):\r\n",
        "  #  print(i,layer.name)\r\n",
        "\r\n",
        "  print(f'MobileNet{version} XFR / Model Definition: Completed')\r\n",
        "  ############################################################################################################################################################################\r\n",
        "\r\n",
        "  ############################################################################################################################################################################\r\n",
        "  # MODEL TRAINING #\r\n",
        "  print(f'MobileNet{version} XFR / Model Training: Starting')\r\n",
        "  # train and validate model\r\n",
        "  path_to_mobilenet_xfr_parameters_file = '/content/gdrive/MyDrive/Colab Notebooks/Clinical Heart Failure using H&E Images/best_mobilenet_xfr.hdf5'\r\n",
        "  start_time = time.time()\r\n",
        "  hist = model_mn.fit(train_images, train_labels, epochs = EPOCHS, batch_size = BATCH_SIZE, validation_data = (validation_images, validation_labels), \r\n",
        "                      callbacks=[checkpoint(path_to_mobilenet_xfr_parameters_file)])\r\n",
        "  duration = time.time() - start_time\r\n",
        "  print(f'MobileNet{version} XFR Train Time = {duration}s')\r\n",
        "\r\n",
        "  # how to get the keys in your model\r\n",
        "  # for key in hist.history:\r\n",
        "  #   print(key)\r\n",
        "  print(f'MobileNet{version} XFR / Model Training: Completed')\r\n",
        "  ############################################################################################################################################################################\r\n",
        "\r\n",
        "  ############################################################################################################################################################################\r\n",
        "  # MODEL TEST #\r\n",
        "  print(f'MobileNet{version} XFR / Model Test: Starting')\r\n",
        "  # test model with parameters from last epoch\r\n",
        "  # test_loss_mn, test_acc_mn = model_mn.evaluate(test_images, test_labels)\r\n",
        "  \r\n",
        "  # test with best model\r\n",
        "  model_mn.load_weights(path_to_mobilenet_xfr_parameters_file)\r\n",
        "  # check prediction \r\n",
        "  # test_predict = model_mn.predict(test_images, batch_size=10, verbose=0)\r\n",
        "  # len(test_predict)\r\n",
        "  start_time = time.time()\r\n",
        "  test_loss_mn, test_acc_mn = model_mn.evaluate(test_images, test_labels)\r\n",
        "  duration = time.time() - start_time\r\n",
        "  print(f'MobileNet{version} XFR Test Time = {duration}s')\r\n",
        "  print(f'MobileNet{version} XFR Test Time / sample = {duration/1155}s')\r\n",
        "  print(f'MobileNet{version} XFR / Model Test: Completed')\r\n",
        "  ############################################################################################################################################################################\r\n",
        "\r\n",
        "  ############################################################################################################################################################################\r\n",
        "  # MODEL CROSS VALIDATION #\r\n",
        "  print(f'MobileNet{version} XFR / Model Cross Validation: Starting')\r\n",
        "  # perform cross validation\r\n",
        "  start_time = time.time()\r\n",
        "  if (CROSS_VALIDATE == True):\r\n",
        "    # import libraries\r\n",
        "    from sklearn.model_selection import StratifiedKFold\r\n",
        "    # using stratifiedkfold so that we have balanced classes in each split\r\n",
        "    cvfold = StratifiedKFold(n_splits = CROSS_VALIDATION_FOLDS, shuffle = True)\r\n",
        "    # we will use below to store all individual validation scores\r\n",
        "    cvscores = []\r\n",
        "    # based on the class value, get the split done and respective train and test index\r\n",
        "    for train_index, val_index in cvfold.split(all_images, all_labels_before_categorical):\r\n",
        "      # model definition as is from top - starts\r\n",
        "      if (version == 'V1'):\r\n",
        "        # mobilenet = tf.keras.applications.mobilenet.MobileNet()\r\n",
        "        mobilenet = tf.keras.applications.MobileNet()\r\n",
        "      elif (version == 'V2'):\r\n",
        "        mobilenet = tf.keras.applications.MobileNetV2()\r\n",
        "      prediction_mn = mobilenet.output\r\n",
        "      prediction_mn = Dense(DENSE_LAYER_NEURONS, activation = 'relu')(prediction_mn)\r\n",
        "      prediction_mn = Dropout(DENSE_LAYER_DROPOUT)(prediction_mn)\r\n",
        "      prediction_mn = Dense(2, activation = 'softmax')(prediction_mn)\r\n",
        "      model_mn = Model(inputs = mobilenet.input, outputs = prediction_mn)\r\n",
        "      for layer in mobilenet.layers:\r\n",
        "        layer.trainable = False\r\n",
        "      model_mn.compile(optimizer = Adam(lr=LEARNING_RATE), loss = 'categorical_crossentropy', metrics = ['accuracy'])\r\n",
        "      # model definition as is from top - ends\r\n",
        "      # train based on train index elements\r\n",
        "      model_mn.fit(all_images[train_index], all_labels[train_index], epochs = EPOCHS, batch_size = BATCH_SIZE) \r\n",
        "      # validate based on validation index elements\r\n",
        "      cv_score = model_mn.evaluate(all_images[val_index], all_labels[val_index])\r\n",
        "      print(\"Validation Accuracy: %0.2f%%\" % (cv_score[1]*100))\r\n",
        "      # append each iteration validation accuracy score\r\n",
        "      cvscores.append(cv_score[1]*100)\r\n",
        "    # print mean and std deviation of the validation accuracy for the complete cross validation i.e. for all iterations\r\n",
        "    print(\"Validation Accuracy Mean (+/- Std Deviation): %0.2f%% (+/- %0.2f%%)\" % (np.mean(cvscores), np.std(cvscores)))\r\n",
        "  duration = time.time() - start_time\r\n",
        "  print(f'MobileNet{version} XFR Cross Validation Time = {duration}s')\r\n",
        "\r\n",
        "  print(f'MobileNet{version} XFR / Model Cross Validation: Completed')\r\n",
        "  ############################################################################################################################################################################\r\n",
        "\r\n",
        "  print(f'MobileNet{version} XFR Learning: Completed')\r\n",
        "  print(f'MobileNet{version} FT: Starting')\r\n",
        "\r\n",
        "  ############################################################################################################################################################################\r\n",
        "  # CONFIGURE LAYERS FOR TRAINING #\r\n",
        "  print(f'MobileNet{version} FT / Layers Configuration: Starting')\r\n",
        "  # v1\r\n",
        "  # 0 to 72 = Till Conv11 ; # 73 to 79 - Conv12; # 80 to 85 = Conv13 ; # 86 to 91 = Post Conv13 before Custom (GAP...) ; # 92 to 94 = Custom (Dense/Dropout/Dense(2))\r\n",
        "  if (version == 'V1'):\r\n",
        "    mobilenet_trainable_start_layer = 80\r\n",
        "  elif (version == 'V2'):\r\n",
        "    mobilenet_trainable_start_layer = 151 \r\n",
        "  for layer in model_mn.layers[:mobilenet_trainable_start_layer]: \r\n",
        "      layer.trainable=False\r\n",
        "  for layer in model_mn.layers[mobilenet_trainable_start_layer:]: \r\n",
        "      layer.trainable=True\r\n",
        "  print(f'MobileNet{version} FT / Layers Configuration: Completed')\r\n",
        "  ############################################################################################################################################################################\r\n",
        "\r\n",
        "  ############################################################################################################################################################################\r\n",
        "  # CHECK MODEL SUMMARY / FLOPS #\r\n",
        "  # check model summary\r\n",
        "  # model_mn.summary()\r\n",
        "  # calculate FLOPS for the model\r\n",
        "  flops_mobilenet_ft = get_flops(model_mn, batch_size = 1)\r\n",
        "  print(f\"MobileNet{version} FineTune FLOPS: {flops_mobilenet_ft / 10 ** 9:.03} G\")\r\n",
        "  ############################################################################################################################################################################\r\n",
        "\r\n",
        "  ############################################################################################################################################################################\r\n",
        "  # MODEL TRAINING #\r\n",
        "  print(f'MobileNet{version} FT / Training: Starting')\r\n",
        "  # train and validate model\r\n",
        "  path_to_mobilenet_ft_parameters_file = '/content/gdrive/MyDrive/Colab Notebooks/Clinical Heart Failure using H&E Images/best_mobilenet_ft.hdf5'\r\n",
        "  start_time = time.time()\r\n",
        "  hist = model_mn.fit(train_images, train_labels, epochs = EPOCHS, batch_size = BATCH_SIZE, validation_data = (validation_images, validation_labels), \r\n",
        "                      callbacks=[checkpoint(path_to_mobilenet_ft_parameters_file)])\r\n",
        "  duration = time.time() - start_time\r\n",
        "  print(f'MobileNet{version} FT Train Time = {duration}s')\r\n",
        "  print(f'MobileNet{version} FT / Training: Completed')\r\n",
        "  ############################################################################################################################################################################\r\n",
        "\r\n",
        "  ############################################################################################################################################################################\r\n",
        "  # MODEL TEST #\r\n",
        "  print(f'MobileNet{version} FT / Test: Starting')\r\n",
        "  # test with best model\r\n",
        "  model_mn.load_weights(path_to_mobilenet_ft_parameters_file)\r\n",
        "  # test_predict = model_mn.predict(test_images, batch_size=10, verbose=0)\r\n",
        "  start_time = time.time()\r\n",
        "  test_loss_mn, test_acc_mn = model_mn.evaluate(test_images, test_labels)\r\n",
        "  duration = time.time() - start_time\r\n",
        "  print(f'MobileNet{version} FT Test Time = {duration}s')\r\n",
        "  print(f'MobileNet{version} FT Test Time / sample = {duration/1155}s')\r\n",
        "  print(f'MobileNet{version} FT / Test: Completed')\r\n",
        "  ############################################################################################################################################################################\r\n",
        "\r\n",
        "  ############################################################################################################################################################################\r\n",
        "  # MODEL CROSS VALIDATION #\r\n",
        "  print(f'MobileNet{version} FT / Cross Validation: Starting')\r\n",
        "  start_time = time.time()\r\n",
        "  # perform cross validation\r\n",
        "  if (CROSS_VALIDATE == True):\r\n",
        "    # import libraries\r\n",
        "    from sklearn.model_selection import StratifiedKFold\r\n",
        "    # using stratifiedkfold so that we have balanced classes in each split\r\n",
        "    cvfold = StratifiedKFold(n_splits = CROSS_VALIDATION_FOLDS, shuffle = True)\r\n",
        "    # we will use below to store all individual validation scores\r\n",
        "    cvscores = []\r\n",
        "    # based on the class value, get the split done and respective train and test index\r\n",
        "    for train_index, val_index in cvfold.split(all_images, all_labels_before_categorical):\r\n",
        "      # model definition as is from top - starts\r\n",
        "      if (version == 'V1'):\r\n",
        "        # mobilenet = tf.keras.applications.mobilenet.MobileNet()\r\n",
        "        mobilenet = tf.keras.applications.MobileNet()\r\n",
        "      elif (version == 'V2'):\r\n",
        "        mobilenet = tf.keras.applications.MobileNetV2()\r\n",
        "      prediction_mn = mobilenet.output\r\n",
        "      prediction_mn = Dense(DENSE_LAYER_NEURONS, activation = 'relu')(prediction_mn)\r\n",
        "      prediction_mn = Dropout(DENSE_LAYER_DROPOUT)(prediction_mn)\r\n",
        "      prediction_mn = Dense(2, activation = 'softmax')(prediction_mn)\r\n",
        "      model_mn = Model(inputs = mobilenet.input, outputs = prediction_mn)\r\n",
        "      for layer in mobilenet.layers:\r\n",
        "        layer.trainable = False\r\n",
        "      model_mn.compile(optimizer = Adam(lr=LEARNING_RATE), loss = 'categorical_crossentropy', metrics = ['accuracy'])\r\n",
        "      # note using the file from transfer and not from finetune to load the weights\r\n",
        "      model_mn.load_weights(path_to_mobilenet_xfr_parameters_file)\r\n",
        "      for layer in model_mn.layers[:80]:\r\n",
        "        layer.trainable=False\r\n",
        "      for layer in model_mn.layers[80:]:\r\n",
        "        layer.trainable=True\r\n",
        "      # model definition as is from top - ends\r\n",
        "      # train based on train index elements\r\n",
        "      model_mn.fit(all_images[train_index], all_labels[train_index], epochs = EPOCHS, batch_size = BATCH_SIZE) \r\n",
        "      # validate based on validation index elements\r\n",
        "      cv_score = model_mn.evaluate(all_images[val_index], all_labels[val_index])\r\n",
        "      print(\"Validation Accuracy: %0.2f%%\" % (cv_score[1]*100))\r\n",
        "      # append each iteration validation accuracy score\r\n",
        "      cvscores.append(cv_score[1]*100)\r\n",
        "    # print mean and std deviation of the validation accuracy for the complete cross validation i.e. for all iterations\r\n",
        "    print(\"Validation Accuracy Mean (+/- Std Deviation): %0.2f%% (+/- %0.2f%%)\" % (np.mean(cvscores), np.std(cvscores)))\r\n",
        "  duration = time.time() - start_time\r\n",
        "  print(f'MobileNet{version} FT Cross Validation Time = {duration}s')\r\n",
        "  print(f'MobileNe{version} FT / Cross Validation: Completed')\r\n",
        "  ############################################################################################################################################################################\r\n",
        "  print(f'MobileNet{version} FT: Completed')\r\n",
        "  \"\"\""
      ],
      "execution_count": null,
      "outputs": []
    },
    {
      "cell_type": "code",
      "metadata": {
        "id": "SbXnI0Zc85Y8"
      },
      "source": [
        "# model_mobilenet('V1')"
      ],
      "execution_count": null,
      "outputs": []
    },
    {
      "cell_type": "code",
      "metadata": {
        "id": "Jv1zr5xcno__"
      },
      "source": [
        "# model_mobilenet('V2')"
      ],
      "execution_count": null,
      "outputs": []
    },
    {
      "cell_type": "markdown",
      "metadata": {
        "id": "aTijnel0I8P9"
      },
      "source": [
        "## TODO / Improvement Opportunity"
      ]
    },
    {
      "cell_type": "markdown",
      "metadata": {
        "id": "43vNOnzBTUx1"
      },
      "source": [
        "- **TRIED**: As this is a 2 class classification - loss function can be changed to binary_crossentropy instead of categorical_crossentropy\n",
        "- **DONE**: Change model to ResNet50\n",
        "- **DONE**: Convert code sections in data preparation for train/validation/test to functions\n",
        "- **TRIED**: Reduce parameters, epochs.\n",
        "- **TRIED**: Try changing batch size\n",
        "- **TRIED**: Use Data Augmentation\n",
        "- **DONE**: Try to train last few layers of ResNet50 with the data\n",
        "- **TRIED**: Accuracy is fluctuating... optimize hyper parameters to have a smooth increase\n",
        "- **TRIED** Try Regularization\n",
        "- Our image size is 250x250. ResNet50 expects 224x224. Do we need to do anything or ResNet50 will understand ?\n",
        "- **DONE**: Change Model to MobileNet\n",
        "- **DONE**: Is image resize done correctly for MobileNet ?\n",
        "- **DONE**: Implement K Cross Validation for Epoch = 1, Fold = 4\n",
        "- **DONE**: Implement FLOPS\n",
        "- Check version of MobileNet ... try using tf.keras.applications.MobileNet() instead of tf.keras.applications.mobilenet.MobileNet()\n",
        "- Query: Should the batch_size be 1 or 10 for FLOPS calculation\n",
        "- Query: There should not be any difference in FLOPS for Transfer/FineTune Model, correct ?\n",
        "- Run K Cross Validation for Epoch = 100, Fold = 4\n",
        "- IO: Convert K-cross validation sections into functions\n",
        "- IO: Save best k fold of MobileNet Transfer and use for FineTune\n",
        "- Use only the train and validation for cross validation ... so that you can use the test for test."
      ]
    },
    {
      "cell_type": "markdown",
      "metadata": {
        "id": "I6pKmozJpWkF"
      },
      "source": [
        "### Version 0.21-0.23: Cleaning Code and Converting to Functions"
      ]
    },
    {
      "cell_type": "markdown",
      "metadata": {
        "id": "d3YbgK28pcv3"
      },
      "source": [
        "- **0.21**\r\n",
        "  - formatted the version sections\r\n",
        "  - changed epochs = 1, cross validation = false for now.\r\n",
        "  - converted whole of resnet50 into a function\r\n",
        "  - converted whole of mobilenet into a function with attribute to specify version (V1, V2)\r\n",
        "- **0.22**\r\n",
        "  - moved version and reference to bottom of notebook\r\n",
        "  - made pending independent cells in  train/val/test prep areas as part of the prep function.\r\n",
        "- **0.23**\r\n",
        "  - converted code sections of basic CNN into functions\r\n",
        "  - converted code sections of resnet50 into functions\r\n",
        "  - converted code sections of mobilenet into functions\r\n",
        "  - made cross validation folds = 2"
      ]
    },
    {
      "cell_type": "markdown",
      "metadata": {
        "id": "a9LFF-vOo6t0"
      },
      "source": [
        "### Version 0.20: Tried MobileNetV2 in place of MobileNet"
      ]
    },
    {
      "cell_type": "markdown",
      "metadata": {
        "id": "bHV5dVhU6SV1"
      },
      "source": [
        "\r\n",
        "- Commented MobileNet and called MobileNetV2 in model definition for Regular Run XFR/FT, CV Run  for XFR and CV Run for FT sections\r\n",
        "- Epochs = 1, CV = False, Dropout = 0.4\r\n",
        "  - XFR: Train / Val / Test Acc % = 59 / 75 / 67\r\n",
        "  - FT @ 80th Layer : Train / Val / Test Acc % = 69 / 69 / 65\r\n",
        "- Epochs = 100, CV = False, Dropout = 0.4\r\n",
        "  - Flops = 0.616G\r\n",
        "  - XFR\r\n",
        "    - Total/Trainable Params = ~4M / ~0.5M\r\n",
        "    - Train / Val / Test Acc % = 76.0 / 80.5 / 72.9\r\n",
        "  - FT @ 80th Layer\r\n",
        "    - Total/Trainable Params = ~4M / ~3.8M\r\n",
        "    - Train / Val / Test Acc % = 76.6 / 80.2 / 72.8\r\n",
        "- Epochs = 100, CV = False, Dropout = 0.4\r\n",
        "  - Flops = 0.616G \r\n",
        "  - XFR\r\n",
        "    - Total/Trainable Params = ~4M / ~0.5M \r\n",
        "    - Train / Val / Test Acc % = 72.4 / 80.0 / 71.6 \r\n",
        "  - FT @ 151th Layer\r\n",
        "    - Total/Trainable Params = ~4M / ~2.2M \r\n",
        "    - Train / Val / Test Acc % =  73.9 / 80.8 / 73.2\r\n",
        "- Epochs = 100, CV = False, Dropout = 0.6\r\n",
        "  - Flops = 0.616G \r\n",
        "  - XFR\r\n",
        "    - Total/Trainable Params = ~4M / ~0.5M \r\n",
        "    - Train / Val / Test Acc % = 76.3 / 80.5 / 70.3\r\n",
        "  - FT @ 151th Layer\r\n",
        "    - Total/Trainable Params = ~4M / ~2.2M \r\n",
        "    - Train / Val / Test Acc % = 76.4 / 81.0 / 72.6 \r\n",
        "- Epochs = 100, CV = True, Dropout = 0.4\r\n",
        "  - Flops = 0.616G \r\n",
        "  - XFR\r\n",
        "    - Total/Trainable Params = ~4M / ~0.5M \r\n",
        "    - Validation Accuracy Mean (+/- Std Deviation): 77.03% (+/- 0.79%)\r\n",
        "  - FT @ 151th Layer\r\n",
        "    - Total/Trainable Params = ~4M / ~2.2M \r\n",
        "    - Validation Accuracy Mean (+/- Std Deviation): 78.99% (+/- 1.06%)"
      ]
    },
    {
      "cell_type": "markdown",
      "metadata": {
        "id": "GuVfy-J79VSx"
      },
      "source": [
        "### Version 0.18-0.19: Rerun of v0.17 with time() to get time values"
      ]
    },
    {
      "cell_type": "markdown",
      "metadata": {
        "id": "2qPxxxso9YF7"
      },
      "source": [
        "- **0.18-0.19**:\r\n",
        "  - Implemented time function to calculate the desired time more precisely as the time from colab and verbose are not matching.\r\n",
        "  - XFR = Transfer Learning, FT = Fine tuning\r\n",
        "  - For Regular Run: Train & Test Acc is w.r.t. Best Val Accuracy.\r\n",
        "  - Common Hyper parameters: Batchsize = 10, Learning Rate = 0.01, Neurons after Conv = 512, Dropout = 0.4. \r\n",
        "  - **Resnet50 XFR**\r\n",
        "    - Conv Layer / Total Params / Trainable Params / FLOPS = 5 / 25M / 1M / 0.0021G \r\n",
        "      - Total params: 24,637,826, Trainable params: 1,050,114, Non-trainable params: 23,587,712  \r\n",
        "    - Regular Run:\r\n",
        "      - Train Time (time / verbose) = 446.35871052742004s / 411s\r\n",
        "      - Test Time (time / verbose) = 4.191006660461426s / 4s\r\n",
        "      - Test Time / sample (time / verbose) = 0.0036285771952046975s / 0.00346s \r\n",
        "      - Train / Val / Test Acc % = 92.2 / 90.4 / 82.6\r\n",
        "    - CV: \r\n",
        "      - Validation Time (time) = 2644.3752892017365s\r\n",
        "      - Validation Accuracy Mean (+/- Std Deviation): 88.30% (+/- 0.80%)\r\n",
        "  - **MobileNet**\r\n",
        "    - Conv Layer / FLOPS = 13 / 1.15G \r\n",
        "    - **XFR**\r\n",
        "      - Total Params / Trainable Params = 4.8M / 0.5M\r\n",
        "        - Total params: 4,767,402 , Trainable params: 513,538 , Non-trainable params: 4,253,864\r\n",
        "      - Regular Run:\r\n",
        "        - Train Time (time / verbose) = 162.90089511871338s / 202s\r\n",
        "        - Test Time (time / verbose) = 1.819808006286621s / 2s\r\n",
        "        - Test Time / sample (time / verbose) = 0.001575591347434304s / 0.00173s\r\n",
        "        - Train / Val / Test Acc % = 83.2 / 85.0 / 78.4\r\n",
        "      - CV: \r\n",
        "        - Validation Time (time) = 988.1067225933075s\r\n",
        "        - Validation Accuracy Mean (+/- Std Deviation): 78.03% (+/- 0.78%)\r\n",
        "    - **FT**\r\n",
        "      - Total Params / Trainable Params = 4.8M / 2.6M\r\n",
        "        - Total params: 4,767,402 , Trainable params: 2,600,426 , Non-trainable params: 2,166,976\r\n",
        "      - Regular Run: \r\n",
        "        - Train Time (time / verbose) = 160.71819162368774s / 200s\r\n",
        "        - Test Time (time / verbose) = 1.453615665435791s / 1s\r\n",
        "        - Test Time / sample (time / verbose) = 0.0012585417016760096s / 0.00087s\r\n",
        "        - Train / Val / Test Acc % = 84.8 / 89.6 / 83.6  \r\n",
        "      - CV: \r\n",
        "        - Validation Time (time) = 992.2293410301208s\r\n",
        "        - Validation Accuracy Mean (+/- Std Deviation): 78.29% (+/- 1.35%)"
      ]
    },
    {
      "cell_type": "markdown",
      "metadata": {
        "id": "X4BaEWfpoq28"
      },
      "source": [
        "### Version 0.17: ResNet50 XFR, MobileNet XFR, MobileNet FT Baseline Values "
      ]
    },
    {
      "cell_type": "markdown",
      "metadata": {
        "id": "HETNgK2Mgbai"
      },
      "source": [
        "- **0.17**: run for Epoch = 100\r\n",
        "  - XFR = Transfer Learning, FT = Fine tuning\r\n",
        "  - For Regular Run: Train & Test Acc is w.r.t. Best Val Accuracy.\r\n",
        "  - Common Hyper parameters: Batchsize = 10, Learning Rate = 0.01, Neurons after Conv = 512, Dropout = 0.4. \r\n",
        "  - **Resnet50 XFR**\r\n",
        "    - Conv Layer / Total Params / Trainable Params / FLOPS = 5 / 25M / 1M / 0.0021G   \r\n",
        "    - Regular Run: \r\n",
        "      - Train Time Verbose / Colab = 404s / 474.015s\r\n",
        "      - Test Time Verbose / Colab (1155 samples) = 4s / 490.921s ?\r\n",
        "      - Test Time per sample = 3.5ms / 425ms ?\r\n",
        "      - Train / Val / Test Acc % = 86.7 / 90.1 / 81.8\r\n",
        "    - CV: \r\n",
        "      - Validation Time (Colab) = 3030.406s\r\n",
        "      - Val Acc Mean (+/- Std Deviation): 87.86% (+/- 1.24%)\r\n",
        "  - **MobileNet**\r\n",
        "    - Conv Layer / FLOPS = 13 / 1.15G \r\n",
        "    - **XFR**\r\n",
        "      - Total Params / Trainable Params = 5M / 0.5M\r\n",
        "      - Regular Run:\r\n",
        "        - Train Time Verbose / Colab =  202s / 3192.38s ?\r\n",
        "        - Test Time Verbose / Colab (1155 samples) = 1s / 3198.253s ?\r\n",
        "        - Test Time per sample = 0.87ms / 2.77s ?\r\n",
        "        - Train / Val / Test Acc % = 82.1 / 84.2 / 77.8\r\n",
        "      - CV: \r\n",
        "        - Validation Time (Colab) = 4169.914s\r\n",
        "        - Val Acc Mean (+/- Std Deviation): 78.34% (+/- 1.30%)\r\n",
        "    - **FT**\r\n",
        "      - Total Params / Trainable Params = 5M / 2.6M\r\n",
        "      - Regular Run: \r\n",
        "        - Train Time Verbose / Colab = 200s / 4328.194s ?\r\n",
        "        - Test Time Verbose / Colab (1155 samples) = 1s / 4333.798s ?\r\n",
        "        - Test Time per sample = 0.87ms / 3.75s ?\r\n",
        "        - Train / Val / Test Acc % = 82.6 / 89.3 / 84.9  \r\n",
        "      - CV: \r\n",
        "        - Validation Time (Colab) = 5311.684s\r\n",
        "        - Val Acc Mean (+/- Std Deviation): 79.16% (+/- 1.23%)\r\n",
        "\r\n"
      ]
    },
    {
      "cell_type": "markdown",
      "metadata": {
        "id": "DoV84asAovk9"
      },
      "source": [
        "### Version 0.16"
      ]
    },
    {
      "cell_type": "markdown",
      "metadata": {
        "id": "SE4-TN-AYYu1"
      },
      "source": [
        "- **0.16**\r\n",
        "  - Changed 'tf.keras.applications.mobilenet.MobileNet()' to 'mobilenet = tf.keras.applications.MobileNet()' to reconfirm using MobilenetV1\r\n",
        "  - mobilenet = tf.keras.applications.mobilenet.MobileNet()\r\n",
        "    - Downloading data from https://storage.googleapis.com/tensorflow/keras-applications/mobilenet/mobilenet_1_0_224_tf.h5\r\n",
        "  - mobilenet = tf.keras.applications.MobileNet()\r\n",
        "    - Downloading data from https://storage.googleapis.com/tensorflow/keras-applications/mobilenet/mobilenet_1_0_224_tf.h5\r\n",
        "  - ResNet50 Transfer\r\n",
        "      - Regular Run: Train/Val/Test Acc = 61.2 / 74.3 / 73.3   \r\n",
        "      - CV Run:  Validation Accuracy Mean (+/- Std Deviation): 77.90% (+/- 1.05%)\r\n",
        "  - MobileNet Transfer\r\n",
        "      - Regular Run: Train/Val/Test Acc = 70.1 / 76.5 / 74.0\r\n",
        "      - CV Run:  Validation Accuracy Mean (+/- Std Deviation): 76.69% (+/- 1.32%)\r\n",
        "  - MobileNet FineTune\r\n",
        "      - Regular Run: Train/Val/Test Acc = 76.4 / 80.5 / 76.5 \r\n",
        "      - CV Run: Validation Accuracy Mean (+/- Std Deviation): 77.77% (+/- 2.34%)"
      ]
    },
    {
      "cell_type": "markdown",
      "metadata": {
        "id": "GlW_uOwYIEv3"
      },
      "source": [
        "### Version 0.15"
      ]
    },
    {
      "cell_type": "markdown",
      "metadata": {
        "id": "DaYet9a9IFz9"
      },
      "source": [
        "- **0.15**: implemented flops\r\n",
        "    - ResNet50 Transfer - 0.0021G\r\n",
        "      - Regular Run: Train/Val/Test Acc = 59.5 / 73.5 / 71.0 \r\n",
        "      - CV Run: Validation Accuracy Mean (+/- Std Deviation): 79.34% (+/- 1.76%)\r\n",
        "    - MobileNet Transfer - 1.15G\r\n",
        "      - Regular Run: Train/Val/Test Acc =  71.0 / 82.4 / 75.6\r\n",
        "      - CV Run: Validation Accuracy Mean (+/- Std Deviation): 76.03% (+/- 1.57%)\r\n",
        "    - MobileNet FineTune - 1.15G\r\n",
        "      - Regular Run: Train/Val/Test Acc =  76.9 / 83.2 / 77.1  \r\n",
        "      - CV Run: Validation Accuracy Mean (+/- Std Deviation): 75.16% (+/- 0.93%)\r\n",
        "\r\n",
        "- Note: XFR = Transfer Learning, FT = Fine tuning, Train & Test Acc is w.r.t. Best Val Accuracy. Common Hyper parameters: Batchsize = 10, Learning Rate = 0.01, Neurons after Conv = 512, Dropout = 0.4.\r\n",
        "  - Without cross-validation, with same hyper parameters, Test Accuracy/Total Params/Trainable Params/No. of Convolution Layers/FLOPS/Train Time/Test Time/Test Time per Sample    \r\n",
        "    - Below is for Epoch = 100    \r\n",
        "    - Resnet50 XFR (~81%/~25M/~1M/5 Conv/0.0021G/~300s/3s/~2.6ms)    \r\n",
        "    - MobileNet XFR (~78%/~5M/~0.5M/13 Conv/1.15G/~200s/1s/~0.87ms)    \r\n",
        "    - MobileNet FT (~79%/~5M/~2.6M/13 Conv/1.15G/~200s/1s/~0.87ms)\r\n",
        "  - With cross-validation, with same hyper parameters, Test Accuracy Mean +/- Std Dev/Total Params/Trainable Params/No. of Convolution Layers/FLOPS    \r\n",
        "    - Below is for Epoch = 1, Cross Validation Folds = 4    \r\n",
        "    - Resnet50 XFR (79.34% (+/- 1.76%)/~25M/~1M/5 Conv/0.0021G)    \r\n",
        "    - MobileNet XFR (76.03% (+/- 1.57%)/~5M/~0.5M/13 Conv/1.15G)    \r\n",
        "    - MobileNet FT (75.16% (+/- 0.93%)/~5M/~2.6M/13 Conv/1.15G)"
      ]
    },
    {
      "cell_type": "markdown",
      "metadata": {
        "id": "0dalPY9JlUjk"
      },
      "source": [
        "### Version 0.12-0.14 (Implemented Cross Validation for 1 Epoch, 4 Folds: Other hyperparameters same as in v0.11)"
      ]
    },
    {
      "cell_type": "markdown",
      "metadata": {
        "id": "SdyIzgHjlaS6"
      },
      "source": [
        "- **0.12**: rerun to baseline\r\n",
        "- **0.13**\r\n",
        "  - **epoch = 1, fold = 2**\r\n",
        "  - saved labels before conversion to categorical\r\n",
        "  - added code macros for cross validation = true, fold = 2 \r\n",
        "  - added code for cross-validation for resnet50 transfer learning\r\n",
        "  - added code for cross-validation for mobilenet transfer learning \r\n",
        "  - ResNet50 Transfer\r\n",
        "    - Regular Run: Train/Val/Test Acc = 57.0 / 73.5 / 70.7\r\n",
        "    - CV Run: Validation Accuracy Mean (+/- Std Deviation): 74.64% (+/- 1.51%)\r\n",
        "  - MobileNet Transfer\r\n",
        "    - Regular Run: Train/Val/Test Acc = 69.1 / 77.3 / 74.5\r\n",
        "    - CV Run: Validation Accuracy Mean (+/- Std Deviation): 75.82% (+/- 0.27%)\r\n",
        "- **0.14**\r\n",
        "  - **epoch = 100, fold = 4**\r\n",
        "    - ResNet50 Transfer\r\n",
        "      - Regular Run: Train/Val/Test Acc = 88.1 / 88.8 / 79\r\n",
        "      - CV Run: only for 1 fold ... 88.4 .. later I interrupted\r\n",
        "    - MobileNet Transfer\r\n",
        "      - Regular Run: Train/Val/Test Acc .. later I interrupted\r\n",
        "      - CV Run: .. later I interrupted\r\n",
        "  - **epoch = 1, fold = 4**\r\n",
        "    - ResNet50 Transfer\r\n",
        "      - Regular Run: Train/Val/Test Acc =  60.0 / 72.7 / 69.7\r\n",
        "      - CV Run: Validation Accuracy Mean (+/- Std Deviation): 79.16% (+/- 2.54%)\r\n",
        "    - MobileNet Transfer\r\n",
        "      - Regular Run: Train/Val/Test Acc =  71.6 / 80.5 / 74.8\r\n",
        "      - CV Run: Validation Accuracy Mean (+/- Std Deviation): 75.64% (+/- 1.61%) \r\n",
        "    - MobileNet FineTune\r\n",
        "      - CV done before the regular run of train/val/test to ensure we use the weights from transfer and not from regular run of finetune.\r\n",
        "      - CV Run:  Validation Accuracy Mean (+/- Std Deviation): 77.82% (+/- 2.03%)\r\n",
        "      - Regular Run: Train/Val/Test Acc =  75.3 / 81.8 / 76.6\r\n",
        "  - Updated code to have separate checkpoint files for each model. Cross-validation of MobileNet FineTune Model uses MobileNet Transfer file for initialization.\r\n",
        "    - **epoch = 1, fold = 4**\r\n",
        "    - ResNet50 Transfer\r\n",
        "      - Regular Run: Train/Val/Test Acc = 61.5 / 71.9 / 72.1 \r\n",
        "      - CV Run: Validation Accuracy Mean (+/- Std Deviation): 78.78% (+/- 3.65%)\r\n",
        "    - MobileNet Transfer\r\n",
        "      - Regular Run: Train/Val/Test Acc = 68.0 / 81.3 / 75.6 \r\n",
        "      - CV Run: Validation Accuracy Mean (+/- Std Deviation): 76.64% (+/- 0.98%)\r\n",
        "    - MobileNet FineTune\r\n",
        "      - Regular Run: Train/Val/Test Acc = 74.6 / 81.8 / 76.9  \r\n",
        "      - CV Run: Validation Accuracy Mean (+/- Std Deviation): 76.03% (+/- 1.67%)\r\n"
      ]
    },
    {
      "cell_type": "markdown",
      "metadata": {
        "id": "rttCQhWPHOCE"
      },
      "source": [
        "### Version 0.11"
      ]
    },
    {
      "cell_type": "markdown",
      "metadata": {
        "id": "siGkxsXEHSUJ"
      },
      "source": [
        "- **0.11** \r\n",
        "  - As is Rerun\r\n",
        "    - Epoch = 100, Batchsize = 10, Learning Rate = 0.01, Neurons = 512, Dropout = 0.4. Train & Test Acc is w.r.t. Best Val Accuracy.\r\n",
        "    - ResNet50 (Transfer Learning) - 5 Convolution Layers\r\n",
        "      - Total/Trainable Params: 24.64M/1.05M\r\n",
        "      - Train + Validation Time: (8s x 1) + (3s x 99) = 305s\r\n",
        "      - Test Time: 3s, Test/sample = (3/1155)s = 0.0026s = 2.6ms  \r\n",
        "      - Train/Val/Test Acc: 93.7 / 89.0 / 80.7\r\n",
        "    - MobileNet - 13 Convolution Layers\r\n",
        "      - Transfer Learning\r\n",
        "        - Total/Trainable Params: 4.77M/0.51M\r\n",
        "        - Train + Validation Time: (4s x 1) + (max 2s x 99) = 202s\r\n",
        "        - Test Time: 1s, Test/sample = (1/1155)s = 0.87ms \r\n",
        "        - Train/Val/Test Acc: 79.5 / 84.2 / 78.0\r\n",
        "      - Finetuning\r\n",
        "        - Total/Trainable Params: 4.77M/2.60M\r\n",
        "        - Train + Validation Time: (max 2s x 100) = 200s\r\n",
        "        - Test Time: 1s, Test/sample = (1/1155)s = 0.87ms \r\n",
        "        - Train/Val/Test Acc: 88.2 / 84.2 / 78.8"
      ]
    },
    {
      "cell_type": "markdown",
      "metadata": {
        "id": "y1XTl8F6sKrr"
      },
      "source": [
        "### Version 0.10"
      ]
    },
    {
      "cell_type": "markdown",
      "metadata": {
        "id": "4CrC5fg4sTgX"
      },
      "source": [
        "- **0.10** \r\n",
        "  - Cleaned up indenting\r\n",
        "  - Added hyperparameter macros that can be used for all models\r\n",
        "    - ResNet50 was with 1024 neurons, 40% dropout\r\n",
        "    - MobileNet was with 512 neurons, 60% dropout.\r\n",
        "    - Made EPOCHS = 100, BATCH_SIZE = 10, LEARNING_RATE = 0.01, DENSE_LAYER_NEURONS = 512, DENSE_LAYER_DROPOUT = 0.4\r\n",
        "  - Implemented 'checkpoint' as a function to be used a callback by any model. Enabled callback for ResNet50\r\n",
        "  - Accuracy\r\n",
        "    - ResNet50 (XFR Learning): Best_Train/Best_Val/Test = 89.4 / 88.8 / 80.7\r\n",
        "    - MobileNet (XFR Learning): Best_Train/Best_Val/Test = 83.6 / 85.0 / 77.6\r\n",
        "    - MobileNet (Fine Tuning): Best_Train/Best_Val/Test = 86.9 / 84.0 / 77.7\r\n",
        "  \r\n"
      ]
    },
    {
      "cell_type": "markdown",
      "metadata": {
        "id": "Z__HJG6gIxMj"
      },
      "source": [
        "### Version 0.09"
      ]
    },
    {
      "cell_type": "markdown",
      "metadata": {
        "id": "4E9zAmtKTUx1"
      },
      "source": [
        "- **0.09** **MobileNet**\n",
        "  - **Epoch=100**: img resize: lr=0.01: BN = N: **Dropout = 0.4**: Params (Total/Trainable/Non-trainable)= 5,280,938 / 1,027,074 / 4,253,864: Train/Val/Test Acc = 87.4/80.8/78.0\n",
        "  - Epoch=100: **Best Model**: Train/Val/Test Acc = 82.1/84.0/77.8\n",
        "  - **Epoch=200**: Best Model: Train/Val/Test Acc = 79.0/84.0/78.9\n",
        "  - **Epoch=100**: Best Model: **Regularizer: Kernel/Bias L2(0.01) for Dense(1024)**: Train/Val/Test Acc = 70.6/80.0/72.5\n",
        "  - Epoch=100: Best Model: Regularizer: Kernel/Bias L2(0.01) for Dense(1024), **Dense(2)**: Train/Val/Test Acc = 69.0/78.3/72.6\n",
        "  - Epoch=100: Best Model: Regularizer: Kernel/Bias **L1**(0.01) for Dense(1024), Dense(2): Train/Val/Test Acc = val acc was ~55% for 20 epochs so interrupted it\n",
        "  - Epoch=100: Best Model: Regularizer: Kernel/Bias/**Activity L2**(0.01) for Dense(1024), Dense(2): Train/Val/Test Acc = 68.1/79.1/72.4\n",
        "  - Epoch=100: Best Model: Regularizer: Kernel/Bias/Activity L2**(0.2)** for Dense(1024), Dense(2): Train/Val/Test Acc = val acc was ~55% for 20 epochs so interrupted it\n",
        "  - Epoch=100: Best Model: Regularizer: Kernel/Bias/Activity L2**(1e-4/1e-4/1e-5)** for Dense(1024), Dense(2): Train/Val/Test Acc = 77.6/84.0/77.5 ... regularizer is not helping much ... revert to No Regularizer\n",
        "  - **Best Model**: **Epoch=100**: Train/Val/Test Acc = 81.5/84.5/77.8\n",
        "  - Best Model: **Epoch=1**: **Nottrainable/trainabele layers = 0-79/80-94**:  Train/Val/Test Acc = val acc was ~55% for 20 epochs so interrupted it\n",
        "  - Best Model: **Epoch=100**: NonTrainable(MobileNet)+ Trainable(Dense(1024), Dropout, Dense(2)): Train/Val/Test Acc = 82.3/85/79\n",
        "  - Best Model: Epoch=100: NonTrainable(MobileNet)+ Trainable(Dense(**512**), Dropout, Dense(2)): Train/Val/Test Acc = 82.1/84.8/78.7\n",
        "  - Best Model: Epoch=100: **MobileNet NT till Conv13 (0-85), T for Rest** + Trainable(Dense(512), Dropout, Dense(2)): Train/Val/Test Acc = val acc was ~55% for 20 epochs so interrupted it\n",
        "  - Best Model: Epoch=100: MobileNet NT **till Conv12 (0-79)**, T for Rest** + Trainable(Dense(512), Dropout, Dense(2)): Train/Val/Test Acc = val acc was ~55% for 20 epochs so interrupted it\n",
        "  - Best Model: Epoch=100: NonTrainable(MobileNet)+ Trainable(Dense(**512**), Dropout, Dense(2)): Train/Val/Test Acc = 88.5/85.0/77.7\n",
        "  - Best Model: Epoch=100: **NonTrainable(MobileNet)+ Trainable(Dense(**512**), Dropout, Dense(2)) -> save and load weights -> NonTrainable(MobileNet till <86) Trainable (86 and later = GAP...)+ Trainable(Dense(**512**), Dropout, Dense(2))**: Train/Val/Test Acc = 78.7/84.8/76.8 -> ../84.8/76.8\n",
        "  - Best Model: Epoch=100: NonTrainable(MobileNet)+ Trainable(Dense(512), Dropout, Dense(2)) -> save and load weights -> NonTrainable(MobileNet **till <80**) Trainable (80 and later = **Conv13,GAP...**)+ Trainable(Dense(512), Dropout, Dense(2)): Train/Val/Test Acc = 82.1/84.2/78.2 -> ../84.2/78.2\n",
        "  - Best Model: Epoch=100: NonTrainable(MobileNet)+ Trainable(Dense(512), Dropout, Dense(2)) -> save and load weights -> NonTrainable(MobileNet **till <73**) Trainable (73 and later = **Conv12,Conv13,GAP...**)+ Trainable(Dense(512), Dropout, Dense(2)): Train/Val/Test Acc = 80.1/84.2/78.4 -> ../84.2/78.4 \n",
        "  - Best Model: Epoch=100: NonTrainable(MobileNet)+ Trainable(Dense(512), Dropout, Dense(2)) -> save and load weights -> **Trainable(MobileNet till <73**) Trainable (73 and later = **Conv12,Conv13,GAP...**)+ Trainable(Dense(512), Dropout, Dense(2)): Train/Val/Test Acc = 81.8/84.2/78.3 -> 86.2/84.5/78.4\n",
        "  - Best Model: Epoch=100: NonTrainable(MobileNet)+ Trainable(Dense(512), Dropout, Dense(2)) -> save and load weights -> NonTrainable(MobileNet **till <80**) Trainable (80 and later = **Conv13,GAP...**)+ Trainable(Dense(512), Dropout, Dense(2)): Params (Total/Trainable/Non-trainable)= 4,767,402 / 2,600,426 / 2,166,976: Train/Val/Test Acc = 79.8/84.8/78.4 -> ../84.8/78.4\n",
        "\n",
        "\n",
        "\n",
        "\n",
        "   \n"
      ]
    },
    {
      "cell_type": "markdown",
      "metadata": {
        "id": "q4Ryh-JimjiK"
      },
      "source": [
        "### Version 0.08"
      ]
    },
    {
      "cell_type": "markdown",
      "metadata": {
        "id": "0pCxVDSZmlkq"
      },
      "source": [
        "- **0.08** **MobileNet**\r\n",
        "  - Changed model to Pre-trained MobileNet\r\n",
        "  - Epoch=1: **img resize**: lr=0.01: BN = N: Dropout = N: Train/Val/Test Acc = 68.2/76.5/73.8\r\n",
        "  - Epoch=10: img resize: lr=0.01: BN = N: Dropout = N: Train/Val/Test Acc = 80.5/82.4/78.9\r\n",
        "  - **Epoch=20**: img resize: lr=0.01: BN = N: Dropout = N:Train/Val/Test Acc = 83.7/79.2/76.5 ... revert to Epoch=10\r\n",
        "  - **Epoch=10**: img resize: **lr=0.0001**: BN = N: Dropout = N:Train/Val/Test Acc = 71.9/78.6/73.6 ... revert to lr=0.01\r\n",
        "  - Epoch=10: img resize: **lr=0.01**: **BN = Y**: Dropout = N: Train/Val/Test Acc = 83.0/77.8/71.0 revert to BN = N\r\n",
        "  - Epoch=10: img resize: lr=0.01: **BN = N**: **Dropout = 0.2**: Train/Val/Test Acc = 77.1/80.8/76.9\r\n",
        "  - Epoch=10: img resize: lr=0.01: BN = N: **Dropout = 0.4**: Train/Val/Test Acc = 78.8/82.6/78.0\r\n",
        "  - **Epoch=20**: img resize: lr=0.01: BN = N: Dropout = 0.4: Train/Val/Test Acc = 81.6/76.6/75.4 ... revert to Epoch = 10\r\n",
        "  - **Epoch=10**: img resize: lr=0.01: BN = N: **Dropout = 0.5**: Train/Val/Test Acc = 78.3/84.2/77.8 ... revert to Dropout = 0.4\r\n",
        "  - Epoch=10: img resize: lr=0.01: BN = N: **Dropout = 0.4**: Params (Total/Trainable/Non-trainable)= 5,280,938 / 1,027,074 / 4,253,864: Train/Val/Test Acc = 78.3/79.1/76.5"
      ]
    },
    {
      "cell_type": "markdown",
      "metadata": {
        "id": "Ho0vVgWAmbpf"
      },
      "source": [
        "### Version 0.07"
      ]
    },
    {
      "cell_type": "markdown",
      "metadata": {
        "id": "ySQuE0MtmeoC"
      },
      "source": [
        "- **0.07** **ResNet50**\r\n",
        "  - As is rerun: Epoch=20: Adam(lr=0.01): Dropout(0.4): No BN: batch size = 10: Train/Val/Test Acc = 86.7/86.6/81.4\r\n",
        "  - Change **batch size** from 10 to 20: Train/Val/Test Acc = 91.2/83.7/78.9 ... reduces accuracy, so reverted to batch size of 10\r\n",
        "  - Implemented **Data Augmentation** with batch size of 10: Train/Val/Test Acc = 78.1/79.7/69.0 ...reduces accuracy, should we increase batch size?\r\n",
        "  - Implemented **Data Augmentation** with batch size of 100: Train/Val/Test Acc = 89.3/72.2/67.9 ...reduces accuracy, should we decrease batch size?\r\n",
        "  - Implemented **Data Augmentation** with batch size of 5: Train/Val/Test Acc = 58.3/48.4/48.1  ... reduces accuracy, reverted to batch size of 10, and no Data Augmentation\r\n",
        "  - Epoch=20: Adam(lr=0.01): Dropout(0.4): No BN: **batch size = 10**: **No DataAug**: Params (Total/Trainable/Non-trainable)= 25,687,938 / 2,100,226 / 23,587,712: Train/Val/Test Acc = 91.8/90.6/81.1"
      ]
    },
    {
      "cell_type": "markdown",
      "metadata": {
        "id": "zs0QIeKrmMQ1"
      },
      "source": [
        "### Version 0.06"
      ]
    },
    {
      "cell_type": "markdown",
      "metadata": {
        "id": "4nvsJYrimP-N"
      },
      "source": [
        "- **0.06** **ResNet50**\r\n",
        "  - Before any modification: full rerun took ~15mins (most of it for loading train/val/test images/labels... and very less for model training/test)\r\n",
        "  - Before any modification: Train/Val/Test Acc = 53/51.1/51.3\r\n",
        "  - Changed model = Pre-trained ResNet50 + Modified FCN Layer\r\n",
        "    - SGD (LR=0.0001, M=0.9), Categorical Crossentropy\r\n",
        "    - 1st run: Train/Val/Test Acc = 57.5/72.7/67.1\r\n",
        "    - Converted ones/zeroes count to function\r\n",
        "    - Converted images/label prep to function\r\n",
        "    - Epoch=1: Train/Val/Test Acc = 61/67.9/67\r\n",
        "    - Epoch=5: Train/Val/Test Acc = 85.6/80.8/75.9\r\n",
        "    - Epoch=10: Train/Val/Test Acc = 93.0/85.6/77.7\r\n",
        "    - Epoch=20: Train/Val/Test Acc = 94.1/89.0/80.4\r\n",
        "    - Epoch=20: Changed loss function to 'binary crossentropy', reduced the accuracy: Train/Val/Test Acc = 90.2/84.0/77.7 Hence, reverted to categorical crossentropy as the loss function\r\n",
        "    - Epoch=20: Changed optimizer to Adam(lr=0.01), increased accuracy: Train/Val/Test Acc = 99.3/86.9/83.2\r\n",
        "    - In above training accuracy is high, validation and test accuracy is low ... it is overfitting ... let us implement Dropout\r\n",
        "    - Epoch=20: Adam(lr=0.01): Dropout(0.2): Train/Val/Test Acc = 93.0/88.8/82.1\r\n",
        "    - Epoch=20: Adam(lr=0.01): Dropout(0.4): Train/Val/Test Acc = 90.8/89.8/83.4\r\n",
        "    - Epoch=20: Adam(lr=0.01): Dropout(0.5): Train/Val/Test Acc = 92.2/90.6/82.3 .. reverted to Dropout(0.4)\r\n",
        "    - Let us try Batch Normalization. ResNet50 -> Dense (1024) -> Batch Norm -> relu -> Dropout -> Dense(2,softmax)\r\n",
        "    - Epoch=20: Adam(lr=0.01): Dropout(0.4): BN: Train/Val/Test Acc = 90.6/81.6/79.0 ... reduced accuracy\r\n",
        "    - Epoch=20: Adam(lr=0.01): Dropout(0.2): BN: Train/Val/Test Acc = 95.2/86.9/81.9 ... reduced accuracy will revert to no BN, Dropout(0.4)\r\n",
        "    - Epoch=20: Adam(lr=0.01): Dropout(0.4): Train/Val/Test Acc = 88.2/89.3/81.7"
      ]
    },
    {
      "cell_type": "markdown",
      "metadata": {
        "id": "mg96Q_kol8D-"
      },
      "source": [
        "### Version 0.01 - 0.05"
      ]
    },
    {
      "cell_type": "markdown",
      "metadata": {
        "id": "NpcAkTc8hKcL"
      },
      "source": [
        "- **0.05**: Migrate to Google Colab/Drive, changed loss function to 'binary_crossentropy', epochs to 1 : Train/Val/Test Acc = 55.7/55.9/55.2\r\n",
        "- **0.04**: Class Label Info in List was not accurate - fixed it. Now, Train/Validate/Test Accuracy is more realistic = ~55%\r\n",
        "- **0.03**: Tweak CNN model done for MNIST to work for this dataset to have a working end to end CNN model. Train/Validate/Test Accuracy = ~100%\r\n",
        "- **0.02**: Prepare Train/Validate/Test Labels and Images \r\n",
        "- **0.01**: Prepare Train/Validate/Test Images"
      ]
    },
    {
      "cell_type": "markdown",
      "metadata": {
        "id": "KLXoJsxynoCB"
      },
      "source": [
        "### References - Data Preparation"
      ]
    },
    {
      "cell_type": "markdown",
      "metadata": {
        "id": "G-HdlAy_TUx3"
      },
      "source": [
        "- Access Google Drive files from Google Colab\n",
        "  - https://www.youtube.com/watch?reload=9&v=lHRC5gFvQnA\n",
        "- Reading an image\n",
        "  - mathplotlib: https://stackoverflow.com/questions/9298665/cannot-import-scipy-misc-imread\n",
        "  - pathlib: https://medium.com/@ageitgey/python-3-quick-tip-the-easy-way-to-deal-with-file-paths-on-windows-mac-and-linux-11a072b58d5f#:~:text=To%20use%20it%2C%20you%20just,for%20the%20current%20operating%20system.\n",
        "  - OpenCV: https://www.geeksforgeeks.org/python-opencv-cv2-imread-method/\n",
        "- Load multiple images into a numpy array\n",
        "  - glob / os.listdir: https://stackoverflow.com/questions/39195113/how-to-load-multiple-images-in-a-numpy-array\n",
        "  - glob / cv2: https://medium.com/@muskulpesent/create-numpy-array-of-images-fecb4e514c4b\n",
        "- Load a CSV file\n",
        "  - Datacamp: https://www.datacamp.com/community/tutorials/pandas-read-csv?utm_source=adwords_ppc&utm_campaignid=1455363063&utm_adgroupid=65083631748&utm_device=c&utm_keyword=&utm_matchtype=b&utm_network=g&utm_adpostion=&utm_creative=278443377095&utm_targetid=dsa-429603003980&utm_loc_interest_ms=&utm_loc_physical_ms=9061994&gclid=EAIaIQobChMIz5TKz-v17QIV1AorCh0bfw96EAAYASAAEgKiGPD_BwE\n",
        "- Split a String\n",
        "  - Python Central: https://www.pythoncentral.io/cutting-and-slicing-strings-in-python/\n",
        "- Image Resize\n",
        "  - https://stackoverflow.com/questions/44650888/resize-an-image-without-distortion-opencv\n",
        "  - https://stackoverflow.com/questions/55571664/mobilenets-for-a-custom-image-size\n",
        "- Merge Train/Val/Test data\n",
        "  - Merge Dataframes\n",
        "    - https://pandas.pydata.org/pandas-docs/stable/user_guide/merging.html\n",
        "  - Merge and Split Dataframes\n",
        "    - https://datascience.stackexchange.com/questions/81617/how-to-combine-and-separate-test-and-train-data-for-data-cleaning\n",
        "  - \n",
        "\n"
      ]
    },
    {
      "cell_type": "markdown",
      "metadata": {
        "id": "XEayMrPQnvSL"
      },
      "source": [
        "### References - Model Definition"
      ]
    },
    {
      "cell_type": "markdown",
      "metadata": {
        "id": "9CPryaAbn0xA"
      },
      "source": [
        "- ResNet50\r\n",
        "  - https://cv-tricks.com/keras/understand-implement-resnets/\r\n",
        "  - Finetuning ResNet50\r\n",
        "    - https://www.pyimagesearch.com/2020/04/27/fine-tuning-resnet-with-keras-tensorflow-and-deep-learning/\r\n",
        "- MobileNet\r\n",
        "  - https://deeplizard.com/learn/video/Zrt76AIbeh4\r\n",
        "  - https://towardsdatascience.com/exploring-mobilenets-from-paper-to-keras-f01308ada818\r\n",
        "  - Fine Tuning MobileNet - Last few layers trainable\r\n",
        "    - https://towardsdatascience.com/transfer-learning-using-mobilenet-and-keras-c75daf7ff299\r\n",
        "  - MobileNet Version:\r\n",
        "    - https://keras.io/api/applications/mobilenet/\r\n",
        "- SqueezeNet\r\n",
        "  - https://codelabs.developers.google.com/codelabs/keras-flowers-squeezenet#6"
      ]
    },
    {
      "cell_type": "markdown",
      "metadata": {
        "id": "6s5vSukpETho"
      },
      "source": [
        "### References - Model Validation\r\n"
      ]
    },
    {
      "cell_type": "markdown",
      "metadata": {
        "id": "nOGLP3V-EcGc"
      },
      "source": [
        "- Keras Optimizer / Adam\r\n",
        "  - https://keras.io/api/optimizers/\r\n",
        "- Regularizer\r\n",
        "  - https://keras.io/api/layers/regularizers/\r\n",
        "- Save Weights for Best Model\r\n",
        "  - https://medium.com/@italojs/saving-your-weights-for-each-epoch-keras-callbacks-b494d9648202\r\n",
        "  - Monitoring Validaiton Accuracy - Skipping Error Solution\r\n",
        "    - https://github.com/tensorflow/tensorflow/issues/33163\r\n",
        "  - Predict using saved model\r\n",
        "    - https://stackoverflow.com/questions/44259651/how-to-use-predefined-trained-hdf5-file-with-wights-to-predict-a-class-of-new\r\n",
        "- K-cross validation: https://medium.com/the-owl/k-fold-cross-validation-in-keras-3ec4a3a00538\r\n",
        "  - use non-categorical labels for k-cross validation splits: https://stackoverflow.com/questions/48508036/sklearn-stratifiedkfold-valueerror-supported-target-types-are-binary-mul\r\n",
        "  - https://machinelearningmastery.com/ : Deep Learning with Python Book\r\n",
        "- FLOPS calculation\r\n",
        "  - https://pypi.org/project/keras-flops/\r\n",
        "  - https://www.manongdao.com/article-1967231.html\r\n",
        "- Time calculation\r\n",
        "  - https://www.tutorialspoint.com/How-to-get-current-time-in-milliseconds-in-Python#:~:text=You%20can%20get%20the%20current,1000%20and%20round%20it%20off.\r\n"
      ]
    },
    {
      "cell_type": "markdown",
      "metadata": {
        "id": "ertTy-ugCmNB"
      },
      "source": [
        ""
      ]
    }
  ]
}