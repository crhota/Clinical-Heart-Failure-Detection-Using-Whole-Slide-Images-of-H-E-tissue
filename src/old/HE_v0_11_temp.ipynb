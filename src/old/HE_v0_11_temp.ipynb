{
  "nbformat": 4,
  "nbformat_minor": 0,
  "metadata": {
    "@webio": {
      "lastCommId": null,
      "lastKernelId": null
    },
    "accelerator": "GPU",
    "colab": {
      "name": "HE_v0.11.ipynb",
      "provenance": [],
      "collapsed_sections": [
        "d-G5EELce9gf"
      ]
    },
    "kernelspec": {
      "display_name": "Python 3",
      "language": "python",
      "name": "python3"
    },
    "language_info": {
      "codemirror_mode": {
        "name": "ipython",
        "version": 3
      },
      "file_extension": ".py",
      "mimetype": "text/x-python",
      "name": "python",
      "nbconvert_exporter": "python",
      "pygments_lexer": "ipython3",
      "version": "3.7.3"
    }
  },
  "cells": [
    {
      "cell_type": "markdown",
      "metadata": {
        "id": "VTkgKJvoTUxt"
      },
      "source": [
        "# Clinical Heart Failure Detection Using Whole-Slide Images of H&E tissue"
      ]
    },
    {
      "cell_type": "markdown",
      "metadata": {
        "id": "6CzT5I5ZnTOM"
      },
      "source": [
        "## Version"
      ]
    },
    {
      "cell_type": "markdown",
      "metadata": {
        "id": "rttCQhWPHOCE"
      },
      "source": [
        "### Version 0.11"
      ]
    },
    {
      "cell_type": "markdown",
      "metadata": {
        "id": "siGkxsXEHSUJ"
      },
      "source": [
        "- **0.11** \r\n",
        "  - As is Rerun\r\n",
        "    - Epoch = 100, Batchsize = 10, Learning Rate = 0.01, Neurons = 512, Dropout = 0.4. Train & Test Acc is w.r.t. Best Val Accuracy.\r\n",
        "    - ResNet50 (Transfer Learning) - 5 Convolution Layers\r\n",
        "      - Total/Trainable Params: 24.64M/1.05M\r\n",
        "      - Train + Validation Time: (8s x 1) + (3s x 99) = 305s\r\n",
        "      - Test Time: 3s, Test/sample = (3/1155)s = 0.0026s = 2.6ms  \r\n",
        "      - Train/Val/Test Acc: 93.7 / 89.0 / 80.7\r\n",
        "    - MobileNet - 13 Convolution Layers\r\n",
        "      - Transfer Learning\r\n",
        "        - Total/Trainable Params: 4.77M/0.51M\r\n",
        "        - Train + Validation Time: (4s x 1) + (max 2s x 99) = 202s\r\n",
        "        - Test Time: 1s, Test/sample = (1/1155)s = 0.87ms \r\n",
        "        - Train/Val/Test Acc: 79.5 / 84.2 / 78.0\r\n",
        "      - Finetuning\r\n",
        "        - Total/Trainable Params: 4.77M/2.60M\r\n",
        "        - Train + Validation Time: (max 2s x 100) = 200s\r\n",
        "        - Test Time: 1s, Test/sample = (1/1155)s = 0.87ms \r\n",
        "        - Train/Val/Test Acc: 88.2 / 84.2 / 78.8\r\n",
        " \r\n",
        "  - Check version of MobileNet\r\n",
        "  - Implement K Cross Validation\r\n",
        "  - Check FLOPS"
      ]
    },
    {
      "cell_type": "markdown",
      "metadata": {
        "id": "y1XTl8F6sKrr"
      },
      "source": [
        "### Version 0.10"
      ]
    },
    {
      "cell_type": "markdown",
      "metadata": {
        "id": "4CrC5fg4sTgX"
      },
      "source": [
        "- **0.10** \r\n",
        "  - Cleaned up indenting\r\n",
        "  - Added hyperparameter macros that can be used for all models\r\n",
        "    - ResNet50 was with 1024 neurons, 40% dropout\r\n",
        "    - MobileNet was with 512 neurons, 60% dropout.\r\n",
        "    - Made EPOCHS = 100, BATCH_SIZE = 10, LEARNING_RATE = 0.01, DENSE_LAYER_NEURONS = 512, DENSE_LAYER_DROPOUT = 0.4\r\n",
        "  - Implemented 'checkpoint' as a function to be used a callback by any model. Enabled callback for ResNet50\r\n",
        "  - Accuracy\r\n",
        "    - ResNet50 (XFR Learning): Best_Train/Best_Val/Test = 89.4 / 88.8 / 80.7\r\n",
        "    - MobileNet (XFR Learning): Best_Train/Best_Val/Test = 83.6 / 85.0 / 77.6\r\n",
        "    - MobileNet (Fine Tuning): Best_Train/Best_Val/Test = 86.9 / 84.0 / 77.7\r\n",
        "  \r\n"
      ]
    },
    {
      "cell_type": "markdown",
      "metadata": {
        "id": "Z__HJG6gIxMj"
      },
      "source": [
        "### Version 0.09"
      ]
    },
    {
      "cell_type": "markdown",
      "metadata": {
        "id": "4E9zAmtKTUx1"
      },
      "source": [
        "- **0.09** **MobileNet**\n",
        "  - **Epoch=100**: img resize: lr=0.01: BN = N: **Dropout = 0.4**: Params (Total/Trainable/Non-trainable)= 5,280,938 / 1,027,074 / 4,253,864: Train/Val/Test Acc = 87.4/80.8/78.0\n",
        "  - Epoch=100: **Best Model**: Train/Val/Test Acc = 82.1/84.0/77.8\n",
        "  - **Epoch=200**: Best Model: Train/Val/Test Acc = 79.0/84.0/78.9\n",
        "  - **Epoch=100**: Best Model: **Regularizer: Kernel/Bias L2(0.01) for Dense(1024)**: Train/Val/Test Acc = 70.6/80.0/72.5\n",
        "  - Epoch=100: Best Model: Regularizer: Kernel/Bias L2(0.01) for Dense(1024), **Dense(2)**: Train/Val/Test Acc = 69.0/78.3/72.6\n",
        "  - Epoch=100: Best Model: Regularizer: Kernel/Bias **L1**(0.01) for Dense(1024), Dense(2): Train/Val/Test Acc = val acc was ~55% for 20 epochs so interrupted it\n",
        "  - Epoch=100: Best Model: Regularizer: Kernel/Bias/**Activity L2**(0.01) for Dense(1024), Dense(2): Train/Val/Test Acc = 68.1/79.1/72.4\n",
        "  - Epoch=100: Best Model: Regularizer: Kernel/Bias/Activity L2**(0.2)** for Dense(1024), Dense(2): Train/Val/Test Acc = val acc was ~55% for 20 epochs so interrupted it\n",
        "  - Epoch=100: Best Model: Regularizer: Kernel/Bias/Activity L2**(1e-4/1e-4/1e-5)** for Dense(1024), Dense(2): Train/Val/Test Acc = 77.6/84.0/77.5 ... regularizer is not helping much ... revert to No Regularizer\n",
        "  - **Best Model**: **Epoch=100**: Train/Val/Test Acc = 81.5/84.5/77.8\n",
        "  - Best Model: **Epoch=1**: **Nottrainable/trainabele layers = 0-79/80-94**:  Train/Val/Test Acc = val acc was ~55% for 20 epochs so interrupted it\n",
        "  - Best Model: **Epoch=100**: NonTrainable(MobileNet)+ Trainable(Dense(1024), Dropout, Dense(2)): Train/Val/Test Acc = 82.3/85/79\n",
        "  - Best Model: Epoch=100: NonTrainable(MobileNet)+ Trainable(Dense(**512**), Dropout, Dense(2)): Train/Val/Test Acc = 82.1/84.8/78.7\n",
        "  - Best Model: Epoch=100: **MobileNet NT till Conv13 (0-85), T for Rest** + Trainable(Dense(512), Dropout, Dense(2)): Train/Val/Test Acc = val acc was ~55% for 20 epochs so interrupted it\n",
        "  - Best Model: Epoch=100: MobileNet NT **till Conv12 (0-79)**, T for Rest** + Trainable(Dense(512), Dropout, Dense(2)): Train/Val/Test Acc = val acc was ~55% for 20 epochs so interrupted it\n",
        "  - Best Model: Epoch=100: NonTrainable(MobileNet)+ Trainable(Dense(**512**), Dropout, Dense(2)): Train/Val/Test Acc = 88.5/85.0/77.7\n",
        "  - Best Model: Epoch=100: **NonTrainable(MobileNet)+ Trainable(Dense(**512**), Dropout, Dense(2)) -> save and load weights -> NonTrainable(MobileNet till <86) Trainable (86 and later = GAP...)+ Trainable(Dense(**512**), Dropout, Dense(2))**: Train/Val/Test Acc = 78.7/84.8/76.8 -> ../84.8/76.8\n",
        "  - Best Model: Epoch=100: NonTrainable(MobileNet)+ Trainable(Dense(512), Dropout, Dense(2)) -> save and load weights -> NonTrainable(MobileNet **till <80**) Trainable (80 and later = **Conv13,GAP...**)+ Trainable(Dense(512), Dropout, Dense(2)): Train/Val/Test Acc = 82.1/84.2/78.2 -> ../84.2/78.2\n",
        "  - Best Model: Epoch=100: NonTrainable(MobileNet)+ Trainable(Dense(512), Dropout, Dense(2)) -> save and load weights -> NonTrainable(MobileNet **till <73**) Trainable (73 and later = **Conv12,Conv13,GAP...**)+ Trainable(Dense(512), Dropout, Dense(2)): Train/Val/Test Acc = 80.1/84.2/78.4 -> ../84.2/78.4 \n",
        "  - Best Model: Epoch=100: NonTrainable(MobileNet)+ Trainable(Dense(512), Dropout, Dense(2)) -> save and load weights -> **Trainable(MobileNet till <73**) Trainable (73 and later = **Conv12,Conv13,GAP...**)+ Trainable(Dense(512), Dropout, Dense(2)): Train/Val/Test Acc = 81.8/84.2/78.3 -> 86.2/84.5/78.4\n",
        "  - Best Model: Epoch=100: NonTrainable(MobileNet)+ Trainable(Dense(512), Dropout, Dense(2)) -> save and load weights -> NonTrainable(MobileNet **till <80**) Trainable (80 and later = **Conv13,GAP...**)+ Trainable(Dense(512), Dropout, Dense(2)): Params (Total/Trainable/Non-trainable)= 4,767,402 / 2,600,426 / 2,166,976: Train/Val/Test Acc = 79.8/84.8/78.4 -> ../84.8/78.4\n",
        "\n",
        "\n",
        "\n",
        "\n",
        "   \n"
      ]
    },
    {
      "cell_type": "markdown",
      "metadata": {
        "id": "q4Ryh-JimjiK"
      },
      "source": [
        "### Version 0.08"
      ]
    },
    {
      "cell_type": "markdown",
      "metadata": {
        "id": "0pCxVDSZmlkq"
      },
      "source": [
        "- **0.08** **MobileNet**\r\n",
        "  - Changed model to Pre-trained MobileNet\r\n",
        "  - Epoch=1: **img resize**: lr=0.01: BN = N: Dropout = N: Train/Val/Test Acc = 68.2/76.5/73.8\r\n",
        "  - Epoch=10: img resize: lr=0.01: BN = N: Dropout = N: Train/Val/Test Acc = 80.5/82.4/78.9\r\n",
        "  - **Epoch=20**: img resize: lr=0.01: BN = N: Dropout = N:Train/Val/Test Acc = 83.7/79.2/76.5 ... revert to Epoch=10\r\n",
        "  - **Epoch=10**: img resize: **lr=0.0001**: BN = N: Dropout = N:Train/Val/Test Acc = 71.9/78.6/73.6 ... revert to lr=0.01\r\n",
        "  - Epoch=10: img resize: **lr=0.01**: **BN = Y**: Dropout = N: Train/Val/Test Acc = 83.0/77.8/71.0 revert to BN = N\r\n",
        "  - Epoch=10: img resize: lr=0.01: **BN = N**: **Dropout = 0.2**: Train/Val/Test Acc = 77.1/80.8/76.9\r\n",
        "  - Epoch=10: img resize: lr=0.01: BN = N: **Dropout = 0.4**: Train/Val/Test Acc = 78.8/82.6/78.0\r\n",
        "  - **Epoch=20**: img resize: lr=0.01: BN = N: Dropout = 0.4: Train/Val/Test Acc = 81.6/76.6/75.4 ... revert to Epoch = 10\r\n",
        "  - **Epoch=10**: img resize: lr=0.01: BN = N: **Dropout = 0.5**: Train/Val/Test Acc = 78.3/84.2/77.8 ... revert to Dropout = 0.4\r\n",
        "  - Epoch=10: img resize: lr=0.01: BN = N: **Dropout = 0.4**: Params (Total/Trainable/Non-trainable)= 5,280,938 / 1,027,074 / 4,253,864: Train/Val/Test Acc = 78.3/79.1/76.5"
      ]
    },
    {
      "cell_type": "markdown",
      "metadata": {
        "id": "Ho0vVgWAmbpf"
      },
      "source": [
        "### Version 0.07"
      ]
    },
    {
      "cell_type": "markdown",
      "metadata": {
        "id": "ySQuE0MtmeoC"
      },
      "source": [
        "- **0.07** **ResNet50**\r\n",
        "  - As is rerun: Epoch=20: Adam(lr=0.01): Dropout(0.4): No BN: batch size = 10: Train/Val/Test Acc = 86.7/86.6/81.4\r\n",
        "  - Change **batch size** from 10 to 20: Train/Val/Test Acc = 91.2/83.7/78.9 ... reduces accuracy, so reverted to batch size of 10\r\n",
        "  - Implemented **Data Augmentation** with batch size of 10: Train/Val/Test Acc = 78.1/79.7/69.0 ...reduces accuracy, should we increase batch size?\r\n",
        "  - Implemented **Data Augmentation** with batch size of 100: Train/Val/Test Acc = 89.3/72.2/67.9 ...reduces accuracy, should we decrease batch size?\r\n",
        "  - Implemented **Data Augmentation** with batch size of 5: Train/Val/Test Acc = 58.3/48.4/48.1  ... reduces accuracy, reverted to batch size of 10, and no Data Augmentation\r\n",
        "  - Epoch=20: Adam(lr=0.01): Dropout(0.4): No BN: **batch size = 10**: **No DataAug**: Params (Total/Trainable/Non-trainable)= 25,687,938 / 2,100,226 / 23,587,712: Train/Val/Test Acc = 91.8/90.6/81.1"
      ]
    },
    {
      "cell_type": "markdown",
      "metadata": {
        "id": "zs0QIeKrmMQ1"
      },
      "source": [
        "### Version 0.06"
      ]
    },
    {
      "cell_type": "markdown",
      "metadata": {
        "id": "4nvsJYrimP-N"
      },
      "source": [
        "- **0.06** **ResNet50**\r\n",
        "  - Before any modification: full rerun took ~15mins (most of it for loading train/val/test images/labels... and very less for model training/test)\r\n",
        "  - Before any modification: Train/Val/Test Acc = 53/51.1/51.3\r\n",
        "  - Changed model = Pre-trained ResNet50 + Modified FCN Layer\r\n",
        "    - SGD (LR=0.0001, M=0.9), Categorical Crossentropy\r\n",
        "    - 1st run: Train/Val/Test Acc = 57.5/72.7/67.1\r\n",
        "    - Converted ones/zeroes count to function\r\n",
        "    - Converted images/label prep to function\r\n",
        "    - Epoch=1: Train/Val/Test Acc = 61/67.9/67\r\n",
        "    - Epoch=5: Train/Val/Test Acc = 85.6/80.8/75.9\r\n",
        "    - Epoch=10: Train/Val/Test Acc = 93.0/85.6/77.7\r\n",
        "    - Epoch=20: Train/Val/Test Acc = 94.1/89.0/80.4\r\n",
        "    - Epoch=20: Changed loss function to 'binary crossentropy', reduced the accuracy: Train/Val/Test Acc = 90.2/84.0/77.7 Hence, reverted to categorical crossentropy as the loss function\r\n",
        "    - Epoch=20: Changed optimizer to Adam(lr=0.01), increased accuracy: Train/Val/Test Acc = 99.3/86.9/83.2\r\n",
        "    - In above training accuracy is high, validation and test accuracy is low ... it is overfitting ... let us implement Dropout\r\n",
        "    - Epoch=20: Adam(lr=0.01): Dropout(0.2): Train/Val/Test Acc = 93.0/88.8/82.1\r\n",
        "    - Epoch=20: Adam(lr=0.01): Dropout(0.4): Train/Val/Test Acc = 90.8/89.8/83.4\r\n",
        "    - Epoch=20: Adam(lr=0.01): Dropout(0.5): Train/Val/Test Acc = 92.2/90.6/82.3 .. reverted to Dropout(0.4)\r\n",
        "    - Let us try Batch Normalization. ResNet50 -> Dense (1024) -> Batch Norm -> relu -> Dropout -> Dense(2,softmax)\r\n",
        "    - Epoch=20: Adam(lr=0.01): Dropout(0.4): BN: Train/Val/Test Acc = 90.6/81.6/79.0 ... reduced accuracy\r\n",
        "    - Epoch=20: Adam(lr=0.01): Dropout(0.2): BN: Train/Val/Test Acc = 95.2/86.9/81.9 ... reduced accuracy will revert to no BN, Dropout(0.4)\r\n",
        "    - Epoch=20: Adam(lr=0.01): Dropout(0.4): Train/Val/Test Acc = 88.2/89.3/81.7"
      ]
    },
    {
      "cell_type": "markdown",
      "metadata": {
        "id": "mg96Q_kol8D-"
      },
      "source": [
        "### Version 0.01 - 0.05"
      ]
    },
    {
      "cell_type": "markdown",
      "metadata": {
        "id": "NpcAkTc8hKcL"
      },
      "source": [
        "- **0.05**: Migrate to Google Colab/Drive, changed loss function to 'binary_crossentropy', epochs to 1 : Train/Val/Test Acc = 55.7/55.9/55.2\r\n",
        "- **0.04**: Class Label Info in List was not accurate - fixed it. Now, Train/Validate/Test Accuracy is more realistic = ~55%\r\n",
        "- **0.03**: Tweak CNN model done for MNIST to work for this dataset to have a working end to end CNN model. Train/Validate/Test Accuracy = ~100%\r\n",
        "- **0.02**: Prepare Train/Validate/Test Labels and Images \r\n",
        "- **0.01**: Prepare Train/Validate/Test Images"
      ]
    },
    {
      "cell_type": "markdown",
      "metadata": {
        "id": "aTijnel0I8P9"
      },
      "source": [
        "## Improvement Opportunity"
      ]
    },
    {
      "cell_type": "markdown",
      "metadata": {
        "id": "43vNOnzBTUx1"
      },
      "source": [
        "- **TRIED**: As this is a 2 class classification - loss function can be changed to binary_crossentropy instead of categorical_crossentropy\n",
        "- **DONE**: Change model to ResNet50\n",
        "- **DONE**: Convert code sections in data preparation for train/validation/test to functions\n",
        "- **TRIED**: Reduce parameters, epochs.\n",
        "- **TRIED**: Try changing batch size\n",
        "- **TRIED**: Use Data Augmentation\n",
        "- **DONE**: Try to train last few layers of ResNet50 with the data\n",
        "- **TRIED**: Accuracy is fluctuating... optimize hyper parameters to have a smooth increase\n",
        "- Try k-cross validation\n",
        "- **TRIED** Try Regularization\n",
        "- Our image size is 250x250. ResNet50 expects 224x224. Do we need to do anything or ResNet50 will understand ?\n",
        "- **DONE**: Change Model to MobileNet\n",
        "- **DONE**: Is image resize done correctly for MobileNet ?\n"
      ]
    },
    {
      "cell_type": "markdown",
      "metadata": {
        "id": "GELaKt4nTUx2"
      },
      "source": [
        "## Download Dataset"
      ]
    },
    {
      "cell_type": "markdown",
      "metadata": {
        "id": "ouwKeET6nbZK"
      },
      "source": [
        "### Download Train, Validate and Test Images"
      ]
    },
    {
      "cell_type": "markdown",
      "metadata": {
        "id": "AvHgttBNTUx2"
      },
      "source": [
        "- Source Link to the Dataset / Annotation File: https://idr.openmicroscopy.org/webclient/?show=project-402\n",
        "- Follow the instructions at following link, install IBM Aspera Desktop Client to download the dataset.\n",
        "- Copy downloaded folders to '**data/images**' folder in your working directory where you have this Jupyter Notebook:\n",
        "  - 'held-out_validation'\n",
        "  - 'training'"
      ]
    },
    {
      "cell_type": "markdown",
      "metadata": {
        "id": "Sa6xmGhlniIH"
      },
      "source": [
        "### Download Label Information for Train, Validate and Test Images "
      ]
    },
    {
      "cell_type": "markdown",
      "metadata": {
        "id": "8QpqHhxkTUx2"
      },
      "source": [
        "- Following link will point to below Github link which has the annotation File: https://idr.openmicroscopy.org/webclient/?show=project-402\n",
        "- Source Link for the Annotation File: https://github.com/IDR/idr0042-nirschl-wsideeplearning/tree/master/experimentA\n",
        "- Download and copy file '**idr0042-experimentA-annotation.csv**' to '**data/labels/**' folder in your working directory where you have this Jupyter Notebook"
      ]
    },
    {
      "cell_type": "markdown",
      "metadata": {
        "id": "jV7ukSgPJKra"
      },
      "source": [
        "## References"
      ]
    },
    {
      "cell_type": "markdown",
      "metadata": {
        "id": "KLXoJsxynoCB"
      },
      "source": [
        "### Data Preparation"
      ]
    },
    {
      "cell_type": "markdown",
      "metadata": {
        "id": "G-HdlAy_TUx3"
      },
      "source": [
        "- Access Google Drive files from Google Colab\n",
        "  - https://www.youtube.com/watch?reload=9&v=lHRC5gFvQnA\n",
        "- Reading an image\n",
        "  - mathplotlib: https://stackoverflow.com/questions/9298665/cannot-import-scipy-misc-imread\n",
        "  - pathlib: https://medium.com/@ageitgey/python-3-quick-tip-the-easy-way-to-deal-with-file-paths-on-windows-mac-and-linux-11a072b58d5f#:~:text=To%20use%20it%2C%20you%20just,for%20the%20current%20operating%20system.\n",
        "  - OpenCV: https://www.geeksforgeeks.org/python-opencv-cv2-imread-method/\n",
        "- Load multiple images into a numpy array\n",
        "  - glob / os.listdir: https://stackoverflow.com/questions/39195113/how-to-load-multiple-images-in-a-numpy-array\n",
        "  - glob / cv2: https://medium.com/@muskulpesent/create-numpy-array-of-images-fecb4e514c4b\n",
        "- Load a CSV file\n",
        "  - Datacamp: https://www.datacamp.com/community/tutorials/pandas-read-csv?utm_source=adwords_ppc&utm_campaignid=1455363063&utm_adgroupid=65083631748&utm_device=c&utm_keyword=&utm_matchtype=b&utm_network=g&utm_adpostion=&utm_creative=278443377095&utm_targetid=dsa-429603003980&utm_loc_interest_ms=&utm_loc_physical_ms=9061994&gclid=EAIaIQobChMIz5TKz-v17QIV1AorCh0bfw96EAAYASAAEgKiGPD_BwE\n",
        "- Split a String\n",
        "  - Python Central: https://www.pythoncentral.io/cutting-and-slicing-strings-in-python/\n",
        "- Image Resize\n",
        "  - https://stackoverflow.com/questions/44650888/resize-an-image-without-distortion-opencv\n",
        "  - https://stackoverflow.com/questions/55571664/mobilenets-for-a-custom-image-size\n",
        "- Merge Train/Val/Test data\n",
        "  - Join Numpy Array\n",
        "    - https://www.w3schools.com/python/numpy_array_join.asp\n",
        "  - Merge Dataframes\n",
        "    - https://pandas.pydata.org/pandas-docs/stable/user_guide/merging.html\n",
        "  - Merge and Split Dataframes\n",
        "    - https://datascience.stackexchange.com/questions/81617/how-to-combine-and-separate-test-and-train-data-for-data-cleaning\n",
        "\n",
        "\n"
      ]
    },
    {
      "cell_type": "markdown",
      "metadata": {
        "id": "XEayMrPQnvSL"
      },
      "source": [
        "### Model Definition"
      ]
    },
    {
      "cell_type": "markdown",
      "metadata": {
        "id": "9CPryaAbn0xA"
      },
      "source": [
        "- ResNet50\r\n",
        "  - https://cv-tricks.com/keras/understand-implement-resnets/\r\n",
        "  - Finetuning ResNet50\r\n",
        "    - https://www.pyimagesearch.com/2020/04/27/fine-tuning-resnet-with-keras-tensorflow-and-deep-learning/\r\n",
        "- MobileNet\r\n",
        "  - https://deeplizard.com/learn/video/Zrt76AIbeh4\r\n",
        "  - https://towardsdatascience.com/exploring-mobilenets-from-paper-to-keras-f01308ada818\r\n",
        "  - Fine Tuning MobileNet - Last few layers trainable\r\n",
        "    - https://towardsdatascience.com/transfer-learning-using-mobilenet-and-keras-c75daf7ff299\r\n",
        "- SqueezeNet\r\n",
        "  - https://codelabs.developers.google.com/codelabs/keras-flowers-squeezenet#6"
      ]
    },
    {
      "cell_type": "markdown",
      "metadata": {
        "id": "6s5vSukpETho"
      },
      "source": [
        "### Model Validation\r\n"
      ]
    },
    {
      "cell_type": "markdown",
      "metadata": {
        "id": "nOGLP3V-EcGc"
      },
      "source": [
        "- Keras Optimizer / Adam\r\n",
        "  - https://keras.io/api/optimizers/\r\n",
        "- Regularizer\r\n",
        "  - https://keras.io/api/layers/regularizers/\r\n",
        "- Save Weights for Best Model\r\n",
        "  - https://medium.com/@italojs/saving-your-weights-for-each-epoch-keras-callbacks-b494d9648202\r\n",
        "  - Monitoring Validaiton Accuracy - Skipping Error Solution\r\n",
        "    - https://github.com/tensorflow/tensorflow/issues/33163\r\n",
        "  - Predict using saved model\r\n",
        "    - https://stackoverflow.com/questions/44259651/how-to-use-predefined-trained-hdf5-file-with-wights-to-predict-a-class-of-new\r\n",
        "- K-cross validation: https://medium.com/the-owl/k-fold-cross-validation-in-keras-3ec4a3a00538"
      ]
    },
    {
      "cell_type": "markdown",
      "metadata": {
        "id": "YYdvA7O8KAK0"
      },
      "source": [
        "## Understand Dataset"
      ]
    },
    {
      "cell_type": "markdown",
      "metadata": {
        "id": "3586paiFoAvW"
      },
      "source": [
        "### Understand Images Folder Structure and Number of Images Available"
      ]
    },
    {
      "cell_type": "markdown",
      "metadata": {
        "id": "iVqvp6TDTUx4"
      },
      "source": [
        "Training/Validation\n",
        "- \\..\\training\\fold_1: has images for training = 770#\n",
        "- \\..\\training\\test_fold_1: has images for validation = 374#\n",
        "- Total = 770 + 374 = 1144 images\n",
        "\n",
        "Test\n",
        "- \\..\\held-out_validation: has images for testing = 1155#"
      ]
    },
    {
      "cell_type": "markdown",
      "metadata": {
        "id": "Avjn1GKeoEd4"
      },
      "source": [
        "### Understand Annotation File and Label Information Available"
      ]
    },
    {
      "cell_type": "markdown",
      "metadata": {
        "id": "-MOqlD8qTUx4"
      },
      "source": [
        "Relevant columns of interest:\n",
        "- Column A: Dataset Name: Classifies each row/instance as 'training' or 'test'\n",
        "- Column B: Image Name: Specifies filename of the image for the row/instance\n",
        "- Column Z: Experimental Condition [Diagnosis]: has 3 classes:\n",
        "  - 'chronic heart failure'\n",
        "  - 'heart tissue pathology' - We will treat this as 'not chronic heart failure'\n",
        "  - 'not chronic heart failure'\n",
        "- Column AA: Channels: mentions RGB => images are color images and will have 3 channels Red/Green/Blue (for CNN). \n",
        "  \n",
        "Breakup of training/test instances:\n",
        "- training\n",
        "  - 'chronic heart failure' = 517\n",
        "  - 'not chronic heart failure' = 627\n",
        "- test\n",
        "  - 'chronic heart failure' = 517\n",
        "  - 'not chronic heart failure' = 638\n",
        "\n",
        "Total 'training' = 517 + 627 = 1144  (Note: 'validate' is a portion of this 'training' set.)\n",
        "\n",
        "Total 'test' = 517 + 638 = 1155"
      ]
    },
    {
      "cell_type": "markdown",
      "metadata": {
        "id": "rLtVEWyYoiVU"
      },
      "source": [
        "## Access Dataset"
      ]
    },
    {
      "cell_type": "markdown",
      "metadata": {
        "id": "4Oem7YyjKL7Z"
      },
      "source": [
        "### Load Libraries"
      ]
    },
    {
      "cell_type": "markdown",
      "metadata": {
        "id": "BxnppA2lTUx4"
      },
      "source": [
        "We need to read 'train, validate and test images' to arrays so that we can then use them to feed to our CNN model. We need to import the annotation file into a dataframe so that we can then access the labels information."
      ]
    },
    {
      "cell_type": "code",
      "metadata": {
        "id": "4rqxeoKlTUx5"
      },
      "source": [
        "# install OpenCV package - this is required only once\n",
        "# pip install opencv-python"
      ],
      "execution_count": 99,
      "outputs": []
    },
    {
      "cell_type": "code",
      "metadata": {
        "id": "HvKVTkfxTUx5"
      },
      "source": [
        "# aids in reading image files\r\n",
        "import cv2\r\n",
        "import glob"
      ],
      "execution_count": 100,
      "outputs": []
    },
    {
      "cell_type": "code",
      "metadata": {
        "id": "8yhluyj4TUx6"
      },
      "source": [
        "# aids in working with arrays\r\n",
        "import numpy as np"
      ],
      "execution_count": 101,
      "outputs": []
    },
    {
      "cell_type": "code",
      "metadata": {
        "id": "qyBfK1j9TUx6"
      },
      "source": [
        "# aids in working with dataframes\r\n",
        "import pandas as pd"
      ],
      "execution_count": 102,
      "outputs": []
    },
    {
      "cell_type": "markdown",
      "metadata": {
        "id": "PmuzEGsl12zy"
      },
      "source": [
        "### Mount Google Drive"
      ]
    },
    {
      "cell_type": "markdown",
      "metadata": {
        "id": "1fL4wKtMLhw3"
      },
      "source": [
        "We need to mount the google drive so that we can then access the files from google drive."
      ]
    },
    {
      "cell_type": "code",
      "metadata": {
        "colab": {
          "base_uri": "https://localhost:8080/"
        },
        "id": "nhVh4qU1U47e",
        "outputId": "8127c00d-1490-4d78-c1f8-8319cee94447"
      },
      "source": [
        "# run this. click on the link it will ask for. get the authentication code. Copy/Paste in the cell. Hit Enter.\r\n",
        "from google.colab import drive\r\n",
        "drive.mount('/content/gdrive')"
      ],
      "execution_count": 103,
      "outputs": [
        {
          "output_type": "stream",
          "text": [
            "Drive already mounted at /content/gdrive; to attempt to forcibly remount, call drive.mount(\"/content/gdrive\", force_remount=True).\n"
          ],
          "name": "stdout"
        }
      ]
    },
    {
      "cell_type": "markdown",
      "metadata": {
        "id": "rmu8WoMlNJFY"
      },
      "source": [
        "### Get labels info into a dataframe"
      ]
    },
    {
      "cell_type": "code",
      "metadata": {
        "id": "COjL64aeTUx7"
      },
      "source": [
        "# Google Drive / Colab\r\n",
        "filepath_annotation_file = r'/content/gdrive/MyDrive/Colab Notebooks/Clinical Heart Failure using H&E Images /data/labels/idr0042-experimentA-annotation.csv'\r\n",
        "labels = pd.read_csv(filepath_annotation_file)\r\n",
        "\r\n",
        "# Local Drive / Jupyter\r\n",
        "# labels = pd.read_csv('data/labels/idr0042-experimentA-annotation.csv')"
      ],
      "execution_count": 104,
      "outputs": []
    },
    {
      "cell_type": "markdown",
      "metadata": {
        "id": "Umta4jPKMzCR"
      },
      "source": [
        "### Explore and Understand"
      ]
    },
    {
      "cell_type": "code",
      "metadata": {
        "colab": {
          "base_uri": "https://localhost:8080/",
          "height": 793
        },
        "id": "nr21_2SiTUx7",
        "outputId": "27a40b52-d62c-4cfd-986a-54e1af8246e3"
      },
      "source": [
        "# uncomment & check the contents of labels is as expected\r\n",
        "labels"
      ],
      "execution_count": 105,
      "outputs": [
        {
          "output_type": "execute_result",
          "data": {
            "text/html": [
              "<div>\n",
              "<style scoped>\n",
              "    .dataframe tbody tr th:only-of-type {\n",
              "        vertical-align: middle;\n",
              "    }\n",
              "\n",
              "    .dataframe tbody tr th {\n",
              "        vertical-align: top;\n",
              "    }\n",
              "\n",
              "    .dataframe thead th {\n",
              "        text-align: right;\n",
              "    }\n",
              "</style>\n",
              "<table border=\"1\" class=\"dataframe\">\n",
              "  <thead>\n",
              "    <tr style=\"text-align: right;\">\n",
              "      <th></th>\n",
              "      <th>Dataset Name</th>\n",
              "      <th>Image Name</th>\n",
              "      <th>Characteristics [Organism]</th>\n",
              "      <th>Term Source 1 REF</th>\n",
              "      <th>Term Source 1 Accession</th>\n",
              "      <th>Characteristics [Organism Part]</th>\n",
              "      <th>Term Source 2 REF</th>\n",
              "      <th>Term Source 2 Accession</th>\n",
              "      <th>Characteristics [Diagnosis]</th>\n",
              "      <th>Term Source 3 REF</th>\n",
              "      <th>Term Source 3 Accession</th>\n",
              "      <th>Characteristics [Disease Subtype]</th>\n",
              "      <th>Term Source 4 REF</th>\n",
              "      <th>Term Source 4 Accession</th>\n",
              "      <th>Characteristics [Sex]</th>\n",
              "      <th>Term Source 5 REF</th>\n",
              "      <th>Term Source 5 Accession</th>\n",
              "      <th>Characteristics [Ethnic or Racial Group]</th>\n",
              "      <th>Term Source 6 REF</th>\n",
              "      <th>Term Source 6 Accession</th>\n",
              "      <th>Characteristics [Age]</th>\n",
              "      <th>Characteristics [Individual]</th>\n",
              "      <th>Characteristics [Clinical History]</th>\n",
              "      <th>Protocol REF</th>\n",
              "      <th>Protocol REF.1</th>\n",
              "      <th>Experimental Condition [Diagnosis]</th>\n",
              "      <th>Channels</th>\n",
              "    </tr>\n",
              "  </thead>\n",
              "  <tbody>\n",
              "    <tr>\n",
              "      <th>0</th>\n",
              "      <td>training</td>\n",
              "      <td>33381_0_fal_10_0.png</td>\n",
              "      <td>Homo sapiens</td>\n",
              "      <td>NCBITaxon</td>\n",
              "      <td>NCBITaxon_9606</td>\n",
              "      <td>heart</td>\n",
              "      <td>UBERON</td>\n",
              "      <td>UBERON_0000948</td>\n",
              "      <td>chronic heart failure</td>\n",
              "      <td>SNOMED</td>\n",
              "      <td>SNOMED_D3-16007</td>\n",
              "      <td>ischemic cardiomyopathy</td>\n",
              "      <td>CVDO</td>\n",
              "      <td>CVDO_0000558</td>\n",
              "      <td>male</td>\n",
              "      <td>PATO</td>\n",
              "      <td>PATO_0000384</td>\n",
              "      <td>African American</td>\n",
              "      <td>SNOMED</td>\n",
              "      <td>SNOMED_S-62310</td>\n",
              "      <td>65 years</td>\n",
              "      <td>33381</td>\n",
              "      <td>ischemic cardiomyopathy</td>\n",
              "      <td>treatment protocol</td>\n",
              "      <td>image acquisition</td>\n",
              "      <td>chronic heart failure</td>\n",
              "      <td>RGB</td>\n",
              "    </tr>\n",
              "    <tr>\n",
              "      <th>1</th>\n",
              "      <td>training</td>\n",
              "      <td>33381_0_fal_14_0.png</td>\n",
              "      <td>Homo sapiens</td>\n",
              "      <td>NCBITaxon</td>\n",
              "      <td>NCBITaxon_9606</td>\n",
              "      <td>heart</td>\n",
              "      <td>UBERON</td>\n",
              "      <td>UBERON_0000948</td>\n",
              "      <td>chronic heart failure</td>\n",
              "      <td>SNOMED</td>\n",
              "      <td>SNOMED_D3-16007</td>\n",
              "      <td>ischemic cardiomyopathy</td>\n",
              "      <td>CVDO</td>\n",
              "      <td>CVDO_0000558</td>\n",
              "      <td>male</td>\n",
              "      <td>PATO</td>\n",
              "      <td>PATO_0000384</td>\n",
              "      <td>African American</td>\n",
              "      <td>SNOMED</td>\n",
              "      <td>SNOMED_S-62310</td>\n",
              "      <td>65 years</td>\n",
              "      <td>33381</td>\n",
              "      <td>ischemic cardiomyopathy</td>\n",
              "      <td>treatment protocol</td>\n",
              "      <td>image acquisition</td>\n",
              "      <td>chronic heart failure</td>\n",
              "      <td>RGB</td>\n",
              "    </tr>\n",
              "    <tr>\n",
              "      <th>2</th>\n",
              "      <td>training</td>\n",
              "      <td>33381_0_fal_16_0.png</td>\n",
              "      <td>Homo sapiens</td>\n",
              "      <td>NCBITaxon</td>\n",
              "      <td>NCBITaxon_9606</td>\n",
              "      <td>heart</td>\n",
              "      <td>UBERON</td>\n",
              "      <td>UBERON_0000948</td>\n",
              "      <td>chronic heart failure</td>\n",
              "      <td>SNOMED</td>\n",
              "      <td>SNOMED_D3-16007</td>\n",
              "      <td>ischemic cardiomyopathy</td>\n",
              "      <td>CVDO</td>\n",
              "      <td>CVDO_0000558</td>\n",
              "      <td>male</td>\n",
              "      <td>PATO</td>\n",
              "      <td>PATO_0000384</td>\n",
              "      <td>African American</td>\n",
              "      <td>SNOMED</td>\n",
              "      <td>SNOMED_S-62310</td>\n",
              "      <td>65 years</td>\n",
              "      <td>33381</td>\n",
              "      <td>ischemic cardiomyopathy</td>\n",
              "      <td>treatment protocol</td>\n",
              "      <td>image acquisition</td>\n",
              "      <td>chronic heart failure</td>\n",
              "      <td>RGB</td>\n",
              "    </tr>\n",
              "    <tr>\n",
              "      <th>3</th>\n",
              "      <td>training</td>\n",
              "      <td>33381_0_fal_18_0.png</td>\n",
              "      <td>Homo sapiens</td>\n",
              "      <td>NCBITaxon</td>\n",
              "      <td>NCBITaxon_9606</td>\n",
              "      <td>heart</td>\n",
              "      <td>UBERON</td>\n",
              "      <td>UBERON_0000948</td>\n",
              "      <td>chronic heart failure</td>\n",
              "      <td>SNOMED</td>\n",
              "      <td>SNOMED_D3-16007</td>\n",
              "      <td>ischemic cardiomyopathy</td>\n",
              "      <td>CVDO</td>\n",
              "      <td>CVDO_0000558</td>\n",
              "      <td>male</td>\n",
              "      <td>PATO</td>\n",
              "      <td>PATO_0000384</td>\n",
              "      <td>African American</td>\n",
              "      <td>SNOMED</td>\n",
              "      <td>SNOMED_S-62310</td>\n",
              "      <td>65 years</td>\n",
              "      <td>33381</td>\n",
              "      <td>ischemic cardiomyopathy</td>\n",
              "      <td>treatment protocol</td>\n",
              "      <td>image acquisition</td>\n",
              "      <td>chronic heart failure</td>\n",
              "      <td>RGB</td>\n",
              "    </tr>\n",
              "    <tr>\n",
              "      <th>4</th>\n",
              "      <td>training</td>\n",
              "      <td>33381_0_fal_25_0.png</td>\n",
              "      <td>Homo sapiens</td>\n",
              "      <td>NCBITaxon</td>\n",
              "      <td>NCBITaxon_9606</td>\n",
              "      <td>heart</td>\n",
              "      <td>UBERON</td>\n",
              "      <td>UBERON_0000948</td>\n",
              "      <td>chronic heart failure</td>\n",
              "      <td>SNOMED</td>\n",
              "      <td>SNOMED_D3-16007</td>\n",
              "      <td>ischemic cardiomyopathy</td>\n",
              "      <td>CVDO</td>\n",
              "      <td>CVDO_0000558</td>\n",
              "      <td>male</td>\n",
              "      <td>PATO</td>\n",
              "      <td>PATO_0000384</td>\n",
              "      <td>African American</td>\n",
              "      <td>SNOMED</td>\n",
              "      <td>SNOMED_S-62310</td>\n",
              "      <td>65 years</td>\n",
              "      <td>33381</td>\n",
              "      <td>ischemic cardiomyopathy</td>\n",
              "      <td>treatment protocol</td>\n",
              "      <td>image acquisition</td>\n",
              "      <td>chronic heart failure</td>\n",
              "      <td>RGB</td>\n",
              "    </tr>\n",
              "    <tr>\n",
              "      <th>...</th>\n",
              "      <td>...</td>\n",
              "      <td>...</td>\n",
              "      <td>...</td>\n",
              "      <td>...</td>\n",
              "      <td>...</td>\n",
              "      <td>...</td>\n",
              "      <td>...</td>\n",
              "      <td>...</td>\n",
              "      <td>...</td>\n",
              "      <td>...</td>\n",
              "      <td>...</td>\n",
              "      <td>...</td>\n",
              "      <td>...</td>\n",
              "      <td>...</td>\n",
              "      <td>...</td>\n",
              "      <td>...</td>\n",
              "      <td>...</td>\n",
              "      <td>...</td>\n",
              "      <td>...</td>\n",
              "      <td>...</td>\n",
              "      <td>...</td>\n",
              "      <td>...</td>\n",
              "      <td>...</td>\n",
              "      <td>...</td>\n",
              "      <td>...</td>\n",
              "      <td>...</td>\n",
              "      <td>...</td>\n",
              "    </tr>\n",
              "    <tr>\n",
              "      <th>2294</th>\n",
              "      <td>test</td>\n",
              "      <td>36175_1_nrm_18_0.png</td>\n",
              "      <td>Homo sapiens</td>\n",
              "      <td>NCBITaxon</td>\n",
              "      <td>NCBITaxon_9606</td>\n",
              "      <td>heart</td>\n",
              "      <td>UBERON</td>\n",
              "      <td>UBERON_0000948</td>\n",
              "      <td>not chronic heart failure</td>\n",
              "      <td>SNOMED</td>\n",
              "      <td>SNOMED_F-30001</td>\n",
              "      <td>NaN</td>\n",
              "      <td>NaN</td>\n",
              "      <td>NaN</td>\n",
              "      <td>female</td>\n",
              "      <td>PATO</td>\n",
              "      <td>PATO_0000383</td>\n",
              "      <td>Caucasian</td>\n",
              "      <td>SNOMED</td>\n",
              "      <td>SNOMED_S-0003D</td>\n",
              "      <td>53 years</td>\n",
              "      <td>36175</td>\n",
              "      <td>normal cardiovascular function by cardiac cath...</td>\n",
              "      <td>treatment protocol</td>\n",
              "      <td>image acquisition</td>\n",
              "      <td>not chronic heart failure</td>\n",
              "      <td>RGB</td>\n",
              "    </tr>\n",
              "    <tr>\n",
              "      <th>2295</th>\n",
              "      <td>test</td>\n",
              "      <td>36175_1_nrm_1_0.png</td>\n",
              "      <td>Homo sapiens</td>\n",
              "      <td>NCBITaxon</td>\n",
              "      <td>NCBITaxon_9606</td>\n",
              "      <td>heart</td>\n",
              "      <td>UBERON</td>\n",
              "      <td>UBERON_0000948</td>\n",
              "      <td>not chronic heart failure</td>\n",
              "      <td>SNOMED</td>\n",
              "      <td>SNOMED_F-30001</td>\n",
              "      <td>NaN</td>\n",
              "      <td>NaN</td>\n",
              "      <td>NaN</td>\n",
              "      <td>female</td>\n",
              "      <td>PATO</td>\n",
              "      <td>PATO_0000383</td>\n",
              "      <td>Caucasian</td>\n",
              "      <td>SNOMED</td>\n",
              "      <td>SNOMED_S-0003D</td>\n",
              "      <td>53 years</td>\n",
              "      <td>36175</td>\n",
              "      <td>normal cardiovascular function by cardiac cath...</td>\n",
              "      <td>treatment protocol</td>\n",
              "      <td>image acquisition</td>\n",
              "      <td>not chronic heart failure</td>\n",
              "      <td>RGB</td>\n",
              "    </tr>\n",
              "    <tr>\n",
              "      <th>2296</th>\n",
              "      <td>test</td>\n",
              "      <td>36175_1_nrm_20_0.png</td>\n",
              "      <td>Homo sapiens</td>\n",
              "      <td>NCBITaxon</td>\n",
              "      <td>NCBITaxon_9606</td>\n",
              "      <td>heart</td>\n",
              "      <td>UBERON</td>\n",
              "      <td>UBERON_0000948</td>\n",
              "      <td>not chronic heart failure</td>\n",
              "      <td>SNOMED</td>\n",
              "      <td>SNOMED_F-30001</td>\n",
              "      <td>NaN</td>\n",
              "      <td>NaN</td>\n",
              "      <td>NaN</td>\n",
              "      <td>female</td>\n",
              "      <td>PATO</td>\n",
              "      <td>PATO_0000383</td>\n",
              "      <td>Caucasian</td>\n",
              "      <td>SNOMED</td>\n",
              "      <td>SNOMED_S-0003D</td>\n",
              "      <td>53 years</td>\n",
              "      <td>36175</td>\n",
              "      <td>normal cardiovascular function by cardiac cath...</td>\n",
              "      <td>treatment protocol</td>\n",
              "      <td>image acquisition</td>\n",
              "      <td>not chronic heart failure</td>\n",
              "      <td>RGB</td>\n",
              "    </tr>\n",
              "    <tr>\n",
              "      <th>2297</th>\n",
              "      <td>test</td>\n",
              "      <td>36175_1_nrm_21_0.png</td>\n",
              "      <td>Homo sapiens</td>\n",
              "      <td>NCBITaxon</td>\n",
              "      <td>NCBITaxon_9606</td>\n",
              "      <td>heart</td>\n",
              "      <td>UBERON</td>\n",
              "      <td>UBERON_0000948</td>\n",
              "      <td>not chronic heart failure</td>\n",
              "      <td>SNOMED</td>\n",
              "      <td>SNOMED_F-30001</td>\n",
              "      <td>NaN</td>\n",
              "      <td>NaN</td>\n",
              "      <td>NaN</td>\n",
              "      <td>female</td>\n",
              "      <td>PATO</td>\n",
              "      <td>PATO_0000383</td>\n",
              "      <td>Caucasian</td>\n",
              "      <td>SNOMED</td>\n",
              "      <td>SNOMED_S-0003D</td>\n",
              "      <td>53 years</td>\n",
              "      <td>36175</td>\n",
              "      <td>normal cardiovascular function by cardiac cath...</td>\n",
              "      <td>treatment protocol</td>\n",
              "      <td>image acquisition</td>\n",
              "      <td>not chronic heart failure</td>\n",
              "      <td>RGB</td>\n",
              "    </tr>\n",
              "    <tr>\n",
              "      <th>2298</th>\n",
              "      <td>test</td>\n",
              "      <td>36175_1_nrm_2_0.png</td>\n",
              "      <td>Homo sapiens</td>\n",
              "      <td>NCBITaxon</td>\n",
              "      <td>NCBITaxon_9606</td>\n",
              "      <td>heart</td>\n",
              "      <td>UBERON</td>\n",
              "      <td>UBERON_0000948</td>\n",
              "      <td>not chronic heart failure</td>\n",
              "      <td>SNOMED</td>\n",
              "      <td>SNOMED_F-30001</td>\n",
              "      <td>NaN</td>\n",
              "      <td>NaN</td>\n",
              "      <td>NaN</td>\n",
              "      <td>female</td>\n",
              "      <td>PATO</td>\n",
              "      <td>PATO_0000383</td>\n",
              "      <td>Caucasian</td>\n",
              "      <td>SNOMED</td>\n",
              "      <td>SNOMED_S-0003D</td>\n",
              "      <td>53 years</td>\n",
              "      <td>36175</td>\n",
              "      <td>normal cardiovascular function by cardiac cath...</td>\n",
              "      <td>treatment protocol</td>\n",
              "      <td>image acquisition</td>\n",
              "      <td>not chronic heart failure</td>\n",
              "      <td>RGB</td>\n",
              "    </tr>\n",
              "  </tbody>\n",
              "</table>\n",
              "<p>2299 rows × 27 columns</p>\n",
              "</div>"
            ],
            "text/plain": [
              "     Dataset Name  ... Channels\n",
              "0        training  ...      RGB\n",
              "1        training  ...      RGB\n",
              "2        training  ...      RGB\n",
              "3        training  ...      RGB\n",
              "4        training  ...      RGB\n",
              "...           ...  ...      ...\n",
              "2294         test  ...      RGB\n",
              "2295         test  ...      RGB\n",
              "2296         test  ...      RGB\n",
              "2297         test  ...      RGB\n",
              "2298         test  ...      RGB\n",
              "\n",
              "[2299 rows x 27 columns]"
            ]
          },
          "metadata": {
            "tags": []
          },
          "execution_count": 105
        }
      ]
    },
    {
      "cell_type": "code",
      "metadata": {
        "colab": {
          "base_uri": "https://localhost:8080/"
        },
        "id": "_f1boOAdTUx8",
        "outputId": "89fee628-8dc4-42a5-9116-ce73762ecd88"
      },
      "source": [
        "print(labels['Dataset Name'])"
      ],
      "execution_count": 106,
      "outputs": [
        {
          "output_type": "stream",
          "text": [
            "0       training\n",
            "1       training\n",
            "2       training\n",
            "3       training\n",
            "4       training\n",
            "          ...   \n",
            "2294        test\n",
            "2295        test\n",
            "2296        test\n",
            "2297        test\n",
            "2298        test\n",
            "Name: Dataset Name, Length: 2299, dtype: object\n"
          ],
          "name": "stdout"
        }
      ]
    },
    {
      "cell_type": "code",
      "metadata": {
        "colab": {
          "base_uri": "https://localhost:8080/"
        },
        "id": "n7D8mQdhTUx8",
        "outputId": "5348283b-608e-464d-e14c-6ce83af6190f"
      },
      "source": [
        "print(labels['Dataset Name'][0])"
      ],
      "execution_count": 107,
      "outputs": [
        {
          "output_type": "stream",
          "text": [
            "training\n"
          ],
          "name": "stdout"
        }
      ]
    },
    {
      "cell_type": "code",
      "metadata": {
        "colab": {
          "base_uri": "https://localhost:8080/"
        },
        "id": "f2HQQ_GzTUx9",
        "outputId": "0e1de62a-e68e-4a22-d4ca-a3cfff1de6ec"
      },
      "source": [
        "type(labels['Dataset Name'][0])"
      ],
      "execution_count": 108,
      "outputs": [
        {
          "output_type": "execute_result",
          "data": {
            "text/plain": [
              "str"
            ]
          },
          "metadata": {
            "tags": []
          },
          "execution_count": 108
        }
      ]
    },
    {
      "cell_type": "code",
      "metadata": {
        "colab": {
          "base_uri": "https://localhost:8080/"
        },
        "id": "O3qnTY8rTUx9",
        "outputId": "5f962f45-69d0-49e9-8f4e-df36e31bc7cf"
      },
      "source": [
        "print(labels['Image Name'])"
      ],
      "execution_count": 109,
      "outputs": [
        {
          "output_type": "stream",
          "text": [
            "0       33381_0_fal_10_0.png\n",
            "1       33381_0_fal_14_0.png\n",
            "2       33381_0_fal_16_0.png\n",
            "3       33381_0_fal_18_0.png\n",
            "4       33381_0_fal_25_0.png\n",
            "                ...         \n",
            "2294    36175_1_nrm_18_0.png\n",
            "2295     36175_1_nrm_1_0.png\n",
            "2296    36175_1_nrm_20_0.png\n",
            "2297    36175_1_nrm_21_0.png\n",
            "2298     36175_1_nrm_2_0.png\n",
            "Name: Image Name, Length: 2299, dtype: object\n"
          ],
          "name": "stdout"
        }
      ]
    },
    {
      "cell_type": "code",
      "metadata": {
        "colab": {
          "base_uri": "https://localhost:8080/"
        },
        "id": "pUjbBjagTUx9",
        "outputId": "6d9aa414-830f-404c-d613-87f8901584a3"
      },
      "source": [
        "print(labels['Image Name'][0])"
      ],
      "execution_count": 110,
      "outputs": [
        {
          "output_type": "stream",
          "text": [
            "33381_0_fal_10_0.png\n"
          ],
          "name": "stdout"
        }
      ]
    },
    {
      "cell_type": "code",
      "metadata": {
        "colab": {
          "base_uri": "https://localhost:8080/"
        },
        "id": "dlEwMNmXTUx-",
        "outputId": "dfd96474-93c1-4bac-c58b-df978f68b230"
      },
      "source": [
        "type(labels['Image Name'][0])"
      ],
      "execution_count": 111,
      "outputs": [
        {
          "output_type": "execute_result",
          "data": {
            "text/plain": [
              "str"
            ]
          },
          "metadata": {
            "tags": []
          },
          "execution_count": 111
        }
      ]
    },
    {
      "cell_type": "code",
      "metadata": {
        "colab": {
          "base_uri": "https://localhost:8080/"
        },
        "id": "Y7-b5mycTUx-",
        "outputId": "ff3b5502-8792-434d-f2d4-598ba6527203"
      },
      "source": [
        "print(labels['Experimental Condition [Diagnosis]'])"
      ],
      "execution_count": 112,
      "outputs": [
        {
          "output_type": "stream",
          "text": [
            "0           chronic heart failure\n",
            "1           chronic heart failure\n",
            "2           chronic heart failure\n",
            "3           chronic heart failure\n",
            "4           chronic heart failure\n",
            "                  ...            \n",
            "2294    not chronic heart failure\n",
            "2295    not chronic heart failure\n",
            "2296    not chronic heart failure\n",
            "2297    not chronic heart failure\n",
            "2298    not chronic heart failure\n",
            "Name: Experimental Condition [Diagnosis], Length: 2299, dtype: object\n"
          ],
          "name": "stdout"
        }
      ]
    },
    {
      "cell_type": "code",
      "metadata": {
        "colab": {
          "base_uri": "https://localhost:8080/"
        },
        "id": "ljWCGdQZTUx-",
        "outputId": "b7ffdc34-a7cc-41db-aec5-515a52861ede"
      },
      "source": [
        "print(labels['Experimental Condition [Diagnosis]'][0])"
      ],
      "execution_count": 113,
      "outputs": [
        {
          "output_type": "stream",
          "text": [
            "chronic heart failure\n"
          ],
          "name": "stdout"
        }
      ]
    },
    {
      "cell_type": "code",
      "metadata": {
        "colab": {
          "base_uri": "https://localhost:8080/"
        },
        "id": "s-MoFvzPTUx-",
        "outputId": "82c8de6b-ae9d-4db1-87c3-b52e20aa5460"
      },
      "source": [
        "type(labels['Experimental Condition [Diagnosis]'][0])"
      ],
      "execution_count": 114,
      "outputs": [
        {
          "output_type": "execute_result",
          "data": {
            "text/plain": [
              "str"
            ]
          },
          "metadata": {
            "tags": []
          },
          "execution_count": 114
        }
      ]
    },
    {
      "cell_type": "code",
      "metadata": {
        "colab": {
          "base_uri": "https://localhost:8080/"
        },
        "id": "7UiPxrxBTUx_",
        "outputId": "d68f4c5b-7369-4a48-ee0b-aabcb0ad7ae4"
      },
      "source": [
        "# confirm 'no info' cells have been encoded as 'nan'... check one entry\n",
        "print(labels['Characteristics [Disease Subtype]'][463])"
      ],
      "execution_count": 115,
      "outputs": [
        {
          "output_type": "stream",
          "text": [
            "nan\n"
          ],
          "name": "stdout"
        }
      ]
    },
    {
      "cell_type": "markdown",
      "metadata": {
        "id": "0Rczcv_kTUx_"
      },
      "source": [
        "### Prepare Train Images and Train Labels"
      ]
    },
    {
      "cell_type": "markdown",
      "metadata": {
        "id": "9c3UtN962MOe"
      },
      "source": [
        "#### Explore and Understand"
      ]
    },
    {
      "cell_type": "code",
      "metadata": {
        "id": "XRQUsN0mTUx_"
      },
      "source": [
        "# Google Drive / Colab\n",
        "filepathlist_train = glob.glob('/content/gdrive/MyDrive/Colab Notebooks/Clinical Heart Failure using H&E Images /data/images/training/fold_1/*.png')"
      ],
      "execution_count": 116,
      "outputs": []
    },
    {
      "cell_type": "code",
      "metadata": {
        "colab": {
          "base_uri": "https://localhost:8080/"
        },
        "id": "xlwIDpjETUx_",
        "outputId": "c4af9f50-f850-49c3-a10c-b1dc0880fcf0"
      },
      "source": [
        "# confirm you have got the total number of desired items in the list\n",
        "len(filepathlist_train)"
      ],
      "execution_count": 117,
      "outputs": [
        {
          "output_type": "execute_result",
          "data": {
            "text/plain": [
              "770"
            ]
          },
          "metadata": {
            "tags": []
          },
          "execution_count": 117
        }
      ]
    },
    {
      "cell_type": "code",
      "metadata": {
        "colab": {
          "base_uri": "https://localhost:8080/",
          "height": 35
        },
        "id": "f1dvk1dxTUyA",
        "outputId": "9033cb54-a34e-47fe-b7d0-2f0eaad94375"
      },
      "source": [
        "# check what an element in the filelist contain.\n",
        "# it has both directory information and the filename, we need to extract filename \n",
        "# the filename can then be used to check for the label info in the labels dataframe\n",
        "filepathlist_train[0]"
      ],
      "execution_count": 118,
      "outputs": [
        {
          "output_type": "execute_result",
          "data": {
            "application/vnd.google.colaboratory.intrinsic+json": {
              "type": "string"
            },
            "text/plain": [
              "'/content/gdrive/MyDrive/Colab Notebooks/Clinical Heart Failure using H&E Images /data/images/training/fold_1/33392_0_fal_4_0.png'"
            ]
          },
          "metadata": {
            "tags": []
          },
          "execution_count": 118
        }
      ]
    },
    {
      "cell_type": "markdown",
      "metadata": {
        "id": "w7ktSh4J2WTy"
      },
      "source": [
        "#### Extract Filename and Label Info"
      ]
    },
    {
      "cell_type": "markdown",
      "metadata": {
        "id": "Jz_-xEdgNtBZ"
      },
      "source": [
        "All the images are of type '*.png'. We will read filepath for all \"filenames with extension as 'png'\" into a list. Here, filepath means 'relative directory + filename'. We will extract filename of the image from the file path. This filename can then be used to get the label information from the annotation file."
      ]
    },
    {
      "cell_type": "markdown",
      "metadata": {
        "id": "S_oFfXABTJKJ"
      },
      "source": [
        "##### Local Drive / Jupyter "
      ]
    },
    {
      "cell_type": "code",
      "metadata": {
        "id": "8OPsW8eT_MFA"
      },
      "source": [
        "# this scenario has '\\\\' between the directory and filename\r\n",
        "# split the string\r\n",
        "# directory, filename = filepathlist_train[0].split('\\\\')\r\n",
        "# gives the directory info\r\n",
        "# directory\r\n",
        "# gives the filname we need\r\n",
        "# filename"
      ],
      "execution_count": 119,
      "outputs": []
    },
    {
      "cell_type": "markdown",
      "metadata": {
        "id": "wLmi5HsgSeEo"
      },
      "source": [
        "##### Google Drive / Colab"
      ]
    },
    {
      "cell_type": "markdown",
      "metadata": {
        "id": "5qmSWkpX2qCW"
      },
      "source": [
        "###### Explore and Understand"
      ]
    },
    {
      "cell_type": "code",
      "metadata": {
        "colab": {
          "base_uri": "https://localhost:8080/"
        },
        "id": "Ir9jzf_78oJu",
        "outputId": "8c27acf8-00dc-4de4-91c5-77fc5bc08a8a"
      },
      "source": [
        "len(filepathlist_train[0])"
      ],
      "execution_count": 120,
      "outputs": [
        {
          "output_type": "execute_result",
          "data": {
            "text/plain": [
              "128"
            ]
          },
          "metadata": {
            "tags": []
          },
          "execution_count": 120
        }
      ]
    },
    {
      "cell_type": "code",
      "metadata": {
        "colab": {
          "base_uri": "https://localhost:8080/",
          "height": 35
        },
        "id": "J16b0aYw8uAr",
        "outputId": "248eefba-fba6-45f3-eebf-51a1d72ae32a"
      },
      "source": [
        "filepathlist_train[0][-19:]"
      ],
      "execution_count": 121,
      "outputs": [
        {
          "output_type": "execute_result",
          "data": {
            "application/vnd.google.colaboratory.intrinsic+json": {
              "type": "string"
            },
            "text/plain": [
              "'33392_0_fal_4_0.png'"
            ]
          },
          "metadata": {
            "tags": []
          },
          "execution_count": 121
        }
      ]
    },
    {
      "cell_type": "code",
      "metadata": {
        "colab": {
          "base_uri": "https://localhost:8080/",
          "height": 35
        },
        "id": "vxczcvry97HG",
        "outputId": "23be967b-6c53-4256-f729-9aa61249c6cf"
      },
      "source": [
        "filepathlist_train[0][len(filepathlist_train[0]) - 1]"
      ],
      "execution_count": 122,
      "outputs": [
        {
          "output_type": "execute_result",
          "data": {
            "application/vnd.google.colaboratory.intrinsic+json": {
              "type": "string"
            },
            "text/plain": [
              "'g'"
            ]
          },
          "metadata": {
            "tags": []
          },
          "execution_count": 122
        }
      ]
    },
    {
      "cell_type": "code",
      "metadata": {
        "colab": {
          "base_uri": "https://localhost:8080/",
          "height": 35
        },
        "id": "0OXQGUkc-Inp",
        "outputId": "7426fb69-97cf-41d9-ba9e-9d29a33c0cb2"
      },
      "source": [
        "filepathlist_train[0][-1]"
      ],
      "execution_count": 123,
      "outputs": [
        {
          "output_type": "execute_result",
          "data": {
            "application/vnd.google.colaboratory.intrinsic+json": {
              "type": "string"
            },
            "text/plain": [
              "'g'"
            ]
          },
          "metadata": {
            "tags": []
          },
          "execution_count": 123
        }
      ]
    },
    {
      "cell_type": "code",
      "metadata": {
        "colab": {
          "base_uri": "https://localhost:8080/"
        },
        "id": "2_o3p9y9TUyA",
        "outputId": "f8f9b1e7-5cf7-4ec0-80ca-7efe31ea8d7f"
      },
      "source": [
        "# POC\n",
        "idx = -1\n",
        "while (filepathlist_train[0][idx] != '/'):\n",
        "  idx = idx - 1 \n",
        "# index currently points to '/' location, we need to start reading from next location to get file name\n",
        "print(idx)\n",
        "filename = filepathlist_train[0][idx + 1:]\n",
        "print(filename)"
      ],
      "execution_count": 124,
      "outputs": [
        {
          "output_type": "stream",
          "text": [
            "-20\n",
            "33392_0_fal_4_0.png\n"
          ],
          "name": "stdout"
        }
      ]
    },
    {
      "cell_type": "code",
      "metadata": {
        "id": "gmFAoRozX4xX"
      },
      "source": [
        "# POC\r\n",
        "index_filepathlist = 0\r\n",
        "for filepath in filepathlist_train:\r\n",
        "    #print(index_filepathlist, filepath)\r\n",
        "    index_filepathlist += 1"
      ],
      "execution_count": 125,
      "outputs": []
    },
    {
      "cell_type": "code",
      "metadata": {
        "id": "tXlYHbSPTBfy"
      },
      "source": [
        "# read a file using the list containing the file path\r\n",
        "img = cv2.imread(filepathlist_train[0])"
      ],
      "execution_count": 126,
      "outputs": []
    },
    {
      "cell_type": "markdown",
      "metadata": {
        "id": "K54cMICV2vc9"
      },
      "source": [
        "##### Define a Call Function to prepare images and labels"
      ]
    },
    {
      "cell_type": "code",
      "metadata": {
        "id": "NC6R5bJlpRLR"
      },
      "source": [
        "# function to prepare images & labels for the model\r\n",
        "def prepare_images_labels (path_to_img_files, labels_dataframe, resize = 0):\r\n",
        "  filepathlist = glob.glob(path_to_img_files)\r\n",
        "  # define the empty list that need to populated with info\r\n",
        "  images = []\r\n",
        "  labels = []\r\n",
        "  index_filepathlist = 0\r\n",
        "  # iterate for all items in the file path list\r\n",
        "  for filepath in filepathlist:\r\n",
        "      # prepare image list\r\n",
        "      img = cv2.imread(filepath)\r\n",
        "      if (resize == 1):\r\n",
        "        dim = (224,224)\r\n",
        "        img = cv2.resize(img, dim)#, interpolation = inter)\r\n",
        "      images.append(img)\r\n",
        "      # prepare labels list\r\n",
        "      # extract filename from the file path\r\n",
        "      # Local Drive / Jupyter\r\n",
        "      # directory, filename = filepath.split('\\\\')\r\n",
        "      # Google Drive / Colab\r\n",
        "      index_character = -1\r\n",
        "      while (filepathlist[index_filepathlist][index_character] != '/'):\r\n",
        "        index_character = index_character - 1 \r\n",
        "      # character index currently points to '/' location, we need to start reading from next location to get file name\r\n",
        "      filename = filepathlist[index_filepathlist][index_character + 1:]\r\n",
        "      index_filepathlist += 1\r\n",
        "      # iterate for all items in our labels dataframe to search for the label\r\n",
        "      for index in range(len(labels_dataframe)):\r\n",
        "          # we will compare the filename with all the filenames in the 'Image Name' column of the labels dataframe\r\n",
        "          # when there is a match, we will copy the label from the 'Experimental Condition [Diagnosis]' column\r\n",
        "          if (filename == labels_dataframe['Image Name'][index]):\r\n",
        "              label = labels_dataframe['Experimental Condition [Diagnosis]'][index]\r\n",
        "              # encode Class1 and Class0 as applicable\r\n",
        "              if (label == 'chronic heart failure'):\r\n",
        "                  label = 1\r\n",
        "              elif (label == 'not chronic heart failure'):\r\n",
        "                  label = 0\r\n",
        "              elif (label == 'heart tissue pathology'):\r\n",
        "                  label = 0\r\n",
        "              # append the label to the list\r\n",
        "              labels.append(label)\r\n",
        "  return images, labels"
      ],
      "execution_count": 127,
      "outputs": []
    },
    {
      "cell_type": "markdown",
      "metadata": {
        "id": "a2xpvmempoa4"
      },
      "source": [
        "##### Prepare Train Images and Train Labels"
      ]
    },
    {
      "cell_type": "code",
      "metadata": {
        "id": "0PyeiK-Ulctu"
      },
      "source": [
        "# read filepath for all \"filenames with extension as 'png'\" into a list\r\n",
        "# here filepath means 'relative directory + filename'\r\n",
        "\r\n",
        "# Google Drive / Colab\r\n",
        "path_to_img_files = '/content/gdrive/MyDrive/Colab Notebooks/Clinical Heart Failure using H&E Images /data/images/training/fold_1/*.png'\r\n",
        "# for resnet50\r\n",
        "# train_images, train_labels = prepare_images_labels (path_to_img_files, labels, 0)\r\n",
        "# for mobilenet\r\n",
        "train_images, train_labels = prepare_images_labels (path_to_img_files, labels, 1)\r\n",
        "\r\n",
        "# Local Drive / Jupyter\r\n",
        "# filepathlist_train = glob.glob('data/images/training/fold_1/*.png')"
      ],
      "execution_count": 128,
      "outputs": []
    },
    {
      "cell_type": "code",
      "metadata": {
        "id": "YrhMe6CvTUyB"
      },
      "source": [
        "# train_labels"
      ],
      "execution_count": 129,
      "outputs": []
    },
    {
      "cell_type": "markdown",
      "metadata": {
        "id": "6xHVSfMKTUyC"
      },
      "source": [
        "Convert images to numpy arrays and confirm shape is as required for CNN. "
      ]
    },
    {
      "cell_type": "code",
      "metadata": {
        "colab": {
          "base_uri": "https://localhost:8080/"
        },
        "id": "CGFHcbYNTUyC",
        "outputId": "bedca10a-15b1-42c5-c3e8-12b842a3667e"
      },
      "source": [
        "# confirm you have got the total number desired images in the list\n",
        "len(train_images)"
      ],
      "execution_count": 130,
      "outputs": [
        {
          "output_type": "execute_result",
          "data": {
            "text/plain": [
              "770"
            ]
          },
          "metadata": {
            "tags": []
          },
          "execution_count": 130
        }
      ]
    },
    {
      "cell_type": "code",
      "metadata": {
        "colab": {
          "base_uri": "https://localhost:8080/"
        },
        "id": "imoqMNZHTUyC",
        "outputId": "21be4232-a446-4dde-a422-957667e26aeb"
      },
      "source": [
        "# train is a list\n",
        "type(train_images)"
      ],
      "execution_count": 131,
      "outputs": [
        {
          "output_type": "execute_result",
          "data": {
            "text/plain": [
              "list"
            ]
          },
          "metadata": {
            "tags": []
          },
          "execution_count": 131
        }
      ]
    },
    {
      "cell_type": "code",
      "metadata": {
        "id": "rE1sBd7wTUyC"
      },
      "source": [
        "# convert list to a numpy array and the values to float\n",
        "train_images = np.array(train_images, dtype = 'float32')"
      ],
      "execution_count": 132,
      "outputs": []
    },
    {
      "cell_type": "code",
      "metadata": {
        "colab": {
          "base_uri": "https://localhost:8080/"
        },
        "id": "rwnwE79LTUyD",
        "outputId": "4e4ed1ba-f720-41ed-b6ea-15ebacb29a67"
      },
      "source": [
        "# check the shape to confirm it is ready for CNN\n",
        "# number of instances, width, height, number of channels\n",
        "# number of instances = number of image\n",
        "# number of channels = 3 ... as these are color images\n",
        "train_images.shape"
      ],
      "execution_count": 133,
      "outputs": [
        {
          "output_type": "execute_result",
          "data": {
            "text/plain": [
              "(770, 224, 224, 3)"
            ]
          },
          "metadata": {
            "tags": []
          },
          "execution_count": 133
        }
      ]
    },
    {
      "cell_type": "markdown",
      "metadata": {
        "id": "ThTHsjK5TUyD"
      },
      "source": [
        "Convert labels to numpy arrays and confirm shape is as required for CNN. "
      ]
    },
    {
      "cell_type": "code",
      "metadata": {
        "colab": {
          "base_uri": "https://localhost:8080/"
        },
        "id": "HvNJR0CVTUyD",
        "outputId": "acb25d57-d8db-4f7d-fb65-4cb0a802e8ae"
      },
      "source": [
        "len(train_labels)"
      ],
      "execution_count": 134,
      "outputs": [
        {
          "output_type": "execute_result",
          "data": {
            "text/plain": [
              "770"
            ]
          },
          "metadata": {
            "tags": []
          },
          "execution_count": 134
        }
      ]
    },
    {
      "cell_type": "code",
      "metadata": {
        "colab": {
          "base_uri": "https://localhost:8080/"
        },
        "id": "8MlrY4_HTUyD",
        "outputId": "31180c4d-5e20-4a25-ec69-5cbd295d8f70"
      },
      "source": [
        "type(train_labels)"
      ],
      "execution_count": 135,
      "outputs": [
        {
          "output_type": "execute_result",
          "data": {
            "text/plain": [
              "list"
            ]
          },
          "metadata": {
            "tags": []
          },
          "execution_count": 135
        }
      ]
    },
    {
      "cell_type": "code",
      "metadata": {
        "colab": {
          "base_uri": "https://localhost:8080/"
        },
        "id": "q3So3_2FTUyD",
        "outputId": "8f43bea2-c086-4c2e-e10b-c41a7df45fc9"
      },
      "source": [
        "train_labels[0]"
      ],
      "execution_count": 136,
      "outputs": [
        {
          "output_type": "execute_result",
          "data": {
            "text/plain": [
              "1"
            ]
          },
          "metadata": {
            "tags": []
          },
          "execution_count": 136
        }
      ]
    },
    {
      "cell_type": "code",
      "metadata": {
        "colab": {
          "base_uri": "https://localhost:8080/"
        },
        "id": "VE5e9MDoTUyE",
        "outputId": "10b3e417-4181-47c4-e27a-f0d2f9c628ec"
      },
      "source": [
        "train_labels[432]"
      ],
      "execution_count": 137,
      "outputs": [
        {
          "output_type": "execute_result",
          "data": {
            "text/plain": [
              "0"
            ]
          },
          "metadata": {
            "tags": []
          },
          "execution_count": 137
        }
      ]
    },
    {
      "cell_type": "code",
      "metadata": {
        "id": "zS5caNeTTUyE"
      },
      "source": [
        "# convert list to a numpy array and the values to int64\n",
        "train_labels = np.array(train_labels, dtype = 'int64')"
      ],
      "execution_count": 138,
      "outputs": []
    },
    {
      "cell_type": "code",
      "metadata": {
        "colab": {
          "base_uri": "https://localhost:8080/"
        },
        "id": "TDLfwCgDTUyE",
        "outputId": "872d2914-2816-4356-d4e0-955f6d86161f"
      },
      "source": [
        "# check the shape to confirm it is ready for CNN\n",
        "train_labels.shape"
      ],
      "execution_count": 139,
      "outputs": [
        {
          "output_type": "execute_result",
          "data": {
            "text/plain": [
              "(770,)"
            ]
          },
          "metadata": {
            "tags": []
          },
          "execution_count": 139
        }
      ]
    },
    {
      "cell_type": "code",
      "metadata": {
        "colab": {
          "base_uri": "https://localhost:8080/"
        },
        "id": "FATnUKBQTUyE",
        "outputId": "1731c707-fda1-4fa0-b878-eb3021751bbe"
      },
      "source": [
        "len(train_labels)"
      ],
      "execution_count": 140,
      "outputs": [
        {
          "output_type": "execute_result",
          "data": {
            "text/plain": [
              "770"
            ]
          },
          "metadata": {
            "tags": []
          },
          "execution_count": 140
        }
      ]
    },
    {
      "cell_type": "markdown",
      "metadata": {
        "id": "7MiV5FQfTUyF"
      },
      "source": [
        "Let us check on the number of Class 0 and Class 1s that we have. "
      ]
    },
    {
      "cell_type": "code",
      "metadata": {
        "id": "7KqlbiYajI1D"
      },
      "source": [
        "# function to count ones and zeroes in the label array\r\n",
        "def print_ones_zeroes (labels):\r\n",
        "  count_ones = 0\r\n",
        "  count_zeroes = 0\r\n",
        "  for i in range(len(labels)):\r\n",
        "    if (labels[i] == 1):\r\n",
        "      count_ones += 1\r\n",
        "    elif (labels[i] == 0):\r\n",
        "      count_zeroes += 1\r\n",
        "  print('Total Labels:',(count_ones + count_zeroes))\r\n",
        "  print('# of Class 1:',count_ones)   \r\n",
        "  print('# of Class 0:',count_zeroes)"
      ],
      "execution_count": 141,
      "outputs": []
    },
    {
      "cell_type": "code",
      "metadata": {
        "colab": {
          "base_uri": "https://localhost:8080/"
        },
        "id": "STcznNLMjR7q",
        "outputId": "27be22f7-8bd8-44cb-cfb6-ac8645b21175"
      },
      "source": [
        "print_ones_zeroes(train_labels)"
      ],
      "execution_count": 142,
      "outputs": [
        {
          "output_type": "stream",
          "text": [
            "Total Labels: 770\n",
            "# of Class 1: 352\n",
            "# of Class 0: 418\n"
          ],
          "name": "stdout"
        }
      ]
    },
    {
      "cell_type": "code",
      "metadata": {
        "colab": {
          "base_uri": "https://localhost:8080/"
        },
        "id": "UqspL52sHqaY",
        "outputId": "37ac002c-a094-454d-a059-b7026dc9e791"
      },
      "source": [
        "# save the train labels before converting to categorical to use for cross validation splits\r\n",
        "train_labels_before_categorical = train_labels\r\n",
        "print(type(train_labels_before_categorical), len(train_labels_before_categorical), train_labels_before_categorical.shape)"
      ],
      "execution_count": 143,
      "outputs": [
        {
          "output_type": "stream",
          "text": [
            "<class 'numpy.ndarray'> 770 (770,)\n"
          ],
          "name": "stdout"
        }
      ]
    },
    {
      "cell_type": "markdown",
      "metadata": {
        "id": "CDYnWqw6TUyF"
      },
      "source": [
        "We will convert the labels to 2bit values: 01 and 10 to correspond to the 2 classes. This is required to match to the model's output layer expectation so that we can effectively train and test. "
      ]
    },
    {
      "cell_type": "code",
      "metadata": {
        "id": "wY6Wz_rgTUyF"
      },
      "source": [
        "from keras.utils import to_categorical"
      ],
      "execution_count": 144,
      "outputs": []
    },
    {
      "cell_type": "code",
      "metadata": {
        "id": "gwBRGFFVTUyG"
      },
      "source": [
        "# convert labels to categorical\n",
        "train_labels = to_categorical(train_labels)"
      ],
      "execution_count": 145,
      "outputs": []
    },
    {
      "cell_type": "markdown",
      "metadata": {
        "id": "mtvpF6A6TUyG"
      },
      "source": [
        "### Prepare Validation Images and Validation Labels"
      ]
    },
    {
      "cell_type": "code",
      "metadata": {
        "id": "O1PsdEXm6T8n"
      },
      "source": [
        "# read filepath for all \"filenames with extension as 'png'\" into a list\r\n",
        "# here filepath means 'relative directory + filename'\r\n",
        "\r\n",
        "# Google Drive / Colab\r\n",
        "path_to_img_files = '/content/gdrive/MyDrive/Colab Notebooks/Clinical Heart Failure using H&E Images /data/images/training/test_fold_1/*.png'\r\n",
        "# for resnet50\r\n",
        "# validation_images, validation_labels = prepare_images_labels (path_to_img_files, labels, 0)\r\n",
        "# for mobilenet\r\n",
        "validation_images, validation_labels = prepare_images_labels (path_to_img_files, labels, 1)\r\n",
        "\r\n",
        "# Local Drive / Jupyter\r\n",
        "# filepathlist_validation = glob.glob('data/images/training/test_fold_1/*.png')"
      ],
      "execution_count": 146,
      "outputs": []
    },
    {
      "cell_type": "code",
      "metadata": {
        "id": "7fJuHg1dTUyH"
      },
      "source": [
        "# convert list to a numpy array and the values to float\n",
        "validation_images = np.array(validation_images, dtype = 'float32')"
      ],
      "execution_count": 147,
      "outputs": []
    },
    {
      "cell_type": "code",
      "metadata": {
        "colab": {
          "base_uri": "https://localhost:8080/"
        },
        "id": "xlFbfassTUyH",
        "outputId": "90c13aa9-eccd-4322-b084-00ec23295c9a"
      },
      "source": [
        "# check the shape to confirm it is ready for CNN\n",
        "validation_images.shape"
      ],
      "execution_count": 148,
      "outputs": [
        {
          "output_type": "execute_result",
          "data": {
            "text/plain": [
              "(374, 224, 224, 3)"
            ]
          },
          "metadata": {
            "tags": []
          },
          "execution_count": 148
        }
      ]
    },
    {
      "cell_type": "code",
      "metadata": {
        "id": "EfuLDkHbTUyI"
      },
      "source": [
        "# convert list to a numpy array and the values to int64\n",
        "validation_labels = np.array(validation_labels, dtype = 'int64')"
      ],
      "execution_count": 149,
      "outputs": []
    },
    {
      "cell_type": "code",
      "metadata": {
        "colab": {
          "base_uri": "https://localhost:8080/"
        },
        "id": "pOIVr3VRTUyI",
        "outputId": "ce584a2b-e7bc-4b87-af18-cefd730f1aa8"
      },
      "source": [
        "# check the shape to confirm it is ready for CNN\n",
        "validation_labels.shape"
      ],
      "execution_count": 150,
      "outputs": [
        {
          "output_type": "execute_result",
          "data": {
            "text/plain": [
              "(374,)"
            ]
          },
          "metadata": {
            "tags": []
          },
          "execution_count": 150
        }
      ]
    },
    {
      "cell_type": "markdown",
      "metadata": {
        "id": "p_TwktKETUyI"
      },
      "source": [
        "Let us check on the number of Class 0 and Class 1s that we have. "
      ]
    },
    {
      "cell_type": "code",
      "metadata": {
        "colab": {
          "base_uri": "https://localhost:8080/"
        },
        "id": "Q_yJRYt-kvfD",
        "outputId": "d1922105-4b07-468b-8f83-85c5ac6733f9"
      },
      "source": [
        "print_ones_zeroes(validation_labels)"
      ],
      "execution_count": 151,
      "outputs": [
        {
          "output_type": "stream",
          "text": [
            "Total Labels: 374\n",
            "# of Class 1: 165\n",
            "# of Class 0: 209\n"
          ],
          "name": "stdout"
        }
      ]
    },
    {
      "cell_type": "code",
      "metadata": {
        "colab": {
          "base_uri": "https://localhost:8080/"
        },
        "id": "5Bd51kQfIAd-",
        "outputId": "e75f1d8e-b0fe-41f8-d8c8-3fea2e8e2b38"
      },
      "source": [
        "# save the train labels before converting to categorical to use for cross validation splits\r\n",
        "validation_labels_before_categorical = validation_labels\r\n",
        "print(type(validation_labels_before_categorical), len(validation_labels_before_categorical), validation_labels_before_categorical.shape)"
      ],
      "execution_count": 152,
      "outputs": [
        {
          "output_type": "stream",
          "text": [
            "<class 'numpy.ndarray'> 374 (374,)\n"
          ],
          "name": "stdout"
        }
      ]
    },
    {
      "cell_type": "code",
      "metadata": {
        "id": "4euJT10hTUyJ"
      },
      "source": [
        "# convert labels to categorical\n",
        "validation_labels = to_categorical(validation_labels)"
      ],
      "execution_count": 153,
      "outputs": []
    },
    {
      "cell_type": "markdown",
      "metadata": {
        "id": "EzMWmY9PTUyJ"
      },
      "source": [
        "### Prepare Test Images and Test Labels"
      ]
    },
    {
      "cell_type": "code",
      "metadata": {
        "id": "9D4Ol2gZ60PN"
      },
      "source": [
        "# read filepath for all \"filenames with extension as 'png'\" into a list\r\n",
        "# here filepath means 'relative directory + filename'\r\n",
        "\r\n",
        "# Google Drive / Colab\r\n",
        "path_to_img_files = '/content/gdrive/MyDrive/Colab Notebooks/Clinical Heart Failure using H&E Images /data/images/held-out_validation/*.png'\r\n",
        "# for resnet50\r\n",
        "# test_images, test_labels = prepare_images_labels (path_to_img_files, labels, 0)\r\n",
        "# for mobilenet\r\n",
        "test_images, test_labels = prepare_images_labels (path_to_img_files, labels, 1)\r\n",
        "\r\n",
        "# Local Drive / Jupyter\r\n",
        "# filepathlist_test = glob.glob('data/images/held-out_validation/*.png')"
      ],
      "execution_count": 154,
      "outputs": []
    },
    {
      "cell_type": "code",
      "metadata": {
        "id": "xCjwEDeCTUyN"
      },
      "source": [
        "# convert list to a numpy array and the values to float\n",
        "test_images = np.array(test_images, dtype = 'float32')"
      ],
      "execution_count": 155,
      "outputs": []
    },
    {
      "cell_type": "code",
      "metadata": {
        "id": "TKORF7UjTUyN",
        "colab": {
          "base_uri": "https://localhost:8080/"
        },
        "outputId": "7e323b2e-7d12-42aa-f6e8-728e7bc088ce"
      },
      "source": [
        "# check the shape to confirm it is ready for CNN\n",
        "test_images.shape"
      ],
      "execution_count": 156,
      "outputs": [
        {
          "output_type": "execute_result",
          "data": {
            "text/plain": [
              "(1155, 224, 224, 3)"
            ]
          },
          "metadata": {
            "tags": []
          },
          "execution_count": 156
        }
      ]
    },
    {
      "cell_type": "code",
      "metadata": {
        "id": "1sfmo-v2TUyO"
      },
      "source": [
        "# convert list to a numpy array and the values to int64\n",
        "test_labels = np.array(test_labels, dtype = 'int64')"
      ],
      "execution_count": 157,
      "outputs": []
    },
    {
      "cell_type": "code",
      "metadata": {
        "id": "njHiGVDRTUyO",
        "colab": {
          "base_uri": "https://localhost:8080/"
        },
        "outputId": "ae087b20-7c3d-43d2-c6c0-ef08880bc318"
      },
      "source": [
        "# check the shape to confirm it is ready for CNN\n",
        "test_labels.shape"
      ],
      "execution_count": 158,
      "outputs": [
        {
          "output_type": "execute_result",
          "data": {
            "text/plain": [
              "(1155,)"
            ]
          },
          "metadata": {
            "tags": []
          },
          "execution_count": 158
        }
      ]
    },
    {
      "cell_type": "markdown",
      "metadata": {
        "id": "Gk05ShqrTUyQ"
      },
      "source": [
        "Let us check on the number of Class 0 and Class 1s that we have. "
      ]
    },
    {
      "cell_type": "code",
      "metadata": {
        "id": "yw7aYatDlCHD",
        "colab": {
          "base_uri": "https://localhost:8080/"
        },
        "outputId": "f3f4a98e-23da-4dd5-a475-9666fd94c920"
      },
      "source": [
        "print_ones_zeroes(test_labels)"
      ],
      "execution_count": 159,
      "outputs": [
        {
          "output_type": "stream",
          "text": [
            "Total Labels: 1155\n",
            "# of Class 1: 517\n",
            "# of Class 0: 638\n"
          ],
          "name": "stdout"
        }
      ]
    },
    {
      "cell_type": "code",
      "metadata": {
        "colab": {
          "base_uri": "https://localhost:8080/"
        },
        "id": "aLZmYTmFIVH3",
        "outputId": "e3fce510-7eff-474c-8710-ff90fdba8c78"
      },
      "source": [
        "# save the train labels before converting to categorical to use for cross validation splits\r\n",
        "test_labels_before_categorical = test_labels\r\n",
        "print(type(test_labels_before_categorical), len(test_labels_before_categorical), test_labels_before_categorical.shape)"
      ],
      "execution_count": 160,
      "outputs": [
        {
          "output_type": "stream",
          "text": [
            "<class 'numpy.ndarray'> 1155 (1155,)\n"
          ],
          "name": "stdout"
        }
      ]
    },
    {
      "cell_type": "code",
      "metadata": {
        "id": "dScQ0oPFTUyR"
      },
      "source": [
        "# convert labels to categorical\n",
        "test_labels = to_categorical(test_labels)"
      ],
      "execution_count": 161,
      "outputs": []
    },
    {
      "cell_type": "markdown",
      "metadata": {
        "id": "t2qDQBwAozQt"
      },
      "source": [
        "### Prepare All Images and Labels for Cross Validation"
      ]
    },
    {
      "cell_type": "code",
      "metadata": {
        "colab": {
          "base_uri": "https://localhost:8080/"
        },
        "id": "YFPwNCSro94S",
        "outputId": "2571a6bb-0850-4dd2-a5b1-b48e53b32171"
      },
      "source": [
        "# confirm all are numpy arrays, length and shape\r\n",
        "print(type(train_images), len(train_images), train_images.shape)\r\n",
        "print(type(validation_images), len(validation_images), validation_images.shape)\r\n",
        "print(type(test_images), len(test_images), test_images.shape)\r\n",
        "print(len(train_images) + len(validation_images) + len(test_images))\r\n",
        "print(type(train_labels), len(train_labels), train_labels.shape)\r\n",
        "print(type(validation_labels), len(validation_labels), validation_labels.shape)\r\n",
        "print(type(test_labels), len(test_labels), test_labels.shape)\r\n",
        "print(len(train_labels) + len(validation_labels) + len(test_labels))"
      ],
      "execution_count": 162,
      "outputs": [
        {
          "output_type": "stream",
          "text": [
            "<class 'numpy.ndarray'> 770 (770, 224, 224, 3)\n",
            "<class 'numpy.ndarray'> 374 (374, 224, 224, 3)\n",
            "<class 'numpy.ndarray'> 1155 (1155, 224, 224, 3)\n",
            "2299\n",
            "<class 'numpy.ndarray'> 770 (770, 2)\n",
            "<class 'numpy.ndarray'> 374 (374, 2)\n",
            "<class 'numpy.ndarray'> 1155 (1155, 2)\n",
            "2299\n"
          ],
          "name": "stdout"
        }
      ]
    },
    {
      "cell_type": "code",
      "metadata": {
        "colab": {
          "base_uri": "https://localhost:8080/"
        },
        "id": "htuhdmUgpoJq",
        "outputId": "d456b2d3-b0f8-4f86-a0d1-9a40a1edce1e"
      },
      "source": [
        "# join train / validation / test arrays for images\r\n",
        "all_images = np.concatenate((train_images, validation_images, test_images))\r\n",
        "print(type(all_images), len(all_images), all_images.shape)"
      ],
      "execution_count": 163,
      "outputs": [
        {
          "output_type": "stream",
          "text": [
            "<class 'numpy.ndarray'> 2299 (2299, 224, 224, 3)\n"
          ],
          "name": "stdout"
        }
      ]
    },
    {
      "cell_type": "code",
      "metadata": {
        "colab": {
          "base_uri": "https://localhost:8080/"
        },
        "id": "kp1QvE9qrMxV",
        "outputId": "80572562-8b81-4497-cc30-92e0d32e7b5f"
      },
      "source": [
        "# join train / validation / test arrays for labels\r\n",
        "all_labels = np.concatenate((train_labels, validation_labels, test_labels))\r\n",
        "print(type(all_labels), len(all_labels), all_labels.shape)"
      ],
      "execution_count": 164,
      "outputs": [
        {
          "output_type": "stream",
          "text": [
            "<class 'numpy.ndarray'> 2299 (2299, 2)\n"
          ],
          "name": "stdout"
        }
      ]
    },
    {
      "cell_type": "code",
      "metadata": {
        "colab": {
          "base_uri": "https://localhost:8080/"
        },
        "id": "9TdIW8m9I_9s",
        "outputId": "6581d398-a7a9-4635-bca8-0cf6b7967850"
      },
      "source": [
        "all_labels_before_categorical = np.concatenate((train_labels_before_categorical, validation_labels_before_categorical, test_labels_before_categorical))\r\n",
        "print(type(all_labels_before_categorical), len(all_labels_before_categorical), all_labels_before_categorical.shape)"
      ],
      "execution_count": 165,
      "outputs": [
        {
          "output_type": "stream",
          "text": [
            "<class 'numpy.ndarray'> 2299 (2299,)\n"
          ],
          "name": "stdout"
        }
      ]
    },
    {
      "cell_type": "markdown",
      "metadata": {
        "id": "47ncBdcCTUyR"
      },
      "source": [
        "## Model Definition / Train / Validate / Test\r\n"
      ]
    },
    {
      "cell_type": "markdown",
      "metadata": {
        "id": "4f-ntz2xgQKW"
      },
      "source": [
        "### MNIST CNN modified for HE"
      ]
    },
    {
      "cell_type": "code",
      "metadata": {
        "id": "7FkIenzmgTbG"
      },
      "source": [
        "# import libraries (general)\r\n",
        "# from keras import models\r\n",
        "# from keras import layers\r\n",
        "# model_cnn = models.Sequential()\r\n",
        "\r\n",
        "# Layer Details:\r\n",
        "# - 2 dimensional Convolution Layer\r\n",
        "# - Number of filters/kernels = 32\r\n",
        "# - Filter/Kernel Size = 3x3\r\n",
        "# - Activation Function = relu (for non-linearity detection)\r\n",
        "# - Input Shape = 250x250 matrix with 3 channel (as we have a color image)\r\n",
        "# model_cnn.add(layers.Conv2D(32, (3,3), activation='relu', input_shape=(250,250,3)))\r\n",
        "\r\n",
        "# Layer Details:\r\n",
        "# - Downsample the output from previous layer\r\n",
        "# - We will take the max value for a every 2x2 window ... moved over the input\r\n",
        "# model_cnn.add(layers.MaxPooling2D(2,2))\r\n",
        "\r\n",
        "# Layer Details:\r\n",
        "# - 2 dimensional Convolution Layer\r\n",
        "# - Number of filters/kernels = 64\r\n",
        "# - Filter/Kernel Size = 3x3\r\n",
        "# - Activation Function = relu (for non-linearity detection)\r\n",
        "# model_cnn.add(layers.Conv2D(64, (3,3), activation = 'relu'))\r\n",
        "\r\n",
        "# Layer Details:\r\n",
        "# - Downsample the output from previous layer\r\n",
        "# - We will take the max value for a every 2x2 window ... moved over the input\r\n",
        "# model_cnn.add(layers.MaxPooling2D(2,2))\r\n",
        "\r\n",
        "# Layer Details:\r\n",
        "# - 2 dimensional Convolution Layer\r\n",
        "# - Number of filters/kernels = 64\r\n",
        "# - Filter/Kernel Size = 3x3\r\n",
        "# - Activation Function = relu (for non-linearity detection)\r\n",
        "# model_cnn.add(layers.Conv2D(64, (3,3), activation='relu'))\r\n",
        "\r\n",
        "# Data at this stage is in matrix form. We will convert it to vector form to feed to a fully connected network (FCN).\r\n",
        "# model_cnn.add(layers.Flatten())\r\n",
        "\r\n",
        "# We will design for 64 outputs with activation function as relu (to learn non-linearity).\r\n",
        "# model_cnn.add(layers.Dense(64, activation = 'relu'))\r\n",
        "\r\n",
        "# This is the final layer. Hence, the outputs will be 2 corresponding to the 2 classes:\r\n",
        "# - clinical heart failure = yes: 1\r\n",
        "# - clinical heart failure = no: 0\r\n",
        "# Activation Function chosen here is softmax to have a probabilistic output. \r\n",
        "# model_cnn.add(layers.Dense(2, activation = 'softmax'))\r\n",
        "\r\n",
        "# model_cnn.summary()\r\n",
        "\r\n",
        "# Define Optimizer, Loss Function and Metrics to be used for the Model\r\n",
        "# - Going ahead with the well known functions at this point in time\r\n",
        "# - Selected accuracy as the metrics to understand validation / test accuracy of the model\r\n",
        "# model_cnn.compile(optimizer='rmsprop', loss='binary_crossentropy', metrics=['accuracy'])\r\n",
        "\r\n",
        "# Train and Validate the Model\r\n",
        "# We will now train the model using train images and train labels. \r\n",
        "# - We will use a batch size = 10.\r\n",
        "# - 1 epoch = 770 / 10 = 77 batches\r\n",
        "# - 1 epoch = 1 complete run of all train samples for training the model\r\n",
        "# - We will go for a total of 5 epochs = 5 complete run of the all train samples\r\n",
        "# We will validate the model using validation images and validation labels.\r\n",
        "# model_cnn.fit(train_images, train_labels, epochs = 1, batch_size = 10, validation_data = (validation_images, validation_labels))\r\n",
        "\r\n",
        "# Test the Model\r\n",
        "# We will now test model's performance with the test data.\r\n",
        "# - We predict the class for each of the 1155 test using the model.\r\n",
        "# - We will check the test accuracy.\r\n",
        "# test_loss, test_acc = model_cnn.evaluate(test_images, test_labels)\r\n",
        "# print('test accuracy:', (test_acc*100))\r\n"
      ],
      "execution_count": 166,
      "outputs": []
    },
    {
      "cell_type": "markdown",
      "metadata": {
        "id": "mVZqztGYtAA1"
      },
      "source": [
        "### Define Common Hyperparameters"
      ]
    },
    {
      "cell_type": "code",
      "metadata": {
        "id": "SMuD8SLxtKW_"
      },
      "source": [
        "BATCH_SIZE = 10\r\n",
        "EPOCHS = 1\r\n",
        "LEARNING_RATE = 0.01\r\n",
        "DENSE_LAYER_NEURONS = 512\r\n",
        "DENSE_LAYER_DROPOUT = 0.4\r\n",
        "CROSS_VALIDATE = True\r\n",
        "CROSS_VALIDATION_FOLDS = 4"
      ],
      "execution_count": 167,
      "outputs": []
    },
    {
      "cell_type": "markdown",
      "metadata": {
        "id": "-LU3ToUb9j4A"
      },
      "source": [
        "### Define a checkpoint function"
      ]
    },
    {
      "cell_type": "code",
      "metadata": {
        "id": "t1GuG7z79iou"
      },
      "source": [
        "from keras.callbacks import ModelCheckpoint\r\n",
        "def checkpoint(path_to_model_parameters_file):\r\n",
        "  # 1st argument: file to which the weights need to be saved\r\n",
        "  # 2nd argument: defines the quantity to monitor ... we will monitor validation accuracy\r\n",
        "  # 3rd argument: verbose yes/no\r\n",
        "  # 4th argument: true then save weghts else save entire model\r\n",
        "  # 5th argument: max if val_acc, min if val_loss, auto decides based on the quantity getting monitored\r\n",
        "  # 6th argument: period:  check after every epoch therefore 1\r\n",
        "  # 6th arguemnt: save_freq:  specify the frequency in number of batches seen\r\n",
        "  #checkpoint = ModelCheckpoint(\"/content/gdrive/MyDrive/Colab Notebooks/Clinical Heart Failure using H&E Images/best_model.hdf5\", monitor='val_accuracy', verbose=1, save_best_only=True, mode='max', save_freq = 'epoch') #period=1\r\n",
        "  checkpoint_value = ModelCheckpoint(path_to_model_parameters_file, monitor='val_accuracy', verbose=1, save_best_only=True, mode='max', save_freq = 'epoch') #period=1\r\n",
        "  return checkpoint_value"
      ],
      "execution_count": 168,
      "outputs": []
    },
    {
      "cell_type": "markdown",
      "metadata": {
        "id": "p6Z4dWcASzS8"
      },
      "source": [
        "### Define a cross validation function"
      ]
    },
    {
      "cell_type": "code",
      "metadata": {
        "id": "xxt7u_NFS7n5"
      },
      "source": [
        "# define function to do cross validation\r\n",
        "def cross_validate(model_name):\r\n",
        "  # import libraries\r\n",
        "  from sklearn.model_selection import StratifiedKFold\r\n",
        "  # using stratifiedkfold so that we have balanced classes in each split\r\n",
        "  cvfold = StratifiedKFold(n_splits = CROSS_VALIDATION_FOLDS, shuffle = True)\r\n",
        "  # we will use below to store all individual validation scores\r\n",
        "  cvscores = []\r\n",
        "  # based on the class value, get the split done and respective train and test index\r\n",
        "  for train_index, val_index in cvfold.split(all_images, all_labels_before_categorical):\r\n",
        "    # define model\r\n",
        "    if (model_name == 'resnet50'):\r\n",
        "      model = define_model_resnet50()\r\n",
        "    elif (model_name == 'mobilenet_transfer'):\r\n",
        "      model = define_model_mobilenet()\r\n",
        "      for layer in model.layers[:92]:\r\n",
        "        layer.trainable=False\r\n",
        "      for layer in model.layers[92:]:\r\n",
        "        layer.trainable=True\r\n",
        "    # train based on train index elements\r\n",
        "    model.fit(all_images[train_index], all_labels[train_index], epochs = EPOCHS, batch_size = BATCH_SIZE) \r\n",
        "    # validate based on validation index elements\r\n",
        "    cv_score = model.evaluate(all_images[val_index], all_labels[val_index])\r\n",
        "    print(\"Validation Accuracy: %0.2f%%\" % (cv_score[1]*100))\r\n",
        "    # append each iteration validation accuracy score\r\n",
        "    cvscores.append(cv_score[1]*100)\r\n",
        "  # print mean and std deviation of the validation accuracy for the complete cross validation i.e. for all iterations\r\n",
        "  print(\"Validation Accuracy Mean (+/- Std Deviation): %0.2f%% (+/- %0.2f%%)\" % (np.mean(cvscores), np.std(cvscores)))"
      ],
      "execution_count": 169,
      "outputs": []
    },
    {
      "cell_type": "code",
      "metadata": {
        "id": "g36VGUQBXbUU"
      },
      "source": [
        "# define function to set the number of layers to be trained\r\n",
        "def set_trainable_layers(model, start_layer_number):\r\n",
        "  for layer in model.layers[:start_layer_number]:\r\n",
        "    layer.trainable = False\r\n",
        "  for layer in model.layers[start_layer_number:]:\r\n",
        "    layer.trainable = True"
      ],
      "execution_count": 170,
      "outputs": []
    },
    {
      "cell_type": "markdown",
      "metadata": {
        "id": "SVYSHHC7Ed3E"
      },
      "source": [
        "### ResNet50 - Transfer Learning"
      ]
    },
    {
      "cell_type": "code",
      "metadata": {
        "id": "TeMu7VER-G67"
      },
      "source": [
        "# import libraries (resnet50)\r\n",
        "from keras.applications.resnet50 import ResNet50\r\n",
        "from keras.layers import Dense, GlobalAveragePooling2D\r\n",
        "from keras.models import Model\r\n",
        "from keras.optimizers import SGD\r\n",
        "from keras.preprocessing.image import ImageDataGenerator\r\n",
        "from keras.optimizers import Adam\r\n",
        "# from keras.layers import Dropout\r\n",
        "from keras.layers.normalization import BatchNormalization\r\n",
        "from keras.layers.core import Dense, Dropout, Activation\r\n",
        "from keras.preprocessing.image import ImageDataGenerator"
      ],
      "execution_count": 171,
      "outputs": []
    },
    {
      "cell_type": "code",
      "metadata": {
        "id": "qYABR-6C-Px4"
      },
      "source": [
        "def define_model_resnet50():\r\n",
        "  # load ResNet50 with pre-trained parameters for 'imagenet' challenge\r\n",
        "  # disable the last layer ... so that we can have our own FCN layer for our desired classes\r\n",
        "  resnet50 = ResNet50(include_top=False, weights='imagenet')\r\n",
        "\r\n",
        "  # define the last layers\r\n",
        "  # get the output of the last layer of the ResNet50\r\n",
        "  prediction = resnet50.output\r\n",
        "  # add a Global Average Pooling layer (GAP) - this helps reduce number of parameters as compared to a flatten/dense layer\r\n",
        "  prediction = GlobalAveragePooling2D()(prediction)\r\n",
        "  # add a FCN with 1024 output neurons\r\n",
        "  #prediction = Dense(1024, activation = 'relu')(prediction)\r\n",
        "  # we will split the actions to have the Batch Normalization done befor relu\r\n",
        "  prediction = Dense(DENSE_LAYER_NEURONS)(prediction)\r\n",
        "  #prediction = BatchNormalization()(prediction)\r\n",
        "  prediction = Activation('relu')(prediction)\r\n",
        "  # add a dropout of 40% to avoid overfitting\r\n",
        "  prediction = Dropout(DENSE_LAYER_DROPOUT)(prediction)\r\n",
        "  # add a FCN with 2 output neurons corresponding to the 2 classes we want to predict\r\n",
        "  prediction = Dense(2, activation = 'softmax')(prediction)\r\n",
        "\r\n",
        "  # connect the last layer with ResNet50 layer to define the model\r\n",
        "  model = Model(inputs = resnet50.input, outputs = prediction)\r\n",
        "\r\n",
        "  # we wish use the pretrained resnet50 model as is i.e. do not want it's parameters to get updated during training\r\n",
        "  for layer in resnet50.layers:\r\n",
        "    layer.trainable = False\r\n",
        "\r\n",
        "  # define the optimizer, loss function, metrics we will use\r\n",
        "  #model.compile(optimizer = SGD(lr=0.0001, momentum = 0.9), loss = 'categorical_crossentropy', metrics = ['accuracy'])\r\n",
        "  model.compile(optimizer = Adam(lr=LEARNING_RATE), loss = 'categorical_crossentropy', metrics = ['accuracy'])\r\n",
        "  return model"
      ],
      "execution_count": 172,
      "outputs": []
    },
    {
      "cell_type": "code",
      "metadata": {
        "id": "Uy-8-MBIjmpI"
      },
      "source": [
        "# len(resnet50.layers)\r\n",
        "# resnet50.layers\r\n",
        "# resnet50.summary()"
      ],
      "execution_count": 173,
      "outputs": []
    },
    {
      "cell_type": "code",
      "metadata": {
        "id": "nUDFCMRsij86"
      },
      "source": [
        "model = define_model_resnet50()\r\n",
        "# model.summary()"
      ],
      "execution_count": 174,
      "outputs": []
    },
    {
      "cell_type": "code",
      "metadata": {
        "id": "mJoFjgeoYRbj"
      },
      "source": [
        "# let us check the layers in the model \r\n",
        "# 0 to 174: Conv 1 to 5 layers\r\n",
        "# 175 to 179: GAP, Dense, Dense \r\n",
        "# for i,layer in enumerate(model.layers):\r\n",
        "#  print(i,layer.name)"
      ],
      "execution_count": 175,
      "outputs": []
    },
    {
      "cell_type": "code",
      "metadata": {
        "id": "zRvHh5zEZ3Yc"
      },
      "source": [
        "# data augmentation helps change the data slightly so that the model does not overfit\r\n",
        "# train_generator = ImageDataGenerator(rotation_range = 8, width_shift_range = 0.08, shear_range = 0.3, height_shift_range = 0.08, zoom_range = 0.08)\r\n",
        "# validation_generator = ImageDataGenerator()\r\n",
        "# below ensures the augmented data is provided in batches to the model\r\n",
        "# train_augmented = train_generator.flow(train_images, train_labels, batch_size = 10)\r\n",
        "# validation_augmented = validation_generator.flow(validation_images, validation_labels, batch_size = 10)"
      ],
      "execution_count": 176,
      "outputs": []
    },
    {
      "cell_type": "code",
      "metadata": {
        "colab": {
          "base_uri": "https://localhost:8080/"
        },
        "id": "324Kefh_-8nQ",
        "outputId": "655b56d2-495b-48ba-8741-1d7897e8964d"
      },
      "source": [
        "# train and validate model\r\n",
        "path_to_resnet50_parameters_file = '/content/gdrive/MyDrive/Colab Notebooks/Clinical Heart Failure using H&E Images/best_resnet50.hdf5'\r\n",
        "model.fit(train_images, train_labels, epochs = EPOCHS, batch_size = BATCH_SIZE, validation_data = (validation_images, validation_labels), callbacks=[checkpoint(path_to_resnet50_parameters_file)])\r\n",
        "\r\n",
        "# train and validate model with augmented data\r\n",
        "# model.fit(train_augmented, epochs = 20, batch_size = 10, validation_data = validation_augmented)"
      ],
      "execution_count": 177,
      "outputs": [
        {
          "output_type": "stream",
          "text": [
            "77/77 [==============================] - 8s 57ms/step - loss: 6.1270 - accuracy: 0.6059 - val_loss: 0.6092 - val_accuracy: 0.7299\n",
            "\n",
            "Epoch 00001: val_accuracy improved from -inf to 0.72995, saving model to /content/gdrive/MyDrive/Colab Notebooks/Clinical Heart Failure using H&E Images/best_resnet50.hdf5\n"
          ],
          "name": "stdout"
        },
        {
          "output_type": "execute_result",
          "data": {
            "text/plain": [
              "<tensorflow.python.keras.callbacks.History at 0x7f9a91896240>"
            ]
          },
          "metadata": {
            "tags": []
          },
          "execution_count": 177
        }
      ]
    },
    {
      "cell_type": "code",
      "metadata": {
        "id": "JZKQyoCBDlw-"
      },
      "source": [
        "# test model\r\n",
        "#test_loss, test_acc = model.evaluate(test_images, test_labels)"
      ],
      "execution_count": 178,
      "outputs": []
    },
    {
      "cell_type": "code",
      "metadata": {
        "colab": {
          "base_uri": "https://localhost:8080/"
        },
        "id": "-F_cgENQ-0nv",
        "outputId": "6782643f-80ee-4714-e94f-9b3588f55813"
      },
      "source": [
        "# test with best model\r\n",
        "model.load_weights(path_to_resnet50_parameters_file)\r\n",
        "test_loss, test_acc = model.evaluate(test_images, test_labels)"
      ],
      "execution_count": 179,
      "outputs": [
        {
          "output_type": "stream",
          "text": [
            "37/37 [==============================] - 2s 63ms/step - loss: 0.6295 - accuracy: 0.7039\n"
          ],
          "name": "stdout"
        }
      ]
    },
    {
      "cell_type": "code",
      "metadata": {
        "colab": {
          "base_uri": "https://localhost:8080/"
        },
        "id": "qSkx0r2kSZix",
        "outputId": "3825880d-f562-4677-ae6a-367f1f6a1aed"
      },
      "source": [
        "# cross validate\r\n",
        "if (CROSS_VALIDATE == True): \r\n",
        "  model_name = 'resnet50'\r\n",
        "  cross_validate(model_name)"
      ],
      "execution_count": 180,
      "outputs": [
        {
          "output_type": "stream",
          "text": [
            "173/173 [==============================] - 9s 31ms/step - loss: 4.3851 - accuracy: 0.6141\n",
            "18/18 [==============================] - 2s 76ms/step - loss: 0.4943 - accuracy: 0.7565\n",
            "Validation Accuracy: 75.65%\n",
            "173/173 [==============================] - 9s 30ms/step - loss: 3.2086 - accuracy: 0.6482\n",
            "18/18 [==============================] - 2s 63ms/step - loss: 0.4255 - accuracy: 0.8017\n",
            "Validation Accuracy: 80.17%\n",
            "173/173 [==============================] - 9s 28ms/step - loss: 4.7340 - accuracy: 0.6415\n",
            "18/18 [==============================] - 2s 62ms/step - loss: 0.6206 - accuracy: 0.6470\n",
            "Validation Accuracy: 64.70%\n",
            "173/173 [==============================] - 9s 31ms/step - loss: 5.0734 - accuracy: 0.6330\n",
            "18/18 [==============================] - 2s 64ms/step - loss: 0.4144 - accuracy: 0.8084\n",
            "Validation Accuracy: 80.84%\n",
            "Validation Accuracy Mean (+/- Std Deviation): 75.34% (+/- 6.46%)\n"
          ],
          "name": "stdout"
        }
      ]
    },
    {
      "cell_type": "markdown",
      "metadata": {
        "id": "g9zNP4ygcivC"
      },
      "source": [
        "### MobileNet"
      ]
    },
    {
      "cell_type": "markdown",
      "metadata": {
        "id": "vuUY4kH2q8Lc"
      },
      "source": [
        "We will first perform transfer learning. This will help get the parameter values initialized for the last layers before we engage few convolution layers of MobileNet in learning (Fine Tuning).  "
      ]
    },
    {
      "cell_type": "markdown",
      "metadata": {
        "id": "jShqNBv7qsby"
      },
      "source": [
        "#### Transfer Learning"
      ]
    },
    {
      "cell_type": "code",
      "metadata": {
        "id": "NJyiKnXiclem"
      },
      "source": [
        "# import libraries\r\n",
        "import tensorflow as tf\r\n",
        "from keras.models import Model\r\n",
        "#from keras.optimizers import SGD\r\n",
        "from keras.optimizers import Adam\r\n",
        "#from keras.layers.normalization import BatchNormalization\r\n",
        "from keras.layers.core import Dense, Dropout, Activation\r\n",
        "#from keras.preprocessing.image import ImageDataGenerator\r\n",
        "from tensorflow.keras import regularizers"
      ],
      "execution_count": 181,
      "outputs": []
    },
    {
      "cell_type": "code",
      "metadata": {
        "id": "c3sgLWPjcume"
      },
      "source": [
        "def define_model_mobilenet():\r\n",
        "  mobilenet = tf.keras.applications.mobilenet.MobileNet()\r\n",
        "  # mobilenet.summary()\r\n",
        "\r\n",
        "  # define the last layers\r\n",
        "  # get the output of the last layer of the MobileNet\r\n",
        "  prediction = mobilenet.output\r\n",
        "\r\n",
        "  # mobilenet already has a GAP layer, hence we need to only add a Dense layer\r\n",
        "\r\n",
        "  # add a FCN with 512 output neurons\r\n",
        "  prediction = Dense(DENSE_LAYER_NEURONS, activation = 'relu')(prediction)\r\n",
        "  # with regularizer\r\n",
        "  # prediction = Dense(1024, activation = 'relu', kernel_regularizer = regularizers.l2(1e-4), bias_regularizer = regularizers.l2(1e-4), activity_regularizer = regularizers.l2(1e-5))(prediction)\r\n",
        "\r\n",
        "  # we will split the actions to have the Batch Normalization done befor relu\r\n",
        "  # prediction = Dense(1024)(prediction)\r\n",
        "  # prediction = BatchNormalization()(prediction)\r\n",
        "  # prediction = Activation('relu')(prediction)\r\n",
        "\r\n",
        "  # add a dropout to avoid overfitting\r\n",
        "  prediction = Dropout(DENSE_LAYER_DROPOUT)(prediction)\r\n",
        "\r\n",
        "  # add a FCN with 2 output neurons corresponding to the 2 classes we want to predict\r\n",
        "  prediction = Dense(2, activation = 'softmax')(prediction)\r\n",
        "  # with regularizer\r\n",
        "  # prediction = Dense(2, activation = 'softmax', kernel_regularizer = regularizers.l2(1e-4), bias_regularizer = regularizers.l2(1e-4), activity_regularizer = regularizers.l2(1e-5))(prediction)\r\n",
        "\r\n",
        "  # connect the last layer with MobileNet layer to define the model\r\n",
        "  model = Model(inputs = mobilenet.input, outputs = prediction)\r\n",
        "\r\n",
        "  # define the optimizer, loss function, metrics we will use\r\n",
        "  #model.compile(optimizer = SGD(lr=0.0001, momentum = 0.9), loss = 'categorical_crossentropy', metrics = ['accuracy'])\r\n",
        "  #model.compile(optimizer = Adam(lr=0.01), loss = 'categorical_crossentropy', metrics = ['accuracy'])\r\n",
        "  # we want to monitor validation accuracy and save the best validation accuracy, hence changing the metrics to 'val_accuracy'\r\n",
        "  model.compile(optimizer = Adam(lr=LEARNING_RATE), loss = 'categorical_crossentropy', metrics = ['accuracy'])\r\n",
        "  return model"
      ],
      "execution_count": 182,
      "outputs": []
    },
    {
      "cell_type": "code",
      "metadata": {
        "id": "o1PDyOKhymEB"
      },
      "source": [
        "model_mn = define_model_mobilenet()\r\n",
        "# model_mn.summary()"
      ],
      "execution_count": 183,
      "outputs": []
    },
    {
      "cell_type": "code",
      "metadata": {
        "id": "wymMq6CP_viD"
      },
      "source": [
        "# let us check the layers in the model \r\n",
        "# for i,layer in enumerate(model_mn.layers):\r\n",
        "#  print(i,layer.name)"
      ],
      "execution_count": 184,
      "outputs": []
    },
    {
      "cell_type": "code",
      "metadata": {
        "id": "yyaCRVBoUJOH"
      },
      "source": [
        "# 0 to 72 = Till Conv11\r\n",
        "# 73 to 79 - Conv12\r\n",
        "# 80 to 85 = Conv13\r\n",
        "# 86 to 91 = Post Conv13 before Custom (GAP...)\r\n",
        "# 92 to 94 = Custom (Dense/Dropout/Dense(2)) = Trainable \r\n",
        "for layer in model_mn.layers[:92]:\r\n",
        "    layer.trainable=False\r\n",
        "for layer in model_mn.layers[92:]:\r\n",
        "    layer.trainable=True"
      ],
      "execution_count": 185,
      "outputs": []
    },
    {
      "cell_type": "code",
      "metadata": {
        "colab": {
          "base_uri": "https://localhost:8080/"
        },
        "id": "Oipav9r0dJ6I",
        "outputId": "671143d5-eec1-4b14-a7f3-317b04ff2498"
      },
      "source": [
        "# train and validate model\r\n",
        "path_to_mobilenet_parameters_file = '/content/gdrive/MyDrive/Colab Notebooks/Clinical Heart Failure using H&E Images/best_mobilenet.hdf5'\r\n",
        "hist = model_mn.fit(train_images, train_labels, epochs = EPOCHS, batch_size = BATCH_SIZE, validation_data = (validation_images, validation_labels), callbacks=[checkpoint(path_to_mobilenet_parameters_file)])"
      ],
      "execution_count": 186,
      "outputs": [
        {
          "output_type": "stream",
          "text": [
            "77/77 [==============================] - 9s 72ms/step - loss: 0.7075 - accuracy: 0.5185 - val_loss: 0.6873 - val_accuracy: 0.5588\n",
            "\n",
            "Epoch 00001: val_accuracy improved from -inf to 0.55882, saving model to /content/gdrive/MyDrive/Colab Notebooks/Clinical Heart Failure using H&E Images/best_mobilenet.hdf5\n"
          ],
          "name": "stdout"
        }
      ]
    },
    {
      "cell_type": "code",
      "metadata": {
        "id": "-odzOoQSpTH9"
      },
      "source": [
        "# how to get the keys in your model\r\n",
        "# for key in hist.history:\r\n",
        "#   print(key)"
      ],
      "execution_count": 187,
      "outputs": []
    },
    {
      "cell_type": "code",
      "metadata": {
        "id": "KBs3b9OLgDmQ"
      },
      "source": [
        "# test model\r\n",
        "#test_loss_mn, test_acc_mn = model_mn.evaluate(test_images, test_labels)"
      ],
      "execution_count": 188,
      "outputs": []
    },
    {
      "cell_type": "code",
      "metadata": {
        "id": "vj15Hz5iuRbS"
      },
      "source": [
        "#len(test_predict)"
      ],
      "execution_count": 189,
      "outputs": []
    },
    {
      "cell_type": "code",
      "metadata": {
        "colab": {
          "base_uri": "https://localhost:8080/"
        },
        "id": "tlPJdM2Eud6R",
        "outputId": "33827cc0-eb7b-43b3-d9e8-9fbb1cc7e765"
      },
      "source": [
        "# test with best model\r\n",
        "#model_mn.load_weights('/content/gdrive/MyDrive/Colab Notebooks/Clinical Heart Failure using H&E Images/best_model.hdf5')\r\n",
        "model_mn.load_weights(path_to_mobilenet_parameters_file)\r\n",
        "# test_predict = model_mn.predict(test_images, batch_size=10, verbose=0)\r\n",
        "test_loss_mn, test_acc_mn = model_mn.evaluate(test_images, test_labels)"
      ],
      "execution_count": 190,
      "outputs": [
        {
          "output_type": "stream",
          "text": [
            "37/37 [==============================] - 1s 30ms/step - loss: 0.6882 - accuracy: 0.5524\n"
          ],
          "name": "stdout"
        }
      ]
    },
    {
      "cell_type": "code",
      "metadata": {
        "colab": {
          "base_uri": "https://localhost:8080/"
        },
        "id": "Vu1XRcK9Vq3T",
        "outputId": "d82e92b4-2b54-459d-dede-61963a4bfc56"
      },
      "source": [
        "# cross validate\r\n",
        "if (CROSS_VALIDATE == True): \r\n",
        "  model_name = 'mobilenet_transfer'\r\n",
        "  cross_validate(model_name)"
      ],
      "execution_count": 191,
      "outputs": [
        {
          "output_type": "stream",
          "text": [
            "173/173 [==============================] - 13s 60ms/step - loss: 0.7044 - accuracy: 0.5174\n",
            "18/18 [==============================] - 1s 37ms/step - loss: 0.6886 - accuracy: 0.5496\n",
            "Validation Accuracy: 54.96%\n",
            "173/173 [==============================] - 13s 59ms/step - loss: 0.7029 - accuracy: 0.5111\n",
            "18/18 [==============================] - 2s 30ms/step - loss: 0.7164 - accuracy: 0.5496\n",
            "Validation Accuracy: 54.96%\n",
            "173/173 [==============================] - 13s 58ms/step - loss: 0.7066 - accuracy: 0.5070\n",
            "18/18 [==============================] - 1s 29ms/step - loss: 0.6883 - accuracy: 0.5513\n",
            "Validation Accuracy: 55.13%\n",
            "173/173 [==============================] - 13s 60ms/step - loss: 0.6932 - accuracy: 0.5801\n",
            "18/18 [==============================] - 1s 30ms/step - loss: 0.7939 - accuracy: 0.5314\n",
            "Validation Accuracy: 53.14%\n",
            "Validation Accuracy Mean (+/- Std Deviation): 54.54% (+/- 0.82%)\n"
          ],
          "name": "stdout"
        }
      ]
    },
    {
      "cell_type": "code",
      "metadata": {
        "colab": {
          "base_uri": "https://localhost:8080/"
        },
        "id": "0JSfyKAddxVs",
        "outputId": "a1fda000-79ab-439f-aa9a-3adaedd8b862"
      },
      "source": [
        "# import libraries\r\n",
        "from sklearn.model_selection import StratifiedKFold\r\n",
        "# using stratifiedkfold so that we have balanced classes in each split\r\n",
        "cvfold = StratifiedKFold(n_splits = CROSS_VALIDATION_FOLDS, shuffle = True)\r\n",
        "# we will use below to store all individual validation scores\r\n",
        "cvscores = []\r\n",
        "# based on the class value, get the split done and respective train and test index\r\n",
        "for train_index, val_index in cvfold.split(all_images, all_labels_before_categorical):\r\n",
        "  # define model\r\n",
        "  model = define_model_mobilenet()\r\n",
        "  for layer in model.layers[:92]:\r\n",
        "    layer.trainable=False\r\n",
        "  for layer in model.layers[92:]:\r\n",
        "    layer.trainable=True\r\n",
        "  # train based on train index elements\r\n",
        "  model.fit(all_images[train_index], all_labels[train_index], epochs = EPOCHS, batch_size = BATCH_SIZE) \r\n",
        "  # validate based on validation index elements\r\n",
        "  cv_score = model.evaluate(all_images[val_index], all_labels[val_index])\r\n",
        "  print(\"Validation Accuracy: %0.2f%%\" % (cv_score[1]*100))\r\n",
        "  # append each iteration validation accuracy score\r\n",
        "  cvscores.append(cv_score[1]*100)\r\n",
        "# print mean and std deviation of the validation accuracy for the complete cross validation i.e. for all iterations\r\n",
        "print(\"Validation Accuracy Mean (+/- Std Deviation): %0.2f%% (+/- %0.2f%%)\" % (np.mean(cvscores), np.std(cvscores)))"
      ],
      "execution_count": 192,
      "outputs": [
        {
          "output_type": "stream",
          "text": [
            "173/173 [==============================] - 13s 58ms/step - loss: 0.6997 - accuracy: 0.5457\n",
            "18/18 [==============================] - 1s 28ms/step - loss: 0.6914 - accuracy: 0.5496\n",
            "Validation Accuracy: 54.96%\n",
            "173/173 [==============================] - 13s 58ms/step - loss: 0.7087 - accuracy: 0.5185\n",
            "18/18 [==============================] - 1s 30ms/step - loss: 0.7065 - accuracy: 0.5357\n",
            "Validation Accuracy: 53.57%\n",
            "173/173 [==============================] - 13s 59ms/step - loss: 0.7050 - accuracy: 0.5479\n",
            "18/18 [==============================] - 1s 29ms/step - loss: 0.6880 - accuracy: 0.5513\n",
            "Validation Accuracy: 55.13%\n",
            "173/173 [==============================] - 13s 58ms/step - loss: 0.7061 - accuracy: 0.5366\n",
            "18/18 [==============================] - 1s 31ms/step - loss: 0.6968 - accuracy: 0.4495\n",
            "Validation Accuracy: 44.95%\n",
            "Validation Accuracy Mean (+/- Std Deviation): 52.15% (+/- 4.20%)\n"
          ],
          "name": "stdout"
        }
      ]
    },
    {
      "cell_type": "markdown",
      "metadata": {
        "id": "NYvcJG42q0B3"
      },
      "source": [
        "#### Fine Tuning"
      ]
    },
    {
      "cell_type": "code",
      "metadata": {
        "colab": {
          "base_uri": "https://localhost:8080/"
        },
        "id": "j9IonOU9v_qG",
        "outputId": "a1db0129-d20a-4133-ba0e-b7462f1db476"
      },
      "source": [
        "# 0 to 72 = Till Conv11\r\n",
        "# 73 to 79 - Conv12\r\n",
        "# 80 to 85 = Conv13\r\n",
        "# 86 to 91 = Post Conv13 before Custom (GAP...)\r\n",
        "# 92 to 94 = Custom (Dense/Dropout/Dense(2)) = Trainable \r\n",
        "for layer in model_mn.layers[:80]:\r\n",
        "    layer.trainable=False\r\n",
        "for layer in model_mn.layers[80:]:\r\n",
        "    layer.trainable=True\r\n",
        "\r\n",
        "# train and validate model\r\n",
        "hist = model_mn.fit(train_images, train_labels, epochs = EPOCHS, batch_size = BATCH_SIZE, validation_data = (validation_images, validation_labels), callbacks=[checkpoint(path_to_mobilenet_parameters_file)])"
      ],
      "execution_count": 193,
      "outputs": [
        {
          "output_type": "stream",
          "text": [
            "77/77 [==============================] - 5s 65ms/step - loss: 0.7078 - accuracy: 0.5714 - val_loss: 0.6823 - val_accuracy: 0.5588\n",
            "\n",
            "Epoch 00001: val_accuracy improved from -inf to 0.55882, saving model to /content/gdrive/MyDrive/Colab Notebooks/Clinical Heart Failure using H&E Images/best_mobilenet.hdf5\n"
          ],
          "name": "stdout"
        }
      ]
    },
    {
      "cell_type": "code",
      "metadata": {
        "colab": {
          "base_uri": "https://localhost:8080/"
        },
        "id": "obaPSuIwGA_R",
        "outputId": "e0991871-6c13-4dff-b1b8-fe04af1e8a64"
      },
      "source": [
        "# test with best model\r\n",
        "#model_mn.load_weights('/content/gdrive/MyDrive/Colab Notebooks/Clinical Heart Failure using H&E Images/best_model.hdf5')\r\n",
        "model_mn.load_weights(path_to_mobilenet_parameters_file)\r\n",
        "# test_predict = model_mn.predict(test_images, batch_size=10, verbose=0)\r\n",
        "test_loss_mn, test_acc_mn = model_mn.evaluate(test_images, test_labels)"
      ],
      "execution_count": 194,
      "outputs": [
        {
          "output_type": "stream",
          "text": [
            "37/37 [==============================] - 1s 31ms/step - loss: 0.6808 - accuracy: 0.5385\n"
          ],
          "name": "stdout"
        }
      ]
    },
    {
      "cell_type": "code",
      "metadata": {
        "id": "S9skg_wshQUz"
      },
      "source": [
        "# model_mn.summary()"
      ],
      "execution_count": 195,
      "outputs": []
    },
    {
      "cell_type": "markdown",
      "metadata": {
        "id": "d-G5EELce9gf"
      },
      "source": [
        "### SqueezeNet"
      ]
    },
    {
      "cell_type": "markdown",
      "metadata": {
        "id": "ibaKV-lrrYcl"
      },
      "source": [
        "will continue on SqueezeNet as future work."
      ]
    },
    {
      "cell_type": "code",
      "metadata": {
        "id": "xLfL4akBrhEN"
      },
      "source": [
        ""
      ],
      "execution_count": 195,
      "outputs": []
    }
  ]
}